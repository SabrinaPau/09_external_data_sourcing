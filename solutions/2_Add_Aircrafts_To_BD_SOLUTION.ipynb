{
 "cells": [
  {
   "cell_type": "markdown",
   "id": "ad841094",
   "metadata": {},
   "source": [
    "<img src=\"../images/Plane.jpeg\" width=\"800\">"
   ]
  },
  {
   "cell_type": "markdown",
   "id": "f7fcbc95",
   "metadata": {},
   "source": [
    "# Inserting external data sources into PostgreSQL - Aircrafts\n",
    "In the last jupyter notebook we learned how to import a csv file directly from the web into Python and write its data into our PostgreSQL database. In this notebook we're going apply similar steps, but this time we're going to add data about aircrafts to our database. Also, instead of importing the data directly from the web, we're going to save it to our local file storage since the files are stored in a zip file. This means we will be unpacking the zip file first, then bring the data into the right shape and format through subsetting, merging and cleaning and ultimately insert it into our PostgreSQL database."
   ]
  },
  {
   "cell_type": "markdown",
   "id": "8ecceaae",
   "metadata": {},
   "source": [
    "## Downloading aircraft zip file from the web\n",
    "The aircraft data we're going to work with can be downloaded from the Federal Aviation Administration website. Check out this [link](https://www.faa.gov/licenses_certificates/aircraft_certification/aircraft_registry/releasable_aircraft_download/) to find a description of the data as well as links for downloading either the entire database or yearly data.  \n",
    "\n",
    "We will be downloading the entire database into a folder called data. The folder does not exist yet in the repository so our first task is to create it.  \n",
    "Next we're going to create the download url and set the download path to the data folder we just created."
   ]
  },
  {
   "cell_type": "code",
   "execution_count": 2,
   "id": "273faaa4",
   "metadata": {},
   "outputs": [
    {
     "name": "stdout",
     "output_type": "stream",
     "text": [
      "mkdir: data/: File exists\n"
     ]
    }
   ],
   "source": [
    "# Create a new folder in your repo called 'data'. You can use '!' to run terminal commands from your notebook.\n",
    "\n",
    "# Specifies path for saving file\n",
    "path ='data/' \n",
    "# Create the data folder\n",
    "!mkdir {path}\n",
    "\n",
    "# add your path to .gitignore so that you do not upload data to github\n",
    "!echo {path} >> .gitignore"
   ]
  },
  {
   "cell_type": "code",
   "execution_count": 3,
   "id": "65b8b1c2",
   "metadata": {},
   "outputs": [],
   "source": [
    "# Create download URL\n",
    "zip_file = 'ReleasableAircraft.zip'\n",
    "url = f'https://registry.faa.gov/database/{zip_file}'"
   ]
  },
  {
   "cell_type": "markdown",
   "id": "a38755dc",
   "metadata": {},
   "source": [
    "In order to download the file, we need to import a package called <ins>requests</ins>. This library specialises in working with data from the web.  \n",
    "Complete the code below and import the requests package."
   ]
  },
  {
   "cell_type": "code",
   "execution_count": 4,
   "id": "cf99d71e",
   "metadata": {},
   "outputs": [],
   "source": [
    "# Import requests package\n",
    "import requests\n"
   ]
  },
  {
   "cell_type": "markdown",
   "id": "1c998403",
   "metadata": {},
   "source": [
    "Now it's time to download the Aircraft Registration Database and save it to our the previously set download path. Since we want to get the files from the web to our local file storage, we have to send a GET request.  \n",
    "Use the <ins>get()</ins> function and pass it the url we created earlier. In a second step we're writing the files to our local file storage.\n",
    "The file is ~60MB, so depending on your internet speed this might take a few seconds."
   ]
  },
  {
   "cell_type": "code",
   "execution_count": 5,
   "id": "1aab88d2",
   "metadata": {},
   "outputs": [],
   "source": [
    "# Download the database\n",
    "r = requests.get(url)\n",
    "\n",
    "# Save database to local file storage\n",
    "with open(path+zip_file, 'wb') as f:\n",
    "    f.write(r.content)"
   ]
  },
  {
   "cell_type": "markdown",
   "id": "f348387b",
   "metadata": {},
   "source": [
    "To make sure the file was downloaded successfully, go to the data folder in this repository and check its content. The folder should have a file called ReleasableAircraft.zip.  \n",
    "\n",
    "The next steps are to unpack the zip file and load the necessary files into Python. Conveniently there is a package to make unpacking a zip file in python easy, it's called <ins>zipfile</ins>.  \n",
    "\n",
    "Complete the code below and import the zipfile package."
   ]
  },
  {
   "cell_type": "code",
   "execution_count": 6,
   "id": "aea0b322",
   "metadata": {},
   "outputs": [],
   "source": [
    "# Import zipfile package\n",
    "import zipfile"
   ]
  },
  {
   "cell_type": "markdown",
   "id": "60e44821",
   "metadata": {},
   "source": [
    "Now it's time to unpack the zip file. First, we're going to use the <ins>ZipFile()</ins> function and pass it  the path to the file as its first argument. As the second argument, in order to read an existing file, we pass it the parameter 'r'. To extract the ZipFile object we can either use the <ins>extract()</ins> function, to extract a single file, or the <ins>extractall()</ins> function, to extract all files from the archive.  \n",
    "\n",
    "Complete the code below and either extract all files or only the MASTER.txt, ACFTREF.txt and ardata.pdf file using the extract() or extractall() function respectively."
   ]
  },
  {
   "cell_type": "code",
   "execution_count": 7,
   "id": "54244dd6",
   "metadata": {},
   "outputs": [],
   "source": [
    "# Unzip zip file using zipfile.ZipFile()\n",
    "data = zipfile.ZipFile(path+zip_file, 'r')"
   ]
  },
  {
   "cell_type": "code",
   "execution_count": 8,
   "id": "355193f4",
   "metadata": {},
   "outputs": [],
   "source": [
    "# Extract MASTER.txt, ACFTREF.txt and ardata.pdf\n",
    "members = ['MASTER.txt', 'ACFTREF.txt', 'ardata.pdf']\n",
    "\n",
    "for member in members:\n",
    "    data.extract(member, path)"
   ]
  },
  {
   "cell_type": "markdown",
   "id": "53f55ec0",
   "metadata": {},
   "source": [
    "We can use the file explorer in vs code to take a quick peak at the files we just extracted. In the Explorer expand the 'data' folder and click on the file MASTER.TXT to get a quick feel for the data."
   ]
  },
  {
   "cell_type": "markdown",
   "id": "57d7cf39",
   "metadata": {},
   "source": [
    "Good job! MASTER.txt contains comma separated values and lists all registered aircrafts, exactly what we need. \n",
    "Now that we have the necessary files it's time to load them into Python.\n",
    "One thing we notice in the file is there are some missing values that are filled with multiple spaces, we will have to deal with that when we load it into Python. Which is what we will do now!\n",
    "Complete the code below, import the MASTER.txt file and save it in a variable called master_df."
   ]
  },
  {
   "cell_type": "code",
   "execution_count": 9,
   "id": "5cedc831",
   "metadata": {},
   "outputs": [
    {
     "data": {
      "text/html": [
       "<div>\n",
       "<style scoped>\n",
       "    .dataframe tbody tr th:only-of-type {\n",
       "        vertical-align: middle;\n",
       "    }\n",
       "\n",
       "    .dataframe tbody tr th {\n",
       "        vertical-align: top;\n",
       "    }\n",
       "\n",
       "    .dataframe thead th {\n",
       "        text-align: right;\n",
       "    }\n",
       "</style>\n",
       "<table border=\"1\" class=\"dataframe\">\n",
       "  <thead>\n",
       "    <tr style=\"text-align: right;\">\n",
       "      <th></th>\n",
       "      <th>N-NUMBER</th>\n",
       "      <th>SERIAL NUMBER</th>\n",
       "      <th>MFR MDL CODE</th>\n",
       "      <th>ENG MFR MDL</th>\n",
       "      <th>YEAR MFR</th>\n",
       "      <th>TYPE REGISTRANT</th>\n",
       "      <th>NAME</th>\n",
       "      <th>STREET</th>\n",
       "      <th>STREET2</th>\n",
       "      <th>CITY</th>\n",
       "      <th>...</th>\n",
       "      <th>OTHER NAMES(2)</th>\n",
       "      <th>OTHER NAMES(3)</th>\n",
       "      <th>OTHER NAMES(4)</th>\n",
       "      <th>OTHER NAMES(5)</th>\n",
       "      <th>EXPIRATION DATE</th>\n",
       "      <th>UNIQUE ID</th>\n",
       "      <th>KIT MFR</th>\n",
       "      <th>KIT MODEL</th>\n",
       "      <th>MODE S CODE HEX</th>\n",
       "      <th>Unnamed: 34</th>\n",
       "    </tr>\n",
       "  </thead>\n",
       "  <tbody>\n",
       "    <tr>\n",
       "      <th>0</th>\n",
       "      <td>1</td>\n",
       "      <td>680-0519</td>\n",
       "      <td>2076811</td>\n",
       "      <td>52041</td>\n",
       "      <td>2014</td>\n",
       "      <td>7</td>\n",
       "      <td>TENAX AEROSPACE LLC                           ...</td>\n",
       "      <td>124 ONE MADISON PLZ STE 2100</td>\n",
       "      <td></td>\n",
       "      <td>MADISON</td>\n",
       "      <td>...</td>\n",
       "      <td>...</td>\n",
       "      <td>...</td>\n",
       "      <td>...</td>\n",
       "      <td>...</td>\n",
       "      <td>20241130</td>\n",
       "      <td>1141371</td>\n",
       "      <td></td>\n",
       "      <td></td>\n",
       "      <td>A00001</td>\n",
       "      <td>NaN</td>\n",
       "    </tr>\n",
       "    <tr>\n",
       "      <th>1</th>\n",
       "      <td>100</td>\n",
       "      <td>5334</td>\n",
       "      <td>7100510</td>\n",
       "      <td>17003</td>\n",
       "      <td>1940</td>\n",
       "      <td>1</td>\n",
       "      <td>BENE MARY D                                   ...</td>\n",
       "      <td>PO BOX 329</td>\n",
       "      <td></td>\n",
       "      <td>KETCHUM</td>\n",
       "      <td>...</td>\n",
       "      <td>...</td>\n",
       "      <td>...</td>\n",
       "      <td>...</td>\n",
       "      <td>...</td>\n",
       "      <td>20230430</td>\n",
       "      <td>600060</td>\n",
       "      <td></td>\n",
       "      <td></td>\n",
       "      <td>A004B3</td>\n",
       "      <td>NaN</td>\n",
       "    </tr>\n",
       "    <tr>\n",
       "      <th>2</th>\n",
       "      <td>10001</td>\n",
       "      <td>A28</td>\n",
       "      <td>9601202</td>\n",
       "      <td>67007</td>\n",
       "      <td>1928</td>\n",
       "      <td>1</td>\n",
       "      <td>STOOS ROBERT A                                ...</td>\n",
       "      <td>PO BOX 1056</td>\n",
       "      <td></td>\n",
       "      <td>LAKELAND</td>\n",
       "      <td>...</td>\n",
       "      <td>...</td>\n",
       "      <td>...</td>\n",
       "      <td>...</td>\n",
       "      <td>...</td>\n",
       "      <td>20220228</td>\n",
       "      <td>432072</td>\n",
       "      <td></td>\n",
       "      <td></td>\n",
       "      <td>A00726</td>\n",
       "      <td>NaN</td>\n",
       "    </tr>\n",
       "    <tr>\n",
       "      <th>3</th>\n",
       "      <td>10004</td>\n",
       "      <td>T18208245</td>\n",
       "      <td>2072738</td>\n",
       "      <td></td>\n",
       "      <td></td>\n",
       "      <td>7</td>\n",
       "      <td>ETOS AIR LLC                                  ...</td>\n",
       "      <td>PO BOX 288</td>\n",
       "      <td></td>\n",
       "      <td>NEW LONDON</td>\n",
       "      <td>...</td>\n",
       "      <td>...</td>\n",
       "      <td>...</td>\n",
       "      <td>...</td>\n",
       "      <td>...</td>\n",
       "      <td>20250331</td>\n",
       "      <td>102879</td>\n",
       "      <td></td>\n",
       "      <td></td>\n",
       "      <td>A00729</td>\n",
       "      <td>NaN</td>\n",
       "    </tr>\n",
       "    <tr>\n",
       "      <th>4</th>\n",
       "      <td>10006</td>\n",
       "      <td>BG-72</td>\n",
       "      <td>1152020</td>\n",
       "      <td>17026</td>\n",
       "      <td>1955</td>\n",
       "      <td>1</td>\n",
       "      <td>COUTCHES ROBERT HERCULES DBA                  ...</td>\n",
       "      <td>550 AIRWAY BLVD</td>\n",
       "      <td></td>\n",
       "      <td>LIVERMORE</td>\n",
       "      <td>...</td>\n",
       "      <td>...</td>\n",
       "      <td>...</td>\n",
       "      <td>...</td>\n",
       "      <td>...</td>\n",
       "      <td>20240229</td>\n",
       "      <td>480110</td>\n",
       "      <td></td>\n",
       "      <td></td>\n",
       "      <td>A0072B</td>\n",
       "      <td>NaN</td>\n",
       "    </tr>\n",
       "  </tbody>\n",
       "</table>\n",
       "<p>5 rows × 35 columns</p>\n",
       "</div>"
      ],
      "text/plain": [
       "  N-NUMBER                   SERIAL NUMBER MFR MDL CODE ENG MFR MDL YEAR MFR  \\\n",
       "0    1      680-0519                            2076811       52041     2014   \n",
       "1    100    5334                                7100510       17003     1940   \n",
       "2    10001  A28                                 9601202       67007     1928   \n",
       "3    10004  T18208245                           2072738                        \n",
       "4    10006  BG-72                               1152020       17026     1955   \n",
       "\n",
       "  TYPE REGISTRANT                                               NAME  \\\n",
       "0               7  TENAX AEROSPACE LLC                           ...   \n",
       "1               1  BENE MARY D                                   ...   \n",
       "2               1  STOOS ROBERT A                                ...   \n",
       "3               7  ETOS AIR LLC                                  ...   \n",
       "4               1  COUTCHES ROBERT HERCULES DBA                  ...   \n",
       "\n",
       "                              STREET                            STREET2  \\\n",
       "0  124 ONE MADISON PLZ STE 2100                                           \n",
       "1  PO BOX 329                                                             \n",
       "2  PO BOX 1056                                                            \n",
       "3  PO BOX 288                                                             \n",
       "4  550 AIRWAY BLVD                                                        \n",
       "\n",
       "                 CITY  ...                                     OTHER NAMES(2)  \\\n",
       "0  MADISON             ...                                                ...   \n",
       "1  KETCHUM             ...                                                ...   \n",
       "2  LAKELAND            ...                                                ...   \n",
       "3  NEW LONDON          ...                                                ...   \n",
       "4  LIVERMORE           ...                                                ...   \n",
       "\n",
       "                                      OTHER NAMES(3)  \\\n",
       "0                                                ...   \n",
       "1                                                ...   \n",
       "2                                                ...   \n",
       "3                                                ...   \n",
       "4                                                ...   \n",
       "\n",
       "                                      OTHER NAMES(4)  \\\n",
       "0                                                ...   \n",
       "1                                                ...   \n",
       "2                                                ...   \n",
       "3                                                ...   \n",
       "4                                                ...   \n",
       "\n",
       "                                      OTHER NAMES(5) EXPIRATION DATE  \\\n",
       "0                                                ...        20241130   \n",
       "1                                                ...        20230430   \n",
       "2                                                ...        20220228   \n",
       "3                                                ...        20250331   \n",
       "4                                                ...        20240229   \n",
       "\n",
       "   UNIQUE ID                         KIT MFR             KIT MODEL  \\\n",
       "0    1141371                                                         \n",
       "1     600060                                                         \n",
       "2     432072                                                         \n",
       "3     102879                                                         \n",
       "4     480110                                                         \n",
       "\n",
       "  MODE S CODE HEX  Unnamed: 34  \n",
       "0      A00001              NaN  \n",
       "1      A004B3              NaN  \n",
       "2      A00726              NaN  \n",
       "3      A00729              NaN  \n",
       "4      A0072B              NaN  \n",
       "\n",
       "[5 rows x 35 columns]"
      ]
     },
     "execution_count": 9,
     "metadata": {},
     "output_type": "execute_result"
    }
   ],
   "source": [
    "# Import the necessary package\n",
    "import pandas as pd\n",
    "\n",
    "# Read MASTER.txt file and assign to variable master, enable the parameter 'skipinitialspace'\n",
    "master = pd.read_csv(path+'MASTER.txt')\n",
    "\n",
    "# Print first 5 rows\n",
    "master.head(5)\n"
   ]
  },
  {
   "cell_type": "markdown",
   "id": "67caddd9",
   "metadata": {},
   "source": [
    "Next, let's have a look at the column names.  \n",
    "Complete the code below and print all column names with their non-null counts and data types."
   ]
  },
  {
   "cell_type": "code",
   "execution_count": 10,
   "id": "4013a35a",
   "metadata": {},
   "outputs": [
    {
     "name": "stdout",
     "output_type": "stream",
     "text": [
      "<class 'pandas.core.frame.DataFrame'>\n",
      "RangeIndex: 287562 entries, 0 to 287561\n",
      "Data columns (total 35 columns):\n",
      " #   Column            Non-Null Count   Dtype  \n",
      "---  ------            --------------   -----  \n",
      " 0   N-NUMBER          287562 non-null  object \n",
      " 1   SERIAL NUMBER     287562 non-null  object \n",
      " 2   MFR MDL CODE      287562 non-null  object \n",
      " 3   ENG MFR MDL       287562 non-null  object \n",
      " 4   YEAR MFR          287562 non-null  object \n",
      " 5   TYPE REGISTRANT   287562 non-null  object \n",
      " 6   NAME              287562 non-null  object \n",
      " 7   STREET            287562 non-null  object \n",
      " 8   STREET2           287562 non-null  object \n",
      " 9   CITY              287562 non-null  object \n",
      " 10  STATE             287562 non-null  object \n",
      " 11  ZIP CODE          287562 non-null  object \n",
      " 12  REGION            287562 non-null  object \n",
      " 13  COUNTY            287562 non-null  object \n",
      " 14  COUNTRY           287562 non-null  object \n",
      " 15  LAST ACTION DATE  287562 non-null  int64  \n",
      " 16  CERT ISSUE DATE   287562 non-null  object \n",
      " 17  CERTIFICATION     287562 non-null  object \n",
      " 18  TYPE AIRCRAFT     287562 non-null  object \n",
      " 19  TYPE ENGINE       287562 non-null  int64  \n",
      " 20  STATUS CODE       287562 non-null  object \n",
      " 21  MODE S CODE       287562 non-null  int64  \n",
      " 22  FRACT OWNER       287562 non-null  object \n",
      " 23  AIR WORTH DATE    287562 non-null  object \n",
      " 24  OTHER NAMES(1)    287562 non-null  object \n",
      " 25  OTHER NAMES(2)    287562 non-null  object \n",
      " 26  OTHER NAMES(3)    287562 non-null  object \n",
      " 27  OTHER NAMES(4)    287562 non-null  object \n",
      " 28  OTHER NAMES(5)    287562 non-null  object \n",
      " 29  EXPIRATION DATE   287562 non-null  object \n",
      " 30  UNIQUE ID         287562 non-null  int64  \n",
      " 31  KIT MFR           287562 non-null  object \n",
      " 32   KIT MODEL        287562 non-null  object \n",
      " 33  MODE S CODE HEX   287562 non-null  object \n",
      " 34  Unnamed: 34       0 non-null       float64\n",
      "dtypes: float64(1), int64(4), object(30)\n",
      "memory usage: 76.8+ MB\n"
     ]
    }
   ],
   "source": [
    "# Print master info\n",
    "master.info()"
   ]
  },
  {
   "cell_type": "markdown",
   "id": "3a34f100",
   "metadata": {},
   "source": [
    "## EDA & data preparation\n",
    "In total we have 287562 rows across 35 columns, some null values (although none in the ID column) and a mix of object and integer data types (if you're numbers are slightly different, this is because the database is updated regularly with new aircraft). \n",
    "All column names are uppercase and separated by spaces. As analysts we already know that this is not a preferred format. So before we continue let's make all columns lowercase and replace the spaces with underscores.  \n",
    "Complete the code below and transform all column names from uppercase to lowercase."
   ]
  },
  {
   "cell_type": "code",
   "execution_count": 11,
   "id": "1586f5a3",
   "metadata": {},
   "outputs": [
    {
     "data": {
      "text/plain": [
       "Index(['n-number', 'serial number', 'mfr mdl code', 'eng mfr mdl', 'year mfr',\n",
       "       'type registrant', 'name', 'street', 'street2', 'city', 'state',\n",
       "       'zip code', 'region', 'county', 'country', 'last action date',\n",
       "       'cert issue date', 'certification', 'type aircraft', 'type engine',\n",
       "       'status code', 'mode s code', 'fract owner', 'air worth date',\n",
       "       'other names(1)', 'other names(2)', 'other names(3)', 'other names(4)',\n",
       "       'other names(5)', 'expiration date', 'unique id', 'kit mfr',\n",
       "       ' kit model', 'mode s code hex', 'unnamed: 34'],\n",
       "      dtype='object')"
      ]
     },
     "execution_count": 11,
     "metadata": {},
     "output_type": "execute_result"
    }
   ],
   "source": [
    "# Make column names lowercase\n",
    "master.columns = [x.lower() for x in master.columns]\n",
    "\n",
    "# Print all column names\n",
    "master.columns"
   ]
  },
  {
   "cell_type": "markdown",
   "id": "3638c5be",
   "metadata": {},
   "source": [
    "Next, we're going to replace spaces with underscores."
   ]
  },
  {
   "cell_type": "code",
   "execution_count": 12,
   "id": "de19dab0",
   "metadata": {},
   "outputs": [
    {
     "data": {
      "text/plain": [
       "Index(['n-number', 'serial_number', 'mfr_mdl_code', 'eng_mfr_mdl', 'year_mfr',\n",
       "       'type_registrant', 'name', 'street', 'street2', 'city', 'state',\n",
       "       'zip_code', 'region', 'county', 'country', 'last_action_date',\n",
       "       'cert_issue_date', 'certification', 'type_aircraft', 'type_engine',\n",
       "       'status_code', 'mode_s_code', 'fract_owner', 'air_worth_date',\n",
       "       'other_names(1)', 'other_names(2)', 'other_names(3)', 'other_names(4)',\n",
       "       'other_names(5)', 'expiration_date', 'unique_id', 'kit_mfr',\n",
       "       '_kit_model', 'mode_s_code_hex', 'unnamed:_34'],\n",
       "      dtype='object')"
      ]
     },
     "execution_count": 12,
     "metadata": {},
     "output_type": "execute_result"
    }
   ],
   "source": [
    "# Replace spaces with underscores\n",
    "master.columns = [x.replace(' ', '_') for x in master.columns]\n",
    "\n",
    "# Print all column names\n",
    "master.columns"
   ]
  },
  {
   "cell_type": "markdown",
   "id": "f65fa000",
   "metadata": {},
   "source": [
    "Perfect, now that the column names are in a consistent and clean format we can move on to working with the data. Even though the MASTER.txt file has 35 columns, we're only going to need 3: \n",
    "1. n-number: the tail number of the aircraft\n",
    "2. mfr_mdl_code: the manufacturer model code\n",
    "3. year_mfr: the year the aircraft was manufactured\n",
    "\n",
    "Complete the code below, create a subset of the master data that only includes the above mentioned columns and reassign it to the master variable."
   ]
  },
  {
   "cell_type": "code",
   "execution_count": 13,
   "id": "16648378",
   "metadata": {},
   "outputs": [
    {
     "data": {
      "text/plain": [
       "Index(['n-number', 'mfr_mdl_code', 'year_mfr'], dtype='object')"
      ]
     },
     "execution_count": 13,
     "metadata": {},
     "output_type": "execute_result"
    }
   ],
   "source": [
    "# Create subset with n-number, mfr_mdl_code and year_mfg columns\n",
    "master = master[['n-number', 'mfr_mdl_code', 'year_mfr']]\n",
    "\n",
    "# Print all column names\n",
    "master.columns"
   ]
  },
  {
   "cell_type": "markdown",
   "id": "9aa54c66",
   "metadata": {},
   "source": [
    "Let's clean up the column names a bit more.\n",
    "Complete the code below and rename the columns to: nnum, code and year."
   ]
  },
  {
   "cell_type": "code",
   "execution_count": 14,
   "id": "b2b27ed3",
   "metadata": {},
   "outputs": [
    {
     "data": {
      "text/plain": [
       "Index(['nnum', 'code', 'year'], dtype='object')"
      ]
     },
     "execution_count": 14,
     "metadata": {},
     "output_type": "execute_result"
    }
   ],
   "source": [
    "# Rename columns to nnum, code and year\n",
    "master.rename(columns={'n-number': 'nnum',\n",
    "                        'mfr_mdl_code': 'code',\n",
    "                        'year_mfr': 'year'}, inplace=True)\n",
    "\n",
    "\n",
    "# Print all column names\n",
    "master.columns"
   ]
  },
  {
   "cell_type": "markdown",
   "id": "0dfd45fc",
   "metadata": {},
   "source": [
    "While we're at it, we should remove any leading and trailing whitespace in our nnum and code column.  \n",
    "Complete the code below and remove any whitepsace from the nnum and code column."
   ]
  },
  {
   "cell_type": "code",
   "execution_count": 15,
   "id": "3d593b18",
   "metadata": {},
   "outputs": [],
   "source": [
    "# Remove whitespace from nnum column\n",
    "master.nnum = master.nnum.str.strip()\n",
    "\n",
    "# Remove whitespace from code column\n",
    "master.code = master.code.str.strip()"
   ]
  },
  {
   "cell_type": "markdown",
   "id": "d21c187c",
   "metadata": {},
   "source": [
    "Great job so far! Now we have a file that contains a list of all aircrafts, their manufacturer model code and the year it was manufactured. I agree, this is not a lot of information but we're also not done yet. We still haven't looked at the other file: ACFTREF.txt. This file consists of detailed information for each aircraft such as the number of engines, engine type, number of seats etc. Let's import it and have a look!  \n",
    "Complete the code below and import the ACFTREF.txt file. Save it in a variable called ref and print its first 5 rows."
   ]
  },
  {
   "cell_type": "code",
   "execution_count": 16,
   "id": "9cdfe58f",
   "metadata": {},
   "outputs": [
    {
     "data": {
      "text/html": [
       "<div>\n",
       "<style scoped>\n",
       "    .dataframe tbody tr th:only-of-type {\n",
       "        vertical-align: middle;\n",
       "    }\n",
       "\n",
       "    .dataframe tbody tr th {\n",
       "        vertical-align: top;\n",
       "    }\n",
       "\n",
       "    .dataframe thead th {\n",
       "        text-align: right;\n",
       "    }\n",
       "</style>\n",
       "<table border=\"1\" class=\"dataframe\">\n",
       "  <thead>\n",
       "    <tr style=\"text-align: right;\">\n",
       "      <th></th>\n",
       "      <th>CODE</th>\n",
       "      <th>MFR</th>\n",
       "      <th>MODEL</th>\n",
       "      <th>TYPE-ACFT</th>\n",
       "      <th>TYPE-ENG</th>\n",
       "      <th>AC-CAT</th>\n",
       "      <th>BUILD-CERT-IND</th>\n",
       "      <th>NO-ENG</th>\n",
       "      <th>NO-SEATS</th>\n",
       "      <th>AC-WEIGHT</th>\n",
       "      <th>SPEED</th>\n",
       "      <th>TC-DATA-SHEET</th>\n",
       "      <th>TC-DATA-HOLDER</th>\n",
       "      <th>Unnamed: 13</th>\n",
       "    </tr>\n",
       "  </thead>\n",
       "  <tbody>\n",
       "    <tr>\n",
       "      <th>0</th>\n",
       "      <td>0020901</td>\n",
       "      <td>AAR AIRLIFT GROUP INC</td>\n",
       "      <td>UH-60A</td>\n",
       "      <td>6</td>\n",
       "      <td>3</td>\n",
       "      <td>1</td>\n",
       "      <td>0</td>\n",
       "      <td>2</td>\n",
       "      <td>15</td>\n",
       "      <td>CLASS 3</td>\n",
       "      <td>0</td>\n",
       "      <td></td>\n",
       "      <td>...</td>\n",
       "      <td>NaN</td>\n",
       "    </tr>\n",
       "    <tr>\n",
       "      <th>1</th>\n",
       "      <td>0030109</td>\n",
       "      <td>EXLINE ACE-C</td>\n",
       "      <td>ACE-C</td>\n",
       "      <td>4</td>\n",
       "      <td>1</td>\n",
       "      <td>1</td>\n",
       "      <td>1</td>\n",
       "      <td>1</td>\n",
       "      <td>1</td>\n",
       "      <td>CLASS 1</td>\n",
       "      <td>82</td>\n",
       "      <td></td>\n",
       "      <td>...</td>\n",
       "      <td>NaN</td>\n",
       "    </tr>\n",
       "    <tr>\n",
       "      <th>2</th>\n",
       "      <td>003010D</td>\n",
       "      <td>DELEBAUGH</td>\n",
       "      <td>P</td>\n",
       "      <td>4</td>\n",
       "      <td>1</td>\n",
       "      <td>1</td>\n",
       "      <td>1</td>\n",
       "      <td>1</td>\n",
       "      <td>1</td>\n",
       "      <td>CLASS 1</td>\n",
       "      <td>82</td>\n",
       "      <td></td>\n",
       "      <td>...</td>\n",
       "      <td>NaN</td>\n",
       "    </tr>\n",
       "    <tr>\n",
       "      <th>3</th>\n",
       "      <td>003010H</td>\n",
       "      <td>DAL PORTO</td>\n",
       "      <td>BABY ACE D</td>\n",
       "      <td>4</td>\n",
       "      <td>1</td>\n",
       "      <td>1</td>\n",
       "      <td>1</td>\n",
       "      <td>1</td>\n",
       "      <td>1</td>\n",
       "      <td>CLASS 1</td>\n",
       "      <td>82</td>\n",
       "      <td></td>\n",
       "      <td>...</td>\n",
       "      <td>NaN</td>\n",
       "    </tr>\n",
       "    <tr>\n",
       "      <th>4</th>\n",
       "      <td>003010P</td>\n",
       "      <td>DUNN</td>\n",
       "      <td>BABY ACE</td>\n",
       "      <td>4</td>\n",
       "      <td>1</td>\n",
       "      <td>1</td>\n",
       "      <td>1</td>\n",
       "      <td>1</td>\n",
       "      <td>1</td>\n",
       "      <td>CLASS 1</td>\n",
       "      <td>82</td>\n",
       "      <td></td>\n",
       "      <td>...</td>\n",
       "      <td>NaN</td>\n",
       "    </tr>\n",
       "  </tbody>\n",
       "</table>\n",
       "</div>"
      ],
      "text/plain": [
       "      CODE                             MFR                 MODEL TYPE-ACFT  \\\n",
       "0  0020901  AAR AIRLIFT GROUP INC           UH-60A                       6   \n",
       "1  0030109  EXLINE ACE-C                    ACE-C                        4   \n",
       "2  003010D  DELEBAUGH                       P                            4   \n",
       "3  003010H  DAL PORTO                       BABY ACE D                   4   \n",
       "4  003010P  DUNN                            BABY ACE                     4   \n",
       "\n",
       "   TYPE-ENG  AC-CAT  BUILD-CERT-IND  NO-ENG  NO-SEATS AC-WEIGHT  SPEED  \\\n",
       "0         3       1               0       2        15   CLASS 3      0   \n",
       "1         1       1               1       1         1   CLASS 1     82   \n",
       "2         1       1               1       1         1   CLASS 1     82   \n",
       "3         1       1               1       1         1   CLASS 1     82   \n",
       "4         1       1               1       1         1   CLASS 1     82   \n",
       "\n",
       "     TC-DATA-SHEET                                     TC-DATA-HOLDER  \\\n",
       "0                                                                 ...   \n",
       "1                                                                 ...   \n",
       "2                                                                 ...   \n",
       "3                                                                 ...   \n",
       "4                                                                 ...   \n",
       "\n",
       "   Unnamed: 13  \n",
       "0          NaN  \n",
       "1          NaN  \n",
       "2          NaN  \n",
       "3          NaN  \n",
       "4          NaN  "
      ]
     },
     "execution_count": 16,
     "metadata": {},
     "output_type": "execute_result"
    }
   ],
   "source": [
    "# Read ACFTREF.txt file and assign to variable ref\n",
    "ref = pd.read_csv(path+'ACFTREF.txt')\n",
    "\n",
    "# Print first 5 rows\n",
    "ref.head(5)"
   ]
  },
  {
   "cell_type": "markdown",
   "id": "07642811",
   "metadata": {},
   "source": [
    "Just like we did before, let's have a look at the column names, null values and data types."
   ]
  },
  {
   "cell_type": "code",
   "execution_count": 17,
   "id": "8598a924",
   "metadata": {},
   "outputs": [
    {
     "name": "stdout",
     "output_type": "stream",
     "text": [
      "<class 'pandas.core.frame.DataFrame'>\n",
      "RangeIndex: 89022 entries, 0 to 89021\n",
      "Data columns (total 14 columns):\n",
      " #   Column          Non-Null Count  Dtype  \n",
      "---  ------          --------------  -----  \n",
      " 0   CODE            89022 non-null  object \n",
      " 1   MFR             89022 non-null  object \n",
      " 2   MODEL           89022 non-null  object \n",
      " 3   TYPE-ACFT       89022 non-null  object \n",
      " 4   TYPE-ENG        89022 non-null  int64  \n",
      " 5   AC-CAT          89022 non-null  int64  \n",
      " 6   BUILD-CERT-IND  89022 non-null  int64  \n",
      " 7   NO-ENG          89022 non-null  int64  \n",
      " 8   NO-SEATS        89022 non-null  int64  \n",
      " 9   AC-WEIGHT       89022 non-null  object \n",
      " 10  SPEED           89022 non-null  int64  \n",
      " 11  TC-DATA-SHEET   89022 non-null  object \n",
      " 12  TC-DATA-HOLDER  89022 non-null  object \n",
      " 13  Unnamed: 13     0 non-null      float64\n",
      "dtypes: float64(1), int64(6), object(7)\n",
      "memory usage: 9.5+ MB\n"
     ]
    }
   ],
   "source": [
    "# Print table info\n",
    "ref.info()"
   ]
  },
  {
   "cell_type": "markdown",
   "id": "fad60a7b",
   "metadata": {},
   "source": [
    "This time we have 14 columns, no null values and a mix of object and integer data types. On top of that all column names are uppercase again, but this time they're seperated with a dash. So before we continue let's make all columns lowercase and replace the dashes with underscores.  \n",
    "Complete the code below and transform all column names from uppercase to lowercase."
   ]
  },
  {
   "cell_type": "code",
   "execution_count": 18,
   "id": "f48f35ce",
   "metadata": {},
   "outputs": [
    {
     "data": {
      "text/plain": [
       "Index(['code', 'mfr', 'model', 'type-acft', 'type-eng', 'ac-cat',\n",
       "       'build-cert-ind', 'no-eng', 'no-seats', 'ac-weight', 'speed',\n",
       "       'tc-data-sheet', 'tc-data-holder', 'unnamed: 13'],\n",
       "      dtype='object')"
      ]
     },
     "execution_count": 18,
     "metadata": {},
     "output_type": "execute_result"
    }
   ],
   "source": [
    "# Make column names lowercase\n",
    "ref.columns = [x.lower() for x in ref.columns]\n",
    "\n",
    "# Print all column names\n",
    "ref.columns"
   ]
  },
  {
   "cell_type": "markdown",
   "id": "bf3de76f",
   "metadata": {},
   "source": [
    "Next, we're going to replace spaces with underscores."
   ]
  },
  {
   "cell_type": "code",
   "execution_count": 19,
   "id": "98cd3e00",
   "metadata": {},
   "outputs": [
    {
     "data": {
      "text/plain": [
       "Index(['code', 'mfr', 'model', 'type_acft', 'type_eng', 'ac_cat',\n",
       "       'build_cert_ind', 'no_eng', 'no_seats', 'ac_weight', 'speed',\n",
       "       'tc_data_sheet', 'tc_data_holder', 'unnamed: 13'],\n",
       "      dtype='object')"
      ]
     },
     "execution_count": 19,
     "metadata": {},
     "output_type": "execute_result"
    }
   ],
   "source": [
    "# Replace spaces with underscores\n",
    "ref.columns = [x.replace('-', '_') for x in ref.columns]\n",
    "\n",
    "# Print all column names\n",
    "ref.columns"
   ]
  },
  {
   "cell_type": "markdown",
   "id": "8679539a",
   "metadata": {},
   "source": [
    "Now the column names are in a format that makes it a lot easier to work with the table. Next we're going to create a subset of the data since we won't be needing all the columns present in the table.\n",
    "Complete the code below and create a subset that only contains the following columns: \n",
    "1. code: aircraft manufacturer, model and series code\n",
    "2. mfr: name of the aircraft manufacturer\n",
    "3. model: name of the aircraft model and series\n",
    "4. type_acft: the id of the aircraft type\n",
    "5. type_eng: the id of the engine type\n",
    "6. no_eng: number of engines on the aircraft\n",
    "7. no_seats: maximum number of seats in the aircraft\n",
    "8. speed: the aircraft average cruising speed\n",
    "\n",
    "Complete the code below and create a subset of the ref data that only includes the above mentioned columns."
   ]
  },
  {
   "cell_type": "code",
   "execution_count": 20,
   "id": "1bf59479",
   "metadata": {},
   "outputs": [
    {
     "data": {
      "text/plain": [
       "Index(['code', 'mfr', 'model', 'type_acft', 'type_eng', 'no_eng', 'no_seats',\n",
       "       'speed'],\n",
       "      dtype='object')"
      ]
     },
     "execution_count": 20,
     "metadata": {},
     "output_type": "execute_result"
    }
   ],
   "source": [
    "# Select columns to keep\n",
    "ref = ref[['code', 'mfr', 'model', 'type_acft', 'type_eng', 'no_eng', 'no_seats', 'speed']]\n",
    "\n",
    "# Print all column names\n",
    "ref.columns"
   ]
  },
  {
   "cell_type": "markdown",
   "id": "90584a89",
   "metadata": {},
   "source": [
    "Great, now we have a subset that only contains the columns we're interested in.  \n",
    "Next, we're going to combine our master and ref dataset on the code column.  \n",
    "Complete the code below and inner join the master and ref dataset on the code column.  \n",
    "Save the combined dataset in a new variable called 'all' and print the dataframe's info."
   ]
  },
  {
   "cell_type": "code",
   "execution_count": 21,
   "id": "cc70fe15",
   "metadata": {},
   "outputs": [
    {
     "name": "stdout",
     "output_type": "stream",
     "text": [
      "<class 'pandas.core.frame.DataFrame'>\n",
      "Int64Index: 287562 entries, 0 to 287561\n",
      "Data columns (total 10 columns):\n",
      " #   Column     Non-Null Count   Dtype \n",
      "---  ------     --------------   ----- \n",
      " 0   nnum       287562 non-null  object\n",
      " 1   code       287562 non-null  object\n",
      " 2   year       287562 non-null  object\n",
      " 3   mfr        287562 non-null  object\n",
      " 4   model      287562 non-null  object\n",
      " 5   type_acft  287562 non-null  object\n",
      " 6   type_eng   287562 non-null  int64 \n",
      " 7   no_eng     287562 non-null  int64 \n",
      " 8   no_seats   287562 non-null  int64 \n",
      " 9   speed      287562 non-null  int64 \n",
      "dtypes: int64(4), object(6)\n",
      "memory usage: 24.1+ MB\n"
     ]
    }
   ],
   "source": [
    "# Inner join master and ref and assign to all\n",
    "all = pd.merge(master, ref, on='code')  # pd.merge performs inner join by default\n",
    "\n",
    "# Print info\n",
    "all.info()"
   ]
  },
  {
   "cell_type": "markdown",
   "id": "75a2bcce",
   "metadata": {},
   "source": [
    "It worked, awesome! Now we have a combined dataset that consists of detailed aircraft information.  Unfortunately, we're not done yet. The two columns type_acft and type_eng only contain ids and no real information about aircraft and engine type. Fortunately, the Federal Aviation Administration includes a documentation file with the database. The file is called ardata.pdf and contains column descriptions as well as values for codes and ids.  \n",
    "\n",
    "Let's translate the type_eng column first. Looking into the documentation we find 12 different engine types with ids ranging from 0 to 11. First we should check whether we find these ids in the type_eng column.  \n",
    "Complete the code below and print a list of all distinct type_eng id values."
   ]
  },
  {
   "cell_type": "code",
   "execution_count": 22,
   "id": "c350c4cc",
   "metadata": {},
   "outputs": [
    {
     "data": {
      "text/plain": [
       "12"
      ]
     },
     "metadata": {},
     "output_type": "display_data"
    },
    {
     "data": {
      "text/plain": [
       "array([ 5,  1,  0,  8,  2,  7,  3,  4, 10, 11,  6,  9])"
      ]
     },
     "metadata": {},
     "output_type": "display_data"
    }
   ],
   "source": [
    "# Print list of distinct type_eng ids\n",
    "display(all.type_eng.nunique())\n",
    "display(all.type_eng.unique())"
   ]
  },
  {
   "cell_type": "markdown",
   "id": "84abdc05",
   "metadata": {},
   "source": [
    "Good, the ids in the type_eng column match with the ones listed in the documentation.  \n",
    "Next, create a list of engine types, called engine, that includes all engine types listed in the documentation. Make sure to store them in the same order they are listed in the documentation."
   ]
  },
  {
   "cell_type": "code",
   "execution_count": 23,
   "id": "c93de2fc",
   "metadata": {},
   "outputs": [],
   "source": [
    "# Create list of engine type names: engine\n",
    "engine = [\"None\", \n",
    "          \"Reciprocating\", \n",
    "          \"Turbo-prop\", \n",
    "          \"Turbo-shaft\", \n",
    "          \"Turbo-jet\",\n",
    "          \"Turbo-fan\", \n",
    "          \"Ramjet\", \n",
    "          \"2 Cycle\", \n",
    "          \"4 Cycle\", \n",
    "          \"Unknown\", \n",
    "          \"Electric\", \n",
    "          \"Rotary\"]"
   ]
  },
  {
   "cell_type": "markdown",
   "id": "2df6ebae",
   "metadata": {},
   "source": [
    "Now we're going to add a new column called engine that has the engine name based on the id in type_eng. "
   ]
  },
  {
   "cell_type": "code",
   "execution_count": 24,
   "id": "63d9726d",
   "metadata": {},
   "outputs": [
    {
     "data": {
      "text/html": [
       "<div>\n",
       "<style scoped>\n",
       "    .dataframe tbody tr th:only-of-type {\n",
       "        vertical-align: middle;\n",
       "    }\n",
       "\n",
       "    .dataframe tbody tr th {\n",
       "        vertical-align: top;\n",
       "    }\n",
       "\n",
       "    .dataframe thead th {\n",
       "        text-align: right;\n",
       "    }\n",
       "</style>\n",
       "<table border=\"1\" class=\"dataframe\">\n",
       "  <thead>\n",
       "    <tr style=\"text-align: right;\">\n",
       "      <th></th>\n",
       "      <th>nnum</th>\n",
       "      <th>code</th>\n",
       "      <th>year</th>\n",
       "      <th>mfr</th>\n",
       "      <th>model</th>\n",
       "      <th>type_acft</th>\n",
       "      <th>type_eng</th>\n",
       "      <th>no_eng</th>\n",
       "      <th>no_seats</th>\n",
       "      <th>speed</th>\n",
       "      <th>engine</th>\n",
       "    </tr>\n",
       "  </thead>\n",
       "  <tbody>\n",
       "    <tr>\n",
       "      <th>0</th>\n",
       "      <td>1</td>\n",
       "      <td>2076811</td>\n",
       "      <td>2014</td>\n",
       "      <td>CESSNA</td>\n",
       "      <td>680</td>\n",
       "      <td>5</td>\n",
       "      <td>5</td>\n",
       "      <td>2</td>\n",
       "      <td>9</td>\n",
       "      <td>0</td>\n",
       "      <td>Turbo-fan</td>\n",
       "    </tr>\n",
       "    <tr>\n",
       "      <th>1</th>\n",
       "      <td>1010N</td>\n",
       "      <td>2076811</td>\n",
       "      <td>2012</td>\n",
       "      <td>CESSNA</td>\n",
       "      <td>680</td>\n",
       "      <td>5</td>\n",
       "      <td>5</td>\n",
       "      <td>2</td>\n",
       "      <td>9</td>\n",
       "      <td>0</td>\n",
       "      <td>Turbo-fan</td>\n",
       "    </tr>\n",
       "    <tr>\n",
       "      <th>2</th>\n",
       "      <td>101EF</td>\n",
       "      <td>2076811</td>\n",
       "      <td>2014</td>\n",
       "      <td>CESSNA</td>\n",
       "      <td>680</td>\n",
       "      <td>5</td>\n",
       "      <td>5</td>\n",
       "      <td>2</td>\n",
       "      <td>9</td>\n",
       "      <td>0</td>\n",
       "      <td>Turbo-fan</td>\n",
       "    </tr>\n",
       "    <tr>\n",
       "      <th>3</th>\n",
       "      <td>101FC</td>\n",
       "      <td>2076811</td>\n",
       "      <td>2007</td>\n",
       "      <td>CESSNA</td>\n",
       "      <td>680</td>\n",
       "      <td>5</td>\n",
       "      <td>5</td>\n",
       "      <td>2</td>\n",
       "      <td>9</td>\n",
       "      <td>0</td>\n",
       "      <td>Turbo-fan</td>\n",
       "    </tr>\n",
       "    <tr>\n",
       "      <th>4</th>\n",
       "      <td>101PG</td>\n",
       "      <td>2076811</td>\n",
       "      <td>2012</td>\n",
       "      <td>CESSNA</td>\n",
       "      <td>680</td>\n",
       "      <td>5</td>\n",
       "      <td>5</td>\n",
       "      <td>2</td>\n",
       "      <td>9</td>\n",
       "      <td>0</td>\n",
       "      <td>Turbo-fan</td>\n",
       "    </tr>\n",
       "  </tbody>\n",
       "</table>\n",
       "</div>"
      ],
      "text/plain": [
       "    nnum     code  year                             mfr                 model  \\\n",
       "0      1  2076811  2014  CESSNA                          680                    \n",
       "1  1010N  2076811  2012  CESSNA                          680                    \n",
       "2  101EF  2076811  2014  CESSNA                          680                    \n",
       "3  101FC  2076811  2007  CESSNA                          680                    \n",
       "4  101PG  2076811  2012  CESSNA                          680                    \n",
       "\n",
       "  type_acft  type_eng  no_eng  no_seats  speed     engine  \n",
       "0         5         5       2         9      0  Turbo-fan  \n",
       "1         5         5       2         9      0  Turbo-fan  \n",
       "2         5         5       2         9      0  Turbo-fan  \n",
       "3         5         5       2         9      0  Turbo-fan  \n",
       "4         5         5       2         9      0  Turbo-fan  "
      ]
     },
     "execution_count": 24,
     "metadata": {},
     "output_type": "execute_result"
    }
   ],
   "source": [
    "# Add engine column and translate type_eng id\n",
    "all['engine'] = [engine[i] for i in all['type_eng'].tolist()]\n",
    "\n",
    "# Print first 5 rows\n",
    "all.head(5)"
   ]
  },
  {
   "cell_type": "markdown",
   "id": "9a61cdb9",
   "metadata": {},
   "source": [
    "Good job, that was certainly not an easy task. Now that we have the actual engine type names in our dataset we don't need the type_eng column anymore.  \n",
    "Complete the code below and delete the type_eng column."
   ]
  },
  {
   "cell_type": "code",
   "execution_count": 25,
   "id": "fcc9e3c2",
   "metadata": {},
   "outputs": [
    {
     "data": {
      "text/plain": [
       "Index(['nnum', 'code', 'year', 'mfr', 'model', 'type_acft', 'no_eng',\n",
       "       'no_seats', 'speed', 'engine'],\n",
       "      dtype='object')"
      ]
     },
     "execution_count": 25,
     "metadata": {},
     "output_type": "execute_result"
    }
   ],
   "source": [
    "# Delete type_eng column\n",
    "all.drop(columns=['type_eng'], inplace=True)\n",
    "\n",
    "# Print all column names\n",
    "all.columns"
   ]
  },
  {
   "cell_type": "markdown",
   "id": "9f0d61df",
   "metadata": {},
   "source": [
    "Now that we know how to translate an id into its actual value, let's do the same for the type_acft column.  \n",
    "First, let's have a look at the documentation. There we find 11 engine types with ids ranging from 1 to 9 and two letters H and O. This complicates things, but before we look further into this let's check the type_afct column values for matching ids first."
   ]
  },
  {
   "cell_type": "code",
   "execution_count": 26,
   "id": "1562847b",
   "metadata": {},
   "outputs": [
    {
     "data": {
      "text/plain": [
       "array(['5', '4', '6', '1', '7', '2', '8', '9', '3', 'O', 'H'],\n",
       "      dtype=object)"
      ]
     },
     "execution_count": 26,
     "metadata": {},
     "output_type": "execute_result"
    }
   ],
   "source": [
    "# Print list of distinct type_acft ids\n",
    "all.type_acft.unique()"
   ]
  },
  {
   "cell_type": "markdown",
   "id": "cee50371",
   "metadata": {},
   "source": [
    "Again, the ids are matching, which is good news. The bad news is we have a mix of numerical ids and letters and because of the letters the column is in a string format. The approach we used with the type_eng column will not work with the current format of the column and ids. There is no reason to get demotivated though, this points us to a more efficient and secure way to fill data based on ids. First, let's create a dictionary to capture the ids and type names. Similar to before, use the documentation file to get the values and this time type them into a dictionary."
   ]
  },
  {
   "cell_type": "code",
   "execution_count": 27,
   "id": "f56f6151",
   "metadata": {},
   "outputs": [],
   "source": [
    "acft_dict= {\n",
    "            '1':'Glider',\n",
    "            '2':'Balloon',\n",
    "            '3':'Blimp/Dirigible',\n",
    "            '4':'Fixed wing single engine', \n",
    "            '5':'Fixed wing multi engine',\n",
    "            '6':'Rotorcraft',\n",
    "            '7':'Weight-shift-control',\n",
    "            '8':'Powered Parachute',\n",
    "            '9':'Gyroplane',\n",
    "            'O':'Hybrid Lift',\n",
    "            'H':'Other'}\n"
   ]
  },
  {
   "cell_type": "markdown",
   "id": "bd7b21c6",
   "metadata": {},
   "source": [
    "The last step is to translate the ids in the type_acft column into aircraft type names.  \n",
    "Complete the code below and add a new column called aircraft_type that consists of the correct aircraft type names based on the id in the type_acft column."
   ]
  },
  {
   "cell_type": "code",
   "execution_count": 28,
   "id": "f92e3057",
   "metadata": {},
   "outputs": [
    {
     "data": {
      "text/html": [
       "<div>\n",
       "<style scoped>\n",
       "    .dataframe tbody tr th:only-of-type {\n",
       "        vertical-align: middle;\n",
       "    }\n",
       "\n",
       "    .dataframe tbody tr th {\n",
       "        vertical-align: top;\n",
       "    }\n",
       "\n",
       "    .dataframe thead th {\n",
       "        text-align: right;\n",
       "    }\n",
       "</style>\n",
       "<table border=\"1\" class=\"dataframe\">\n",
       "  <thead>\n",
       "    <tr style=\"text-align: right;\">\n",
       "      <th></th>\n",
       "      <th>nnum</th>\n",
       "      <th>code</th>\n",
       "      <th>year</th>\n",
       "      <th>mfr</th>\n",
       "      <th>model</th>\n",
       "      <th>type_acft</th>\n",
       "      <th>no_eng</th>\n",
       "      <th>no_seats</th>\n",
       "      <th>speed</th>\n",
       "      <th>engine</th>\n",
       "      <th>aircraft_type</th>\n",
       "    </tr>\n",
       "  </thead>\n",
       "  <tbody>\n",
       "    <tr>\n",
       "      <th>0</th>\n",
       "      <td>1</td>\n",
       "      <td>2076811</td>\n",
       "      <td>2014</td>\n",
       "      <td>CESSNA</td>\n",
       "      <td>680</td>\n",
       "      <td>5</td>\n",
       "      <td>2</td>\n",
       "      <td>9</td>\n",
       "      <td>0</td>\n",
       "      <td>Turbo-fan</td>\n",
       "      <td>Fixed wing multi engine</td>\n",
       "    </tr>\n",
       "    <tr>\n",
       "      <th>1</th>\n",
       "      <td>1010N</td>\n",
       "      <td>2076811</td>\n",
       "      <td>2012</td>\n",
       "      <td>CESSNA</td>\n",
       "      <td>680</td>\n",
       "      <td>5</td>\n",
       "      <td>2</td>\n",
       "      <td>9</td>\n",
       "      <td>0</td>\n",
       "      <td>Turbo-fan</td>\n",
       "      <td>Fixed wing multi engine</td>\n",
       "    </tr>\n",
       "    <tr>\n",
       "      <th>2</th>\n",
       "      <td>101EF</td>\n",
       "      <td>2076811</td>\n",
       "      <td>2014</td>\n",
       "      <td>CESSNA</td>\n",
       "      <td>680</td>\n",
       "      <td>5</td>\n",
       "      <td>2</td>\n",
       "      <td>9</td>\n",
       "      <td>0</td>\n",
       "      <td>Turbo-fan</td>\n",
       "      <td>Fixed wing multi engine</td>\n",
       "    </tr>\n",
       "    <tr>\n",
       "      <th>3</th>\n",
       "      <td>101FC</td>\n",
       "      <td>2076811</td>\n",
       "      <td>2007</td>\n",
       "      <td>CESSNA</td>\n",
       "      <td>680</td>\n",
       "      <td>5</td>\n",
       "      <td>2</td>\n",
       "      <td>9</td>\n",
       "      <td>0</td>\n",
       "      <td>Turbo-fan</td>\n",
       "      <td>Fixed wing multi engine</td>\n",
       "    </tr>\n",
       "    <tr>\n",
       "      <th>4</th>\n",
       "      <td>101PG</td>\n",
       "      <td>2076811</td>\n",
       "      <td>2012</td>\n",
       "      <td>CESSNA</td>\n",
       "      <td>680</td>\n",
       "      <td>5</td>\n",
       "      <td>2</td>\n",
       "      <td>9</td>\n",
       "      <td>0</td>\n",
       "      <td>Turbo-fan</td>\n",
       "      <td>Fixed wing multi engine</td>\n",
       "    </tr>\n",
       "  </tbody>\n",
       "</table>\n",
       "</div>"
      ],
      "text/plain": [
       "    nnum     code  year                             mfr                 model  \\\n",
       "0      1  2076811  2014  CESSNA                          680                    \n",
       "1  1010N  2076811  2012  CESSNA                          680                    \n",
       "2  101EF  2076811  2014  CESSNA                          680                    \n",
       "3  101FC  2076811  2007  CESSNA                          680                    \n",
       "4  101PG  2076811  2012  CESSNA                          680                    \n",
       "\n",
       "  type_acft  no_eng  no_seats  speed     engine            aircraft_type  \n",
       "0         5       2         9      0  Turbo-fan  Fixed wing multi engine  \n",
       "1         5       2         9      0  Turbo-fan  Fixed wing multi engine  \n",
       "2         5       2         9      0  Turbo-fan  Fixed wing multi engine  \n",
       "3         5       2         9      0  Turbo-fan  Fixed wing multi engine  \n",
       "4         5       2         9      0  Turbo-fan  Fixed wing multi engine  "
      ]
     },
     "execution_count": 28,
     "metadata": {},
     "output_type": "execute_result"
    }
   ],
   "source": [
    "# Assign values in the aircraft_type column by mapping the keys from type_acft column to the values in the acft_dict dictionary.\n",
    "all['aircraft_type'] = all['type_acft'].map(acft_dict)\n",
    "all.head(5)"
   ]
  },
  {
   "cell_type": "code",
   "execution_count": 29,
   "id": "b00db756",
   "metadata": {},
   "outputs": [
    {
     "name": "stdout",
     "output_type": "stream",
     "text": [
      "aircraft_type    11\n",
      "type_acft        11\n",
      "dtype: int64\n"
     ]
    }
   ],
   "source": [
    "\n",
    "# Print list of distinct aircraft types and aircraft ids found in our dataset and the corresponding number of records for each type.\n",
    "print(all[['aircraft_type', 'type_acft']].nunique())"
   ]
  },
  {
   "cell_type": "markdown",
   "id": "21ff13e2",
   "metadata": {},
   "source": [
    "Good job, that was a tricky one! Now that we have the actual aircraft type names in our dataset we don't need the type_acft column anymore.  \n",
    "Complete the code below and delete the type_acft column."
   ]
  },
  {
   "cell_type": "code",
   "execution_count": 30,
   "id": "24dbfe97",
   "metadata": {},
   "outputs": [
    {
     "data": {
      "text/plain": [
       "Index(['nnum', 'code', 'year', 'mfr', 'model', 'no_eng', 'no_seats', 'speed',\n",
       "       'engine', 'aircraft_type'],\n",
       "      dtype='object')"
      ]
     },
     "execution_count": 30,
     "metadata": {},
     "output_type": "execute_result"
    }
   ],
   "source": [
    "# Delete type_acft column\n",
    "all.drop(columns=['type_acft'], inplace=True)\n",
    "\n",
    "# Print all column names\n",
    "all.columns"
   ]
  },
  {
   "cell_type": "markdown",
   "id": "bebfa67a",
   "metadata": {},
   "source": [
    "Done! We successfully translated the ids to their actual values. Before we write the table into our database, let's make sure we have clean and descriptive column names. The first column we are going to change is the nnum column. Lets have a look at its values before we rename it.  \n",
    "Complete the code below and print the first 5 rows of the nnum column."
   ]
  },
  {
   "cell_type": "code",
   "execution_count": 31,
   "id": "dbd29b15",
   "metadata": {},
   "outputs": [
    {
     "data": {
      "text/plain": [
       "0        1\n",
       "1    1010N\n",
       "2    101EF\n",
       "3    101FC\n",
       "4    101PG\n",
       "Name: nnum, dtype: object"
      ]
     },
     "execution_count": 31,
     "metadata": {},
     "output_type": "execute_result"
    }
   ],
   "source": [
    "# Print first 5 rows of nnum column\n",
    "all.nnum.head(5)"
   ]
  },
  {
   "cell_type": "markdown",
   "id": "8d4615b3",
   "metadata": {},
   "source": [
    "Something is weird. Aren't the tail numbers in our flights data starting with the letter 'N'? Let's check that just to be sure. In order to do this we need to connect to our database and query the unique tail numbers from the flights table. In order to create a connection we need to create a connection object using the connect() function in combination with the credentials for the PostgreSQL database. We stored this in the sql.py file already. All that's left to do is to enter the credentials and import he connection object conn into this notebook.\n",
    "Fill in the credentials in the sql.py file, complete the code below and import the conn object from the sql.py file."
   ]
  },
  {
   "cell_type": "code",
   "execution_count": 32,
   "id": "174dd411",
   "metadata": {},
   "outputs": [],
   "source": [
    "# Import conn and get_data from sql.py\n",
    "from sql import conn, get_data"
   ]
  },
  {
   "cell_type": "markdown",
   "id": "ce1729c5",
   "metadata": {},
   "source": [
    "Next, query the distinct tail numbers from the flights table and store them in a variable f_planes and print the first 5 rows."
   ]
  },
  {
   "cell_type": "code",
   "execution_count": 33,
   "id": "64c62a13",
   "metadata": {},
   "outputs": [
    {
     "data": {
      "text/html": [
       "<div>\n",
       "<style scoped>\n",
       "    .dataframe tbody tr th:only-of-type {\n",
       "        vertical-align: middle;\n",
       "    }\n",
       "\n",
       "    .dataframe tbody tr th {\n",
       "        vertical-align: top;\n",
       "    }\n",
       "\n",
       "    .dataframe thead th {\n",
       "        text-align: right;\n",
       "    }\n",
       "</style>\n",
       "<table border=\"1\" class=\"dataframe\">\n",
       "  <thead>\n",
       "    <tr style=\"text-align: right;\">\n",
       "      <th></th>\n",
       "      <th>tail_number</th>\n",
       "    </tr>\n",
       "  </thead>\n",
       "  <tbody>\n",
       "    <tr>\n",
       "      <th>0</th>\n",
       "      <td>None</td>\n",
       "    </tr>\n",
       "    <tr>\n",
       "      <th>1</th>\n",
       "      <td>N8647A</td>\n",
       "    </tr>\n",
       "    <tr>\n",
       "      <th>2</th>\n",
       "      <td>N665NK</td>\n",
       "    </tr>\n",
       "    <tr>\n",
       "      <th>3</th>\n",
       "      <td>N342DN</td>\n",
       "    </tr>\n",
       "    <tr>\n",
       "      <th>4</th>\n",
       "      <td>N585NN</td>\n",
       "    </tr>\n",
       "  </tbody>\n",
       "</table>\n",
       "</div>"
      ],
      "text/plain": [
       "  tail_number\n",
       "0        None\n",
       "1      N8647A\n",
       "2      N665NK\n",
       "3      N342DN\n",
       "4      N585NN"
      ]
     },
     "execution_count": 33,
     "metadata": {},
     "output_type": "execute_result"
    }
   ],
   "source": [
    "# Store unique tail numbers in f_planes\n",
    "f_planes = get_data('SELECT DISTINCT tail_number FROM flights')\n",
    "\n",
    "# Print first 5 rows of f_planes\n",
    "f_planes.head()"
   ]
  },
  {
   "cell_type": "markdown",
   "id": "871d4dae",
   "metadata": {},
   "source": [
    "Indeed, the tail numbers all start with the letter 'N'. To make sure the nnum column really consists of tail numbers and only the letter 'N' is missing, let's calculate how many matching values we have between the two columns."
   ]
  },
  {
   "cell_type": "code",
   "execution_count": 34,
   "id": "0d35e048",
   "metadata": {},
   "outputs": [
    {
     "data": {
      "text/plain": [
       "True     4530\n",
       "False      81\n",
       "Name: tail_number, dtype: int64"
      ]
     },
     "execution_count": 34,
     "metadata": {},
     "output_type": "execute_result"
    }
   ],
   "source": [
    "# Count matching values in tail_number and nnum\n",
    "\n",
    "# all['nnum'].isin(f_planes['tail_number'].str[1:]).value_counts()\n",
    "f_planes['tail_number'].str[1:].isin(all['nnum']).value_counts()"
   ]
  },
  {
   "cell_type": "markdown",
   "id": "7b8d3d9b",
   "metadata": {},
   "source": [
    "We have around 4500 matches (something similar since the live data changes), which is quite a significant number. Therefore, we can assume that in order to match the nnum and the tail_number column, all we need to do is add the letter 'N' in front of each value in the nnum column.  \n",
    "Complete the code below and create a new column in all called tail_number that consists of the letter 'N' and the nnum values."
   ]
  },
  {
   "cell_type": "code",
   "execution_count": 35,
   "id": "a5bd65a3",
   "metadata": {},
   "outputs": [
    {
     "data": {
      "text/plain": [
       "0        N1\n",
       "1    N1010N\n",
       "2    N101EF\n",
       "3    N101FC\n",
       "4    N101PG\n",
       "Name: tail_number, dtype: object"
      ]
     },
     "execution_count": 35,
     "metadata": {},
     "output_type": "execute_result"
    }
   ],
   "source": [
    "# Create tailnum column\n",
    "all['tail_number'] = all['nnum'].apply(lambda x: ('N' + str(x)))\n",
    "\n",
    "# Print first 5 rows\n",
    "all.tail_number.head(5)"
   ]
  },
  {
   "cell_type": "markdown",
   "id": "043e0932",
   "metadata": {},
   "source": [
    "There we go! Now we have a tail number column that we can join with our flights table later on. Let's change the order of the columns and get rid of the code column since we don't need it anymore."
   ]
  },
  {
   "cell_type": "code",
   "execution_count": 36,
   "id": "1fc87fbf",
   "metadata": {},
   "outputs": [],
   "source": [
    "# Remove code column, change column order and assign to planes\n",
    "planes = all[['tail_number', 'year', 'aircraft_type', 'mfr', 'model', 'engine', 'no_eng', 'no_seats', 'speed']]"
   ]
  },
  {
   "cell_type": "markdown",
   "id": "fa9b614b",
   "metadata": {},
   "source": [
    "As a final data cleaning step give the mfr, no_eng and no_seats column a more descriptive name.  \n",
    "Complete the code below and change the column names mfr into manufacturer, no_eng into engines and no_seats into seats."
   ]
  },
  {
   "cell_type": "code",
   "execution_count": 37,
   "id": "bdaad72e",
   "metadata": {},
   "outputs": [
    {
     "data": {
      "text/plain": [
       "Index(['tail_number', 'year', 'aircraft_type', 'manufacturer', 'model',\n",
       "       'engine', 'engines', 'seats', 'speed'],\n",
       "      dtype='object')"
      ]
     },
     "execution_count": 37,
     "metadata": {},
     "output_type": "execute_result"
    }
   ],
   "source": [
    "# Change column names\n",
    "planes.rename(columns={'mfr' : 'manufacturer', 'no_eng' : 'engines', 'no_seats' : 'seats'}, inplace=True)\n",
    "\n",
    "# Print all column names\n",
    "planes.columns\n"
   ]
  },
  {
   "cell_type": "markdown",
   "id": "dcde9fc3",
   "metadata": {},
   "source": [
    "Awesome! We finally have a clean dataset with detailed information about aircrafts. Let's check how many unique aircrafts we have in our dataset.  \n",
    "Complete the code below and count the unique airplanes in the planes variable."
   ]
  },
  {
   "cell_type": "code",
   "execution_count": 38,
   "id": "ed4eff09",
   "metadata": {},
   "outputs": [
    {
     "data": {
      "text/plain": [
       "287562"
      ]
     },
     "execution_count": 38,
     "metadata": {},
     "output_type": "execute_result"
    }
   ],
   "source": [
    "# Count unique aircrafts\n",
    "planes.tail_number.nunique()"
   ]
  },
  {
   "cell_type": "markdown",
   "id": "f739bd7a",
   "metadata": {},
   "source": [
    "Wow, almost 290k aircrafts. Previously when we counted the matches between the nnum columnd and tail_number column we only had 4506 matches, which is a lot less than we have from the official source. Since we only need a small subset, let's filter out the remaining ones.  \n",
    "Complete the code below and create a dataframe called final_table that has all aircrafts from the planes dataset that have matches in the f_planes dataset."
   ]
  },
  {
   "cell_type": "code",
   "execution_count": 39,
   "id": "567105d3",
   "metadata": {},
   "outputs": [],
   "source": [
    "# Create dataframe with only matching values called final_table\n",
    "final_table = planes.merge(f_planes, how='inner', on='tail_number')"
   ]
  },
  {
   "cell_type": "code",
   "execution_count": 40,
   "id": "13db9d1d",
   "metadata": {},
   "outputs": [
    {
     "data": {
      "text/plain": [
       "4502"
      ]
     },
     "execution_count": 40,
     "metadata": {},
     "output_type": "execute_result"
    }
   ],
   "source": [
    "# Print count of planes in final_table\n",
    "final_table.tail_number.nunique()"
   ]
  },
  {
   "cell_type": "markdown",
   "id": "ee290a1d",
   "metadata": {},
   "source": [
    "Good job! Instead of a huge dataset with all aircrafts we now have a smaller subset that matches the aircrafts we have in our flights table in our PostregSQL database."
   ]
  },
  {
   "cell_type": "markdown",
   "id": "5f689f21",
   "metadata": {},
   "source": [
    "## Inserting aircrafts data into the database\n",
    "The last step is to write this table into our database. We already learned how to do this using the sql.py file. The credentials should be filled out since we've already done that in the previous notebook.  \n",
    "Make sure the credentials a set up correctly and import the engine from the sql.py file."
   ]
  },
  {
   "cell_type": "code",
   "execution_count": 41,
   "id": "4baaa836",
   "metadata": {},
   "outputs": [],
   "source": [
    "# Import engine from sql.py and import psycopg2\n",
    "from sql import engine\n",
    "import psycopg2"
   ]
  },
  {
   "cell_type": "markdown",
   "id": "4ab26cee",
   "metadata": {},
   "source": [
    "Next, set the table name variable. This will be name of the table that will be written to the PostgreSQL database."
   ]
  },
  {
   "cell_type": "code",
   "execution_count": 42,
   "id": "5a1f336a",
   "metadata": {},
   "outputs": [],
   "source": [
    "# IMPORTANT: Set the table_name variable to 'planes_' + your initials/group number\n",
    "# Example: planes_pw for Philipp Wendt / planes_1 for group1\n",
    "table_name = 'flights_delete_me'"
   ]
  },
  {
   "cell_type": "markdown",
   "id": "3420e565",
   "metadata": {},
   "source": [
    "The final step is to write the dataset to the database.  \n",
    "Complete the code below and write the dataset stored in planes_in_both to the PostgreSQL database."
   ]
  },
  {
   "cell_type": "code",
   "execution_count": 43,
   "id": "91a8545e",
   "metadata": {},
   "outputs": [
    {
     "name": "stdout",
     "output_type": "stream",
     "text": [
      "The flights_delete_me table was imported successfully.\n"
     ]
    }
   ],
   "source": [
    "# Write records stored in a dataframe to SQL database\n",
    "if engine!=None:\n",
    "    try:\n",
    "        final_table.to_sql(table_name, # Name of SQL table\n",
    "                        con=engine, # Engine or connection\n",
    "                        schema='muc_analytics_21_1', # Name of class schema\n",
    "                        if_exists='replace', # Drop the table before inserting new values \n",
    "                        index=False, # Write DataFrame index as a column\n",
    "                        chunksize=5000, # Specify the number of rows in each batch to be written at a time\n",
    "                        method='multi') # Pass multiple values in a single INSERT clause\n",
    "        print(f\"The {table_name} table was imported successfully.\")\n",
    "    # Error handling\n",
    "    except (Exception, psycopg2.DatabaseError) as error:\n",
    "        print(error)\n",
    "        engine = None"
   ]
  },
  {
   "cell_type": "markdown",
   "id": "0fef1d4e",
   "metadata": {},
   "source": [
    "To check if everything worked try querying the table from the database."
   ]
  },
  {
   "cell_type": "code",
   "execution_count": 46,
   "id": "d57e35ff",
   "metadata": {},
   "outputs": [
    {
     "data": {
      "text/plain": [
       "4502"
      ]
     },
     "execution_count": 46,
     "metadata": {},
     "output_type": "execute_result"
    }
   ],
   "source": [
    "# Query the new planes table to get number of planes in the SQL table\n",
    "get_data('select * from flights_delete_me').tail_number.nunique()"
   ]
  },
  {
   "cell_type": "markdown",
   "id": "9eed9376",
   "metadata": {},
   "source": [
    "You made it, congratulations!"
   ]
  }
 ],
 "metadata": {
  "interpreter": {
   "hash": "fbe0aead5cca8d2ea82be07e886227a87e9bb2a57fe7325eef0acd6ed9d1683b"
  },
  "kernelspec": {
   "display_name": "Python 3.8.5 64-bit ('sql-practice': conda)",
   "name": "python3"
  },
  "language_info": {
   "codemirror_mode": {
    "name": "ipython",
    "version": 3
   },
   "file_extension": ".py",
   "mimetype": "text/x-python",
   "name": "python",
   "nbconvert_exporter": "python",
   "pygments_lexer": "ipython3",
   "version": "3.8.12"
  }
 },
 "nbformat": 4,
 "nbformat_minor": 5
}
