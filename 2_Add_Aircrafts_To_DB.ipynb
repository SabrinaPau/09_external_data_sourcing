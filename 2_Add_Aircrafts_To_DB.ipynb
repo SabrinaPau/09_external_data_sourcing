{
 "cells": [
  {
   "cell_type": "markdown",
   "id": "367ad3f4",
   "metadata": {},
   "source": [
    "<img src=\"images/Plane.jpeg\" width=\"800\">"
   ]
  },
  {
   "cell_type": "markdown",
   "id": "0e4fa7e2",
   "metadata": {},
   "source": [
    "# Inserting external data sources into PostgreSQL - Aircrafts\n",
    "In the last jupyter notebook we learned how to import a csv file directly from the web into Python and write its data into our PostgreSQL database. In this notebook we're going to apply similar steps, but this time we're going to add data about aircrafts to our database. Also, instead of importing the data directly from the web, we're going to save it to our local file storage since the files are stored in a zip file. This means we will be unpacking the zip file first, then bring the data into the right shape and format through subsetting, merging and cleaning and ultimately insert it into our PostgreSQL database."
   ]
  },
  {
   "cell_type": "markdown",
   "id": "b60bec73",
   "metadata": {},
   "source": [
    "## Downloading aircraft zip file from the web\n",
    "The aircraft data we're going to work with can be downloaded from the Federal Aviation Administration website. Check out this [link](https://www.faa.gov/licenses_certificates/aircraft_certification/aircraft_registry/releasable_aircraft_download/) to find a description of the data as well as links for downloading either the entire database or yearly data.  \n",
    "\n",
    "We will be downloading the entire database into a folder called data. The folder does not exist yet in the repository so our first task is to create it.  \n",
    "Next we're going to create the download url and set the download path to the data folder we just created."
   ]
  },
  {
   "cell_type": "code",
   "execution_count": null,
   "id": "273faaa4",
   "metadata": {},
   "outputs": [],
   "source": [
    "# Create a new folder in your repo called 'data'. You can use '!' to run terminal commands from your notebook.\n",
    "\n",
    "# Specifies path for saving file\n",
    "path ='data/' \n",
    "# Create the data folder\n",
    "!mkdir {path}\n",
    "\n",
    "# add your path to .gitignore so that you do not upload data to github\n",
    "!echo {path} >> .gitignore"
   ]
  },
  {
   "cell_type": "code",
   "execution_count": null,
   "id": "2135b3a4",
   "metadata": {},
   "outputs": [],
   "source": [
    "# Create download URL\n",
    "zip_file = 'ReleasableAircraft.zip'\n",
    "url = f'https://registry.faa.gov/database/{zip_file}'"
   ]
  },
  {
   "cell_type": "markdown",
   "id": "0cda25ba",
   "metadata": {},
   "source": [
    "In order to download the file, we need to import a package called <ins>requests</ins>. This library specialises in working with data from the web.  \n",
    "Complete the code below and import the requests package."
   ]
  },
  {
   "cell_type": "code",
   "execution_count": null,
   "id": "1243da48",
   "metadata": {},
   "outputs": [],
   "source": [
    "# Import requests package\n"
   ]
  },
  {
   "cell_type": "markdown",
   "id": "41ba32e1",
   "metadata": {},
   "source": [
    "Now it's time to download the Aircraft Registration Database and save it to our the previously set download path. Since we want to get the files from the web to our local file storage, we have to send a GET request.  \n",
    "Use the <ins>get()</ins> function and pass it the url we created earlier. In a second step we're writing the files to our local file storage.\n",
    "The file is ~60MB, so depending on your internet speed this might take a few seconds."
   ]
  },
  {
   "cell_type": "markdown",
   "id": "1174d204",
   "metadata": {},
   "source": [
    "Sometimes, we need to use a User-Agent with our GET request. A User-Agent header is used to identify the software or client making an HTTP request.\n",
    "\n",
    "For the purpose of this exercise, we will all use the same User-Agent."
   ]
  },
  {
   "cell_type": "code",
   "execution_count": null,
   "id": "4df1c758",
   "metadata": {},
   "outputs": [],
   "source": [
    "# Try out this User-Agent. If it doesn't work, see instructions below.\n",
    "headers = {'User-Agent':'Mozilla/5.0 (Macintosh; Intel Mac OS X 10_15_7) AppleWebKit/537.36 (KHTML, like Gecko) Chrome/115.0.0.0 Safari/537.36'}"
   ]
  },
  {
   "cell_type": "code",
   "execution_count": null,
   "id": "3e6b0322",
   "metadata": {},
   "outputs": [],
   "source": [
    "# Download the database\n",
    "r = requests.___(___, headers=headers)\n",
    "\n",
    "# Save database to local file storage\n",
    "with open(path+zip_file, 'wb') as f:\n",
    "    f.write(r.content)"
   ]
  },
  {
   "cell_type": "markdown",
   "id": "89781010",
   "metadata": {},
   "source": [
    "**Note:** If the the requests.get() with the User-Agent doesn’t work for you, don’t worry! Just download the data manually here: [Download the Aircraft Registration Database (60MB)](https://www.faa.gov/licenses_certificates/aircraft_certification/aircraft_registry/releasable_aircraft_download). <br>\n",
    "Put the zip file as it is into the data folder we created above and go on with the notebook."
   ]
  },
  {
   "cell_type": "markdown",
   "id": "a18d0c8d",
   "metadata": {},
   "source": [
    "To make sure the file was downloaded successfully, go to the data folder in this repository and check its content. The folder should have a file called ReleasableAircraft.zip.  \n",
    "\n",
    "The next steps are to unpack the zip file and load the necessary files into Python. Conveniently there is a package to make unpacking a zip file in python easy, it's called <ins>zipfile</ins>.  \n",
    "\n",
    "Complete the code below and import the zipfile package."
   ]
  },
  {
   "cell_type": "code",
   "execution_count": null,
   "id": "f1e1464b",
   "metadata": {},
   "outputs": [],
   "source": [
    "# Import zipfile package\n"
   ]
  },
  {
   "cell_type": "markdown",
   "id": "784c7b1b",
   "metadata": {},
   "source": [
    "Now it's time to unpack the zip file. First, we're going to use the <ins>ZipFile()</ins> function and pass it  the path to the file as its first argument. As the second argument, in order to read an existing file, we pass it the parameter 'r'. To extract the ZipFile object we can either use the <ins>extract()</ins> function, to extract a single file, or the <ins>extractall()</ins> function, to extract all files from the archive.  \n",
    "\n",
    "Complete the code below and either extract all files or only the MASTER.txt, ACFTREF.txt and ardata.pdf file using the extract() or extractall() function respectively."
   ]
  },
  {
   "cell_type": "code",
   "execution_count": null,
   "id": "1677e7ac",
   "metadata": {},
   "outputs": [],
   "source": [
    "# Unzip zip file using zipfile.ZipFile()\n"
   ]
  },
  {
   "cell_type": "code",
   "execution_count": null,
   "id": "ae05c267",
   "metadata": {},
   "outputs": [],
   "source": [
    "# extract all files or only the MASTER.txt, ACFTREF.txt and ardata.pdf file\n"
   ]
  },
  {
   "cell_type": "markdown",
   "id": "53f55ec0",
   "metadata": {},
   "source": [
    "We can use the file explorer in vs code to take a quick peak at the files we just extracted. In the Explorer expand the 'data' folder and click on the file MASTER.TXT to get a quick feel for the data."
   ]
  },
  {
   "cell_type": "markdown",
   "id": "cb1a4bf1",
   "metadata": {},
   "source": [
    "Good job! MASTER.txt contains comma separated values and lists all registered aircrafts, exactly what we need. \n",
    "Now that we have the necessary files it's time to load them into Python.\n",
    "One thing we notice in the file is there are some missing values that are filled with multiple spaces, we will have to deal with that when we load it into Python. Which is what we will do now!\n",
    "Complete the code below, import the MASTER.txt file and save it in a variable called master_df."
   ]
  },
  {
   "cell_type": "markdown",
   "id": "47cee14d",
   "metadata": {},
   "source": [
    "**Hint:** Check the [pandas documentation on read_csv()](https://pandas.pydata.org/docs/reference/api/pandas.read_csv.html) to see if there is a parameter that handles how spaces are treated, especially after the delimiter."
   ]
  },
  {
   "cell_type": "code",
   "execution_count": null,
   "id": "2e815050",
   "metadata": {},
   "outputs": [],
   "source": [
    "# Import the necessary package\n",
    "\n",
    "\n",
    "# Read MASTER.txt file and assign to variable master\n",
    "\n",
    "\n",
    "# Print first 5 rows\n"
   ]
  },
  {
   "cell_type": "markdown",
   "id": "8759e5b4",
   "metadata": {},
   "source": [
    "Next, let's have a look at the column names.  \n",
    "Complete the code below and print all column names with their non-null counts and data types."
   ]
  },
  {
   "cell_type": "code",
   "execution_count": null,
   "id": "0a275f59",
   "metadata": {},
   "outputs": [],
   "source": [
    "# Print master info\n"
   ]
  },
  {
   "cell_type": "markdown",
   "id": "672588be",
   "metadata": {},
   "source": [
    "## EDA & data preparation\n",
    "In total we have 287554 rows across 35 columns, some null values (although none in the ID column) and a mix of object and integer data types (if you're numbers are slightly different, this is because the database is updated regularly with new aircraft). \n",
    "All column names are uppercase and separated by spaces. As analysts we already know that this is not a preferred format. So before we continue let's make all columns lowercase and replace the spaces with underscores.  \n",
    "Complete the code below and transform all column names from uppercase to lowercase."
   ]
  },
  {
   "cell_type": "code",
   "execution_count": null,
   "id": "7825cd4c",
   "metadata": {},
   "outputs": [],
   "source": [
    "# Make column names lowercase\n",
    "\n",
    "\n",
    "# Print all column names\n"
   ]
  },
  {
   "cell_type": "markdown",
   "id": "bf1e2ad5",
   "metadata": {},
   "source": [
    "Next, we're going to replace spaces with underscores."
   ]
  },
  {
   "cell_type": "code",
   "execution_count": null,
   "id": "8a55f586",
   "metadata": {},
   "outputs": [],
   "source": [
    "# Replace spaces with underscores\n",
    "\n",
    "\n",
    "# Print all column names\n"
   ]
  },
  {
   "cell_type": "markdown",
   "id": "888a6b02",
   "metadata": {},
   "source": [
    "Perfect, now that the column names are in a consistent and clean format we can move on to working with the data. Even though the MASTER.txt file has 33 columns, we're only going to need 3: \n",
    "1. n-number: the tail number of the aircraft\n",
    "2. mfr_mdl_code: the manufacturer model code\n",
    "3. year_mfr: the year the aircraft was manufactured\n",
    "\n",
    "Complete the code below, create a subset of the master data that only includes the above mentioned columns and reassign it to the master variable."
   ]
  },
  {
   "cell_type": "code",
   "execution_count": null,
   "id": "ed0a8509",
   "metadata": {},
   "outputs": [],
   "source": [
    "# Create subset with n-number, mfr_mdl_code and year_mfr columns\n",
    "\n",
    "\n",
    "# Print all column names\n"
   ]
  },
  {
   "cell_type": "markdown",
   "id": "7255f426",
   "metadata": {},
   "source": [
    "Let's clean up the column names a bit more.\n",
    "Complete the code below and rename the columns to: nnum, code and year."
   ]
  },
  {
   "cell_type": "code",
   "execution_count": null,
   "id": "e2ef50c8",
   "metadata": {},
   "outputs": [],
   "source": [
    "# Rename columns to nnum, code and year\n",
    "\n",
    "\n",
    "# Print all column names\n"
   ]
  },
  {
   "cell_type": "markdown",
   "id": "f5d84492",
   "metadata": {},
   "source": [
    "While we're at it, we should remove any leading and trailing whitespace in our nnum and code column.  \n",
    "Complete the code below and remove any whitespace from the nnum and code column."
   ]
  },
  {
   "cell_type": "code",
   "execution_count": null,
   "id": "424454c9",
   "metadata": {},
   "outputs": [],
   "source": [
    "# Remove whitespace from nnum column\n",
    "\n",
    "\n",
    "# Remove whitespace from code column\n"
   ]
  },
  {
   "cell_type": "markdown",
   "id": "3d8aba57",
   "metadata": {},
   "source": [
    "Great job so far! Now we have a file that contains a list of all aircrafts, their manufacturer model code and the year it was manufactured. I agree, this is not a lot of information but we're also not done yet. We still haven't looked at the other file: ACFTREF.txt. This file consists of detailed information for each aircraft such as the number of engines, engine type, number of seats etc. Let's import it and have a look!  \n",
    "Complete the code below and import the ACFTREF.txt file. Save it in a variable called ref and print its first 5 rows."
   ]
  },
  {
   "cell_type": "code",
   "execution_count": null,
   "id": "43b4e836",
   "metadata": {},
   "outputs": [],
   "source": [
    "# Read ACFTREF.txt file and assign to variable ref\n",
    "\n",
    "\n",
    "# Print first 5 rows\n"
   ]
  },
  {
   "cell_type": "markdown",
   "id": "ba3eb6be",
   "metadata": {},
   "source": [
    "Just like we did before, let's have a look at the column names, null values and data types."
   ]
  },
  {
   "cell_type": "code",
   "execution_count": null,
   "id": "2cafae85",
   "metadata": {},
   "outputs": [],
   "source": [
    "# Print table info\n"
   ]
  },
  {
   "cell_type": "markdown",
   "id": "14ca2cdc",
   "metadata": {},
   "source": [
    "This time we have 12 columns, no null values and a mix of object and integer data types. On top of that all column names are uppercase again, but this time they're seperated with a dash. So before we continue let's make all columns lowercase and replace the dashes with underscores.  \n",
    "Complete the code below and transform all column names from uppercase to lowercase."
   ]
  },
  {
   "cell_type": "code",
   "execution_count": null,
   "id": "4114f520",
   "metadata": {},
   "outputs": [],
   "source": [
    "# Make column names lowercase\n",
    "\n",
    "\n",
    "# Print all column names\n"
   ]
  },
  {
   "cell_type": "markdown",
   "id": "2754b9a2",
   "metadata": {},
   "source": [
    "Next, we're going to replace spaces with underscores."
   ]
  },
  {
   "cell_type": "code",
   "execution_count": null,
   "id": "420b7511",
   "metadata": {},
   "outputs": [],
   "source": [
    "# Replace spaces with underscores\n",
    "\n",
    "\n",
    "# Print all column names\n"
   ]
  },
  {
   "cell_type": "markdown",
   "id": "fa799d81",
   "metadata": {},
   "source": [
    "Now the column names are in a format that makes it a lot easier to work with the table. Next we're going to create a subset of the data since we won't be needing all the columns present in the table.\n",
    "Complete the code below and create a subset that only contains the following columns: \n",
    "1. code: aircraft manufacturer, model and series code\n",
    "2. mfr: name of the aircraft manufacturer\n",
    "3. model: name of the aircraft model and series\n",
    "4. type_acft: the id of the aircraft type\n",
    "5. type_eng: the id of the engine type\n",
    "6. no_eng: number of engines on the aircraft\n",
    "7. no_seats: maximum number of seats in the aircraft\n",
    "8. speed: the aircraft average cruising speed\n",
    "\n",
    "Complete the code below and create a subset of the ref data that only includes the above mentioned columns."
   ]
  },
  {
   "cell_type": "code",
   "execution_count": null,
   "id": "dc32dae0",
   "metadata": {},
   "outputs": [],
   "source": [
    "# Select columns to keep\n",
    "\n",
    "\n",
    "# Print all column names\n"
   ]
  },
  {
   "cell_type": "markdown",
   "id": "62615b42",
   "metadata": {},
   "source": [
    "Great, now we have a subset that only contains the columns we're interested in.  \n",
    "Next, we're going to combine our master and ref dataset on the code column.  \n",
    "Complete the code below and inner join the master and ref dataset on the code column.  \n",
    "Save the combined dataset in a new variable called 'df_all' and print the dataframe's info."
   ]
  },
  {
   "cell_type": "code",
   "execution_count": null,
   "id": "baadb425",
   "metadata": {},
   "outputs": [],
   "source": [
    "# Inner join master and ref and assign to df_all\n",
    "df_all = \n",
    "\n",
    "# Print info\n"
   ]
  },
  {
   "cell_type": "markdown",
   "id": "4c448dc0",
   "metadata": {},
   "source": [
    "It worked, awesome! Now we have a combined dataset that consists of detailed aircraft information.  Unfortunately, we're not done yet. The two columns type_acft and type_eng only contain ids and no real information about aircraft and engine type. Fortunately, the Federal Aviation Administration includes a documentation file with the database. The file is called ardata.pdf and contains column descriptions as well as values for codes and ids.  \n",
    "\n",
    "Let's translate the type_eng column first. Looking into the documentation we find 12 different engine types with ids ranging from 0 to 11. First we should check whether we find these ids in the type_eng column.  \n",
    "Complete the code below and print a list of all distinct type_eng id values."
   ]
  },
  {
   "cell_type": "code",
   "execution_count": null,
   "id": "df7839bd",
   "metadata": {},
   "outputs": [],
   "source": [
    "# Print list of distinct type_eng ids\n"
   ]
  },
  {
   "cell_type": "markdown",
   "id": "41b52ea9",
   "metadata": {},
   "source": [
    "Good, the ids in the type_eng column match with the ones listed in the documentation.  \n",
    "Next, create a list of engine types, called engine_list, that includes all engine types listed in the documentation. Make sure to store them in the same order they are listed in the documentation."
   ]
  },
  {
   "cell_type": "code",
   "execution_count": null,
   "id": "d9a514f0",
   "metadata": {},
   "outputs": [],
   "source": [
    "# Create list of engine type names: engine_list\n",
    "engine_list = [\"None\", \n",
    "          \"___________\", \n",
    "          \"Turbo-prop\", \n",
    "          \"Turbo-shaft\", \n",
    "          \"__________\",\n",
    "          \"Turbo-fan\", \n",
    "          \"Ramjet\", \n",
    "          \"2 Cycle\", \n",
    "          \"4 Cycle\", \n",
    "          \"Unknown\", \n",
    "          \"_________\", \n",
    "          \"Rotary\"]"
   ]
  },
  {
   "cell_type": "markdown",
   "id": "1520f265",
   "metadata": {},
   "source": [
    "Now we're going to add a new column called engine that has the engine name based on the id in type_eng. "
   ]
  },
  {
   "cell_type": "code",
   "execution_count": null,
   "id": "c33f7177",
   "metadata": {},
   "outputs": [],
   "source": [
    "# Add engine column and translate type_eng id\n",
    "df_all['______'] = [engine_list[i] for i in df_all['_______'].tolist()]\n",
    "\n",
    "# Print first 5 rows\n"
   ]
  },
  {
   "cell_type": "markdown",
   "id": "df029906",
   "metadata": {},
   "source": [
    "Good job, that was certainly not an easy task. Now that we have the actual engine type names in our dataset we don't need the type_eng column anymore.  \n",
    "Complete the code below and delete the type_eng column."
   ]
  },
  {
   "cell_type": "code",
   "execution_count": null,
   "id": "dd09dd5e",
   "metadata": {},
   "outputs": [],
   "source": [
    "# Delete type_eng column\n",
    "\n",
    "\n",
    "# Print all column names\n"
   ]
  },
  {
   "cell_type": "markdown",
   "id": "704f177c",
   "metadata": {},
   "source": [
    "Now that we know how to translate an id into its actual value, let's do the same for the type_acft column.  \n",
    "First, let's have a look at the documentation. There we find 11 engine types with ids ranging from 1 to 9 and two letters H and O. This complicates things, but before we look further into this let's check the type_afct column values for matching ids first."
   ]
  },
  {
   "cell_type": "code",
   "execution_count": null,
   "id": "f4aff07f",
   "metadata": {},
   "outputs": [],
   "source": [
    "# Print list of distinct type_acft ids\n"
   ]
  },
  {
   "cell_type": "markdown",
   "id": "7abb91c3",
   "metadata": {},
   "source": [
    "Again, the ids are matching, which is good news. The bad news is we have a mix of numerical ids and letters and because of the letters the column is in a string format. The approach we used with the type_eng column will not work with the current format of the column and ids. There is no reason to get demotivated though, this points us to a more efficient and secure way to fill data based on ids. First, let's create a dictionary to capture the ids and type names. Similar to before, use the documentation file to get the values and this time type them into a dictionary."
   ]
  },
  {
   "cell_type": "code",
   "execution_count": null,
   "id": "259cb0d5",
   "metadata": {},
   "outputs": [],
   "source": [
    "acft_dict= {\n",
    "            '1':'Glider',\n",
    "            '2':'_______',\n",
    "            '_':'Blimp/Dirigible',\n",
    "            '4':'Fixed wing single engine', \n",
    "            '5':'Fixed wing multi engine',\n",
    "            '6':'________',\n",
    "            '_':'Weight-shift-control',\n",
    "            '8':'Powered Parachute',\n",
    "            '9':'________',\n",
    "            '_':'Hybrid Lift',\n",
    "            '_':'Other'}\n"
   ]
  },
  {
   "cell_type": "markdown",
   "id": "fe366a12",
   "metadata": {},
   "source": [
    "The last step is to translate the ids in the type_acft column into aircraft type names.  \n",
    "Complete the code below and add a new column called aircraft_type that consists of the correct aircraft type names based on the id in the type_acft column.\n",
    "With the help of the map-function, we can apply a transformation function to each item in an iterable and transform them into a new iterable. In our case, we transform the ids into names. This could be thought of as similar to VLOOKUP in this case."
   ]
  },
  {
   "cell_type": "code",
   "execution_count": null,
   "id": "8ecabffd",
   "metadata": {},
   "outputs": [],
   "source": [
    "# Assign values in the aircraft_type column by mapping the keys from type_acft column to the values in the acft_dict dictionary.\n",
    "df_all['________'] = df_all['_______'].map(_______)\n",
    "\n",
    "# Print list of distinct aircraft types and aircraft ids found in our dataset and the corresponding number of records for each type.\n",
    "print(df_all[['_______', '_______']]._________())"
   ]
  },
  {
   "cell_type": "markdown",
   "id": "c2be98aa",
   "metadata": {},
   "source": [
    "Good job, that was a tricky one! Now that we have the actual aircraft type names in our dataset we don't need the type_acft column anymore.  \n",
    "Complete the code below and delete the type_acft column."
   ]
  },
  {
   "cell_type": "code",
   "execution_count": null,
   "id": "0f2cf7a1",
   "metadata": {},
   "outputs": [],
   "source": [
    "# Delete type_acft column\n",
    "\n",
    "\n",
    "# Print all column names\n"
   ]
  },
  {
   "cell_type": "markdown",
   "id": "42c4e5c6",
   "metadata": {},
   "source": [
    "Done! We successfully translated the ids to their actual values. Before we write the table into our database, let's make sure we have clean and descriptive column names. The first column we are going to change is the nnum column. Lets have a look at its values before we rename it.  \n",
    "Complete the code below and print the first 5 rows of the nnum column."
   ]
  },
  {
   "cell_type": "code",
   "execution_count": null,
   "id": "31a9bdf7",
   "metadata": {},
   "outputs": [],
   "source": [
    "# Print first 5 rows of nnum column\n"
   ]
  },
  {
   "cell_type": "markdown",
   "id": "5183149b",
   "metadata": {},
   "source": [
    "Something is weird. Aren't the tail numbers in our flights data starting with the letter 'N'? Let's check that just to be sure. In order to do this we need to connect to our database and query the unique tail numbers from the flights table. In order to create a connection we need to create a connection to the PostgreSQL database. We stored a function for this in the sql_functions.py file already. All that's left to do is import our get_dataframe function from the sql_functions.py file."
   ]
  },
  {
   "cell_type": "code",
   "execution_count": null,
   "id": "6a7ffcec",
   "metadata": {},
   "outputs": [],
   "source": [
    "# Import get_dataframe from sql_functions.py\n"
   ]
  },
  {
   "cell_type": "markdown",
   "id": "7de40c8b",
   "metadata": {},
   "source": [
    "Next, query the distinct tail numbers from the flights table and store them in a variable f_planes and print the first 5 rows."
   ]
  },
  {
   "cell_type": "code",
   "execution_count": null,
   "id": "d28124fe",
   "metadata": {},
   "outputs": [],
   "source": [
    "# Store unique tail numbers in f_planes\n",
    "\n",
    "\n",
    "# Print first 5 rows of f_planes\n"
   ]
  },
  {
   "cell_type": "markdown",
   "id": "6b61dbb3",
   "metadata": {},
   "source": [
    "Indeed, the tail numbers all start with the letter 'N'. To make sure the nnum column really consists of tail numbers and only the letter 'N' is missing, let's calculate how many matching values we have between the two columns."
   ]
  },
  {
   "cell_type": "code",
   "execution_count": null,
   "id": "90739912",
   "metadata": {},
   "outputs": [],
   "source": [
    "# Count matching values in tail_number and nnum\n"
   ]
  },
  {
   "cell_type": "markdown",
   "id": "9903fe12",
   "metadata": {},
   "source": [
    "We have 4506 matches (or something similar since the live data changes), which is quite a significant number. Therefore, we can assume that in order to match the nnum and the tail_number column, all we need to do is add the letter 'N' in front of each value in the nnum column.  \n",
    "Complete the code below and create a new column in df_all called tail_number that consists of the letter 'N' and the nnum values."
   ]
  },
  {
   "cell_type": "code",
   "execution_count": null,
   "id": "ceb488cb",
   "metadata": {},
   "outputs": [],
   "source": [
    "# Create tailnum column\n",
    "\n",
    "\n",
    "# Print first 5 rows\n"
   ]
  },
  {
   "cell_type": "markdown",
   "id": "848f52df",
   "metadata": {},
   "source": [
    "There we go! Now we have a tail number column that we can join with our flights table later on. Let's change the order of the columns and get rid of the code column since we don't need it anymore."
   ]
  },
  {
   "cell_type": "code",
   "execution_count": null,
   "id": "8e81129a",
   "metadata": {},
   "outputs": [],
   "source": [
    "# Remove code column, change column order and assign to planes\n",
    "planes = df_all[['tail_number', 'year', 'mfr', 'model', 'engine', 'aircraft_type', 'no_eng', 'no_seats', 'speed']].copy()"
   ]
  },
  {
   "cell_type": "markdown",
   "id": "81ad027e",
   "metadata": {},
   "source": [
    "As a final data cleaning step give the mfr, no_eng and no_seats column a more descriptive name.  \n",
    "Complete the code below and change the column names mfr into manufacturer, no_eng into engines and no_seats into seats."
   ]
  },
  {
   "cell_type": "code",
   "execution_count": null,
   "id": "0352d2a3",
   "metadata": {},
   "outputs": [],
   "source": [
    "# Change column names\n",
    "planes.rename(columns={'___' : '_____', '_____' : '______', '_____' : '_____'}, inplace=True)\n",
    "\n",
    "# Print all column names\n"
   ]
  },
  {
   "cell_type": "markdown",
   "id": "c07193af",
   "metadata": {},
   "source": [
    "Awesome! We finally have a clean dataset with detailed information about aircrafts. Let's check how many unique aircrafts we have in our dataset.  \n",
    "Complete the code below and count the unique airplanes in the planes variable."
   ]
  },
  {
   "cell_type": "code",
   "execution_count": null,
   "id": "6f665fe3",
   "metadata": {},
   "outputs": [],
   "source": [
    "# Count unique aircrafts\n"
   ]
  },
  {
   "cell_type": "markdown",
   "id": "6815fb82",
   "metadata": {},
   "source": [
    "Wow, around 290k aircrafts. Previously when we counted the matches between the nnum column and tail_number column we only had 4506 matches, which is a lot less than we have from the official source. Since we only need a small subset, let's filter out the remaining ones.  \n",
    "Complete the code below and create a dataframe called final_table that has all aircrafts from the planes dataset that have matches in the f_planes dataset."
   ]
  },
  {
   "cell_type": "code",
   "execution_count": null,
   "id": "6b9974ca",
   "metadata": {},
   "outputs": [],
   "source": [
    "# Create dataframe with only matching values called final_table\n",
    "______ = planes.merge(f_planes, how='_____', on='tail_number')"
   ]
  },
  {
   "cell_type": "code",
   "execution_count": null,
   "id": "e01a4f47",
   "metadata": {},
   "outputs": [],
   "source": [
    "# Print count of planes in final_table\n"
   ]
  },
  {
   "cell_type": "markdown",
   "id": "6afca1b1",
   "metadata": {},
   "source": [
    "Good job! Instead of a huge dataset with all aircrafts we now have a smaller subset that matches the aircrafts we have in our flights table in our PostregSQL database."
   ]
  },
  {
   "cell_type": "markdown",
   "id": "4b392c35",
   "metadata": {},
   "source": [
    "## Inserting aircrafts data into the database\n",
    "The last step is to write this table into our database. We already created functions to help us do this using the sql_functions.py file. \n",
    "If the credentials and functions are set up correctly from the previous notebook, we can go ahead and import the helper function from the sql_functions.py file to get our connection engine."
   ]
  },
  {
   "cell_type": "code",
   "execution_count": null,
   "id": "ebd8c106",
   "metadata": {},
   "outputs": [],
   "source": [
    "# Import get_engine function from sql_functions.py and set it to a variable called engine\n",
    "\n",
    "# Import psycopg2\n"
   ]
  },
  {
   "cell_type": "markdown",
   "id": "fa8c299f",
   "metadata": {},
   "source": [
    "Next, set the table name variable. This will be name of the table that will be written to the PostgreSQL database."
   ]
  },
  {
   "cell_type": "code",
   "execution_count": null,
   "id": "0e3a5ee9",
   "metadata": {},
   "outputs": [],
   "source": [
    "# IMPORTANT: Set the schema to your course name and set the table_name variable to 'planes_' + your initials/group number\n",
    "# Example: planes_pw for Philipp Wendt / planes_1 for group1\n",
    "schema = '______' # example 'hh_analytics_22_1\n",
    "table_name = '_________'"
   ]
  },
  {
   "cell_type": "markdown",
   "id": "3218d1dd",
   "metadata": {},
   "source": [
    "The final step is to write the dataset to the database.  \n",
    "Complete the code below and write the dataset stored in planes_in_both to the PostgreSQL database."
   ]
  },
  {
   "cell_type": "code",
   "execution_count": null,
   "id": "20c5971e",
   "metadata": {},
   "outputs": [],
   "source": [
    "# Write records stored in a dataframe to SQL database\n",
    "if engine!=None:\n",
    "    try:\n",
    "        final_table.to_sql(___________, # Name of SQL table\n",
    "                        con=_______, # Engine or connection\n",
    "                        if_exists='replace', # Drop the table before inserting new values \n",
    "                        schema=______, # your class schema\n",
    "                        index=False, # Write DataFrame index as a column\n",
    "                        chunksize=5000, # Specify the number of rows in each batch to be written at a time\n",
    "                        method='multi') # Pass multiple values in a single INSERT clause\n",
    "        print(f\"The {table_name} table was imported successfully.\")\n",
    "    # Error handling\n",
    "    except (Exception, psycopg2.DatabaseError) as error:\n",
    "        print(error)\n",
    "        engine = None"
   ]
  },
  {
   "cell_type": "markdown",
   "id": "4b66c7f6",
   "metadata": {},
   "source": [
    "To check if everything worked try querying the table from the database."
   ]
  },
  {
   "cell_type": "code",
   "execution_count": null,
   "id": "7fa1371f",
   "metadata": {},
   "outputs": [],
   "source": [
    "# Query the new planes table to get number of planes in the SQL table\n"
   ]
  },
  {
   "cell_type": "markdown",
   "id": "3061d76a",
   "metadata": {},
   "source": [
    "You made it, congratulations!"
   ]
  }
 ],
 "metadata": {
  "interpreter": {
   "hash": "fbe0aead5cca8d2ea82be07e886227a87e9bb2a57fe7325eef0acd6ed9d1683b"
  },
  "kernelspec": {
   "display_name": "Python 3.8.5 64-bit ('sql-practice': conda)",
   "name": "python3"
  },
  "language_info": {
   "codemirror_mode": {
    "name": "ipython",
    "version": 3
   },
   "file_extension": ".py",
   "mimetype": "text/x-python",
   "name": "python",
   "nbconvert_exporter": "python",
   "pygments_lexer": "ipython3",
   "version": "3.9.13"
  }
 },
 "nbformat": 4,
 "nbformat_minor": 5
}
