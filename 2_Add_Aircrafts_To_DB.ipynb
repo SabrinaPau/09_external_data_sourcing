{
 "cells": [
  {
   "cell_type": "markdown",
   "id": "367ad3f4",
   "metadata": {},
   "source": [
    "<img src=\"images/Plane.jpeg\" width=\"800\">"
   ]
  },
  {
   "cell_type": "markdown",
   "id": "0e4fa7e2",
   "metadata": {},
   "source": [
    "# Inserting external data sources into PostgreSQL - Aircrafts\n",
    "In the last jupyter notebook we learned how to import a csv file directly from the web into Python and write its data into our PostgreSQL database. In this notebook we're going to apply similar steps, but this time we're going to add data about aircrafts to our database. Also, instead of importing the data directly from the web, we're going to save it to our local file storage since the files are stored in a zip file. This means we will be unpacking the zip file first, then bring the data into the right shape and format through subsetting, merging and cleaning and ultimately insert it into our PostgreSQL database."
   ]
  },
  {
   "cell_type": "markdown",
   "id": "b60bec73",
   "metadata": {},
   "source": [
    "## Downloading aircraft zip file from the web\n",
    "The aircraft data we're going to work with can be downloaded from the Federal Aviation Administration website. Check out this [link](https://www.faa.gov/licenses_certificates/aircraft_certification/aircraft_registry/releasable_aircraft_download/) to find a description of the data as well as links for downloading either the entire database or yearly data.  \n",
    "\n",
    "We will be downloading the entire database into a folder called data. The folder does not exist yet in the repository so our first task is to create it.  \n",
    "Next we're going to create the download url and set the download path to the data folder we just created."
   ]
  },
  {
   "cell_type": "code",
   "execution_count": 1,
   "id": "273faaa4",
   "metadata": {},
   "outputs": [],
   "source": [
    "# Create a new folder in your repo called 'data'. You can use '!' to run terminal commands from your notebook.\n",
    "\n",
    "# Specifies path for saving file\n",
    "path ='data/' \n",
    "# Create the data folder\n",
    "#!mkdir {path}\n",
    "\n",
    "# add your path to .gitignore so that you do not upload data to github\n",
    "#!echo {path} >> .gitignore"
   ]
  },
  {
   "cell_type": "code",
   "execution_count": 2,
   "id": "2135b3a4",
   "metadata": {},
   "outputs": [],
   "source": [
    "# Create download URL\n",
    "zip_file = 'ReleasableAircraft.zip'\n",
    "url = f'https://registry.faa.gov/database/{zip_file}'"
   ]
  },
  {
   "cell_type": "markdown",
   "id": "0cda25ba",
   "metadata": {},
   "source": [
    "In order to download the file, we need to import a package called <ins>requests</ins>. This library specialises in working with data from the web.  \n",
    "Complete the code below and import the requests package."
   ]
  },
  {
   "cell_type": "code",
   "execution_count": 3,
   "id": "1243da48",
   "metadata": {},
   "outputs": [],
   "source": [
    "# Import requests package\n",
    "#!pip install requests"
   ]
  },
  {
   "cell_type": "code",
   "execution_count": 4,
   "id": "e1ac9c85",
   "metadata": {},
   "outputs": [],
   "source": [
    "import requests"
   ]
  },
  {
   "cell_type": "markdown",
   "id": "41ba32e1",
   "metadata": {},
   "source": [
    "Now it's time to download the Aircraft Registration Database and save it to our the previously set download path. Since we want to get the files from the web to our local file storage, we have to send a GET request.  \n",
    "Use the <ins>get()</ins> function and pass it the url we created earlier. In a second step we're writing the files to our local file storage.\n",
    "The file is ~60MB, so depending on your internet speed this might take a few seconds."
   ]
  },
  {
   "cell_type": "markdown",
   "id": "1174d204",
   "metadata": {},
   "source": [
    "Sometimes, we need to use a User-Agent with our GET request. A User-Agent header is used to identify the software or client making an HTTP request.\n",
    "\n",
    "For the purpose of this exercise, we will all use the same User-Agent."
   ]
  },
  {
   "cell_type": "code",
   "execution_count": 5,
   "id": "4df1c758",
   "metadata": {},
   "outputs": [],
   "source": [
    "# Try out this User-Agent. If it doesn't work, see instructions below.\n",
    "headers = {'User-Agent':'Mozilla/5.0 (Macintosh; Intel Mac OS X 10_15_7) AppleWebKit/537.36 (KHTML, like Gecko) Chrome/115.0.0.0 Safari/537.36'}"
   ]
  },
  {
   "cell_type": "code",
   "execution_count": 6,
   "id": "3e6b0322",
   "metadata": {},
   "outputs": [],
   "source": [
    "# Download the database\n",
    "#r = requests.get(url, headers=headers)\n",
    "\n",
    "# Save database to local file storage\n",
    "#with open(path+zip_file, 'wb') as f:\n",
    "#    f.write(r.content)"
   ]
  },
  {
   "cell_type": "markdown",
   "id": "89781010",
   "metadata": {},
   "source": [
    "**Note:** If the the requests.get() with the User-Agent doesn’t work for you, don’t worry! Just download the data manually here: [Download the Aircraft Registration Database (60MB)](https://www.faa.gov/licenses_certificates/aircraft_certification/aircraft_registry/releasable_aircraft_download). <br>\n",
    "Put the zip file as it is into the data folder we created above and go on with the notebook."
   ]
  },
  {
   "cell_type": "markdown",
   "id": "a18d0c8d",
   "metadata": {},
   "source": [
    "To make sure the file was downloaded successfully, go to the data folder in this repository and check its content. The folder should have a file called ReleasableAircraft.zip.  \n",
    "\n",
    "The next steps are to unpack the zip file and load the necessary files into Python. Conveniently there is a package to make unpacking a zip file in python easy, it's called <ins>zipfile</ins>.  \n",
    "\n",
    "Complete the code below and import the zipfile package."
   ]
  },
  {
   "cell_type": "code",
   "execution_count": 7,
   "id": "f1e1464b",
   "metadata": {},
   "outputs": [],
   "source": [
    "# Import zipfile package\n",
    "import zipfile"
   ]
  },
  {
   "cell_type": "markdown",
   "id": "784c7b1b",
   "metadata": {},
   "source": [
    "Now it's time to unpack the zip file. First, we're going to use the <ins>ZipFile()</ins> function and pass it  the path to the file as its first argument. As the second argument, in order to read an existing file, we pass it the parameter 'r'.\n",
    "\n",
    "To extract the ZipFile object we can either use the <ins>extract()</ins> function, to extract a single file, or the <ins>extractall()</ins> function, to extract all files from the archive.  \n",
    "\n",
    "Complete the code below and either extract all files or only the MASTER.txt, ACFTREF.txt and ardata.pdf file using the extract() or extractall() function respectively."
   ]
  },
  {
   "cell_type": "code",
   "execution_count": 8,
   "id": "1677e7ac",
   "metadata": {},
   "outputs": [],
   "source": [
    "# Unzip zip file using zipfile.ZipFile()\n",
    "#zipfile.ZipFile('data/ReleasableAircraft.zip', 'r')\n",
    "#zipfile.ZipFile(path+zip_file, 'r')"
   ]
  },
  {
   "cell_type": "code",
   "execution_count": 9,
   "id": "ae05c267",
   "metadata": {},
   "outputs": [],
   "source": [
    "# extract all files or only the MASTER.txt, ACFTREF.txt and ardata.pdf file\n",
    "#zipfile.ZipFile(path+zip_file, 'r').extractall(path)"
   ]
  },
  {
   "cell_type": "markdown",
   "id": "53f55ec0",
   "metadata": {},
   "source": [
    "We can use the file explorer in vs code to take a quick peak at the files we just extracted. In the Explorer expand the 'data' folder and click on the file MASTER.TXT to get a quick feel for the data."
   ]
  },
  {
   "cell_type": "markdown",
   "id": "cb1a4bf1",
   "metadata": {},
   "source": [
    "Good job! MASTER.txt contains comma separated values and lists all registered aircrafts, exactly what we need. \n",
    "Now that we have the necessary files it's time to load them into Python.\n",
    "One thing we notice in the file is there are some missing values that are filled with multiple spaces, we will have to deal with that when we load it into Python. Which is what we will do now!\n",
    "Complete the code below, import the MASTER.txt file and save it in a variable called master_df."
   ]
  },
  {
   "cell_type": "markdown",
   "id": "47cee14d",
   "metadata": {},
   "source": [
    "**Hint:** Check the [pandas documentation on read_csv()](https://pandas.pydata.org/docs/reference/api/pandas.read_csv.html) to see if there is a parameter that handles how spaces are treated, especially after the delimiter."
   ]
  },
  {
   "cell_type": "code",
   "execution_count": 10,
   "id": "2e815050",
   "metadata": {},
   "outputs": [
    {
     "name": "stderr",
     "output_type": "stream",
     "text": [
      "/var/folders/kg/4x2nf_j16nqds4y9z4ft7hxr0000gn/T/ipykernel_10418/1384393836.py:5: DtypeWarning: Columns (18) have mixed types. Specify dtype option on import or set low_memory=False.\n",
      "  master_df = pd.read_csv('data/MASTER.txt', sep=',', skipinitialspace=True)    #added low_memory=False because of error-message\n"
     ]
    },
    {
     "data": {
      "text/html": [
       "<div>\n",
       "<style scoped>\n",
       "    .dataframe tbody tr th:only-of-type {\n",
       "        vertical-align: middle;\n",
       "    }\n",
       "\n",
       "    .dataframe tbody tr th {\n",
       "        vertical-align: top;\n",
       "    }\n",
       "\n",
       "    .dataframe thead th {\n",
       "        text-align: right;\n",
       "    }\n",
       "</style>\n",
       "<table border=\"1\" class=\"dataframe\">\n",
       "  <thead>\n",
       "    <tr style=\"text-align: right;\">\n",
       "      <th></th>\n",
       "      <th>N-NUMBER</th>\n",
       "      <th>SERIAL NUMBER</th>\n",
       "      <th>MFR MDL CODE</th>\n",
       "      <th>ENG MFR MDL</th>\n",
       "      <th>YEAR MFR</th>\n",
       "      <th>TYPE REGISTRANT</th>\n",
       "      <th>NAME</th>\n",
       "      <th>STREET</th>\n",
       "      <th>STREET2</th>\n",
       "      <th>CITY</th>\n",
       "      <th>...</th>\n",
       "      <th>OTHER NAMES(2)</th>\n",
       "      <th>OTHER NAMES(3)</th>\n",
       "      <th>OTHER NAMES(4)</th>\n",
       "      <th>OTHER NAMES(5)</th>\n",
       "      <th>EXPIRATION DATE</th>\n",
       "      <th>UNIQUE ID</th>\n",
       "      <th>KIT MFR</th>\n",
       "      <th>KIT MODEL</th>\n",
       "      <th>MODE S CODE HEX</th>\n",
       "      <th>Unnamed: 34</th>\n",
       "    </tr>\n",
       "  </thead>\n",
       "  <tbody>\n",
       "    <tr>\n",
       "      <th>0</th>\n",
       "      <td>1</td>\n",
       "      <td>680-0519</td>\n",
       "      <td>2076811</td>\n",
       "      <td>52041.0</td>\n",
       "      <td>2014.0</td>\n",
       "      <td>7.0</td>\n",
       "      <td>TENAX AEROSPACE LLC                           ...</td>\n",
       "      <td>400 W PARKWAY PL STE 201</td>\n",
       "      <td>NaN</td>\n",
       "      <td>RIDGELAND</td>\n",
       "      <td>...</td>\n",
       "      <td>NaN</td>\n",
       "      <td>NaN</td>\n",
       "      <td>NaN</td>\n",
       "      <td>NaN</td>\n",
       "      <td>20281130.0</td>\n",
       "      <td>1141371</td>\n",
       "      <td>NaN</td>\n",
       "      <td>NaN</td>\n",
       "      <td>A00001</td>\n",
       "      <td>NaN</td>\n",
       "    </tr>\n",
       "    <tr>\n",
       "      <th>1</th>\n",
       "      <td>100</td>\n",
       "      <td>5334</td>\n",
       "      <td>7100510</td>\n",
       "      <td>17003.0</td>\n",
       "      <td>1940.0</td>\n",
       "      <td>1.0</td>\n",
       "      <td>BENE MARY D                                   ...</td>\n",
       "      <td>PO BOX 329</td>\n",
       "      <td>NaN</td>\n",
       "      <td>KETCHUM</td>\n",
       "      <td>...</td>\n",
       "      <td>NaN</td>\n",
       "      <td>NaN</td>\n",
       "      <td>NaN</td>\n",
       "      <td>NaN</td>\n",
       "      <td>20270430.0</td>\n",
       "      <td>600060</td>\n",
       "      <td>NaN</td>\n",
       "      <td>NaN</td>\n",
       "      <td>A004B3</td>\n",
       "      <td>NaN</td>\n",
       "    </tr>\n",
       "    <tr>\n",
       "      <th>2</th>\n",
       "      <td>10000</td>\n",
       "      <td>10000</td>\n",
       "      <td>2130004</td>\n",
       "      <td>NaN</td>\n",
       "      <td>NaN</td>\n",
       "      <td>8.0</td>\n",
       "      <td>CIRRUS DESIGN CORP                            ...</td>\n",
       "      <td>4515 TAYLOR CIRCLE</td>\n",
       "      <td>NaN</td>\n",
       "      <td>DULUTH</td>\n",
       "      <td>...</td>\n",
       "      <td>NaN</td>\n",
       "      <td>NaN</td>\n",
       "      <td>NaN</td>\n",
       "      <td>NaN</td>\n",
       "      <td>NaN</td>\n",
       "      <td>1443200</td>\n",
       "      <td>NaN</td>\n",
       "      <td>NaN</td>\n",
       "      <td>A00725</td>\n",
       "      <td>NaN</td>\n",
       "    </tr>\n",
       "    <tr>\n",
       "      <th>3</th>\n",
       "      <td>10001</td>\n",
       "      <td>A28</td>\n",
       "      <td>9601202</td>\n",
       "      <td>67007.0</td>\n",
       "      <td>1928.0</td>\n",
       "      <td>1.0</td>\n",
       "      <td>STOOS ROBERT A                                ...</td>\n",
       "      <td>PO BOX 1056</td>\n",
       "      <td>NaN</td>\n",
       "      <td>LAKELAND</td>\n",
       "      <td>...</td>\n",
       "      <td>NaN</td>\n",
       "      <td>NaN</td>\n",
       "      <td>NaN</td>\n",
       "      <td>NaN</td>\n",
       "      <td>20290228.0</td>\n",
       "      <td>432072</td>\n",
       "      <td>NaN</td>\n",
       "      <td>NaN</td>\n",
       "      <td>A00726</td>\n",
       "      <td>NaN</td>\n",
       "    </tr>\n",
       "    <tr>\n",
       "      <th>4</th>\n",
       "      <td>10004</td>\n",
       "      <td>T18208245</td>\n",
       "      <td>2072738</td>\n",
       "      <td>NaN</td>\n",
       "      <td>NaN</td>\n",
       "      <td>7.0</td>\n",
       "      <td>ETOS AIR LLC                                  ...</td>\n",
       "      <td>PO BOX 288</td>\n",
       "      <td>NaN</td>\n",
       "      <td>NEW LONDON</td>\n",
       "      <td>...</td>\n",
       "      <td>NaN</td>\n",
       "      <td>NaN</td>\n",
       "      <td>NaN</td>\n",
       "      <td>NaN</td>\n",
       "      <td>20290331.0</td>\n",
       "      <td>102879</td>\n",
       "      <td>NaN</td>\n",
       "      <td>NaN</td>\n",
       "      <td>A00729</td>\n",
       "      <td>NaN</td>\n",
       "    </tr>\n",
       "    <tr>\n",
       "      <th>5</th>\n",
       "      <td>10006</td>\n",
       "      <td>BG-72</td>\n",
       "      <td>1152020</td>\n",
       "      <td>17026.0</td>\n",
       "      <td>1955.0</td>\n",
       "      <td>1.0</td>\n",
       "      <td>COUTCHES ROBERT HERCULES DBA                  ...</td>\n",
       "      <td>550 AIRWAY BLVD</td>\n",
       "      <td>NaN</td>\n",
       "      <td>LIVERMORE</td>\n",
       "      <td>...</td>\n",
       "      <td>NaN</td>\n",
       "      <td>NaN</td>\n",
       "      <td>NaN</td>\n",
       "      <td>NaN</td>\n",
       "      <td>20280229.0</td>\n",
       "      <td>480110</td>\n",
       "      <td>NaN</td>\n",
       "      <td>NaN</td>\n",
       "      <td>A0072B</td>\n",
       "      <td>NaN</td>\n",
       "    </tr>\n",
       "    <tr>\n",
       "      <th>6</th>\n",
       "      <td>10007</td>\n",
       "      <td>21058839</td>\n",
       "      <td>2073430</td>\n",
       "      <td>17032.0</td>\n",
       "      <td>1966.0</td>\n",
       "      <td>1.0</td>\n",
       "      <td>INSKO MATTHEW T                               ...</td>\n",
       "      <td>5804 HILLTOP ST</td>\n",
       "      <td>NaN</td>\n",
       "      <td>PAPILLION</td>\n",
       "      <td>...</td>\n",
       "      <td>NaN</td>\n",
       "      <td>NaN</td>\n",
       "      <td>NaN</td>\n",
       "      <td>NaN</td>\n",
       "      <td>20290131.0</td>\n",
       "      <td>470110</td>\n",
       "      <td>NaN</td>\n",
       "      <td>NaN</td>\n",
       "      <td>A0072C</td>\n",
       "      <td>NaN</td>\n",
       "    </tr>\n",
       "  </tbody>\n",
       "</table>\n",
       "<p>7 rows × 35 columns</p>\n",
       "</div>"
      ],
      "text/plain": [
       "  N-NUMBER                   SERIAL NUMBER MFR MDL CODE  ENG MFR MDL   \n",
       "0    1      680-0519                            2076811      52041.0  \\\n",
       "1    100    5334                                7100510      17003.0   \n",
       "2    10000  10000                               2130004          NaN   \n",
       "3    10001  A28                                 9601202      67007.0   \n",
       "4    10004  T18208245                           2072738          NaN   \n",
       "5    10006  BG-72                               1152020      17026.0   \n",
       "6    10007  21058839                            2073430      17032.0   \n",
       "\n",
       "   YEAR MFR  TYPE REGISTRANT   \n",
       "0    2014.0              7.0  \\\n",
       "1    1940.0              1.0   \n",
       "2       NaN              8.0   \n",
       "3    1928.0              1.0   \n",
       "4       NaN              7.0   \n",
       "5    1955.0              1.0   \n",
       "6    1966.0              1.0   \n",
       "\n",
       "                                                NAME   \n",
       "0  TENAX AEROSPACE LLC                           ...  \\\n",
       "1  BENE MARY D                                   ...   \n",
       "2  CIRRUS DESIGN CORP                            ...   \n",
       "3  STOOS ROBERT A                                ...   \n",
       "4  ETOS AIR LLC                                  ...   \n",
       "5  COUTCHES ROBERT HERCULES DBA                  ...   \n",
       "6  INSKO MATTHEW T                               ...   \n",
       "\n",
       "                              STREET STREET2                CITY  ...   \n",
       "0  400 W PARKWAY PL STE 201              NaN  RIDGELAND           ...  \\\n",
       "1  PO BOX 329                            NaN  KETCHUM             ...   \n",
       "2  4515 TAYLOR CIRCLE                    NaN  DULUTH              ...   \n",
       "3  PO BOX 1056                           NaN  LAKELAND            ...   \n",
       "4  PO BOX 288                            NaN  NEW LONDON          ...   \n",
       "5  550 AIRWAY BLVD                       NaN  LIVERMORE           ...   \n",
       "6  5804 HILLTOP ST                       NaN  PAPILLION           ...   \n",
       "\n",
       "  OTHER NAMES(2) OTHER NAMES(3) OTHER NAMES(4)  OTHER NAMES(5)   \n",
       "0            NaN            NaN            NaN             NaN  \\\n",
       "1            NaN            NaN            NaN             NaN   \n",
       "2            NaN            NaN            NaN             NaN   \n",
       "3            NaN            NaN            NaN             NaN   \n",
       "4            NaN            NaN            NaN             NaN   \n",
       "5            NaN            NaN            NaN             NaN   \n",
       "6            NaN            NaN            NaN             NaN   \n",
       "\n",
       "  EXPIRATION DATE  UNIQUE ID  KIT MFR KIT MODEL MODE S CODE HEX  Unnamed: 34  \n",
       "0      20281130.0    1141371      NaN       NaN      A00001              NaN  \n",
       "1      20270430.0     600060      NaN       NaN      A004B3              NaN  \n",
       "2             NaN    1443200      NaN       NaN      A00725              NaN  \n",
       "3      20290228.0     432072      NaN       NaN      A00726              NaN  \n",
       "4      20290331.0     102879      NaN       NaN      A00729              NaN  \n",
       "5      20280229.0     480110      NaN       NaN      A0072B              NaN  \n",
       "6      20290131.0     470110      NaN       NaN      A0072C              NaN  \n",
       "\n",
       "[7 rows x 35 columns]"
      ]
     },
     "execution_count": 10,
     "metadata": {},
     "output_type": "execute_result"
    }
   ],
   "source": [
    "# Import the necessary package\n",
    "import pandas as pd\n",
    "\n",
    "# Read MASTER.txt file and assign to variable master\n",
    "master_df = pd.read_csv('data/MASTER.txt', sep=',', skipinitialspace=True)    #added low_memory=False because of error-message\n",
    "\n",
    "# Print first 5 rows\n",
    "master_df.head(7)"
   ]
  },
  {
   "cell_type": "markdown",
   "id": "8759e5b4",
   "metadata": {},
   "source": [
    "Next, let's have a look at the column names.  \n",
    "Complete the code below and print all column names with their non-null counts and data types."
   ]
  },
  {
   "cell_type": "code",
   "execution_count": 11,
   "id": "0a275f59",
   "metadata": {},
   "outputs": [
    {
     "name": "stdout",
     "output_type": "stream",
     "text": [
      "<class 'pandas.core.frame.DataFrame'>\n",
      "RangeIndex: 295558 entries, 0 to 295557\n",
      "Data columns (total 35 columns):\n",
      " #   Column            Non-Null Count   Dtype  \n",
      "---  ------            --------------   -----  \n",
      " 0   N-NUMBER          295558 non-null  object \n",
      " 1   SERIAL NUMBER     295558 non-null  object \n",
      " 2   MFR MDL CODE      295558 non-null  object \n",
      " 3   ENG MFR MDL       268928 non-null  float64\n",
      " 4   YEAR MFR          241121 non-null  float64\n",
      " 5   TYPE REGISTRANT   295020 non-null  float64\n",
      " 6   NAME              295018 non-null  object \n",
      " 7   STREET            295013 non-null  object \n",
      " 8   STREET2           10326 non-null   object \n",
      " 9   CITY              295020 non-null  object \n",
      " 10  STATE             293500 non-null  object \n",
      " 11  ZIP CODE          294960 non-null  object \n",
      " 12  REGION            295207 non-null  object \n",
      " 13  COUNTY            293402 non-null  float64\n",
      " 14  COUNTRY           295020 non-null  object \n",
      " 15  LAST ACTION DATE  295558 non-null  int64  \n",
      " 16  CERT ISSUE DATE   289095 non-null  float64\n",
      " 17  CERTIFICATION     272612 non-null  object \n",
      " 18  TYPE AIRCRAFT     295558 non-null  object \n",
      " 19  TYPE ENGINE       295558 non-null  int64  \n",
      " 20  STATUS CODE       295558 non-null  object \n",
      " 21  MODE S CODE       295558 non-null  int64  \n",
      " 22  FRACT OWNER       889 non-null     object \n",
      " 23  AIR WORTH DATE    264433 non-null  float64\n",
      " 24  OTHER NAMES(1)    32357 non-null   object \n",
      " 25  OTHER NAMES(2)    3209 non-null    object \n",
      " 26  OTHER NAMES(3)    1309 non-null    object \n",
      " 27  OTHER NAMES(4)    871 non-null     object \n",
      " 28  OTHER NAMES(5)    744 non-null     object \n",
      " 29  EXPIRATION DATE   288960 non-null  float64\n",
      " 30  UNIQUE ID         295558 non-null  int64  \n",
      " 31  KIT MFR           15861 non-null   object \n",
      " 32  KIT MODEL         15861 non-null   object \n",
      " 33  MODE S CODE HEX   295558 non-null  object \n",
      " 34  Unnamed: 34       0 non-null       float64\n",
      "dtypes: float64(8), int64(4), object(23)\n",
      "memory usage: 78.9+ MB\n"
     ]
    }
   ],
   "source": [
    "# Print master info\n",
    "master_df.info()"
   ]
  },
  {
   "cell_type": "markdown",
   "id": "672588be",
   "metadata": {},
   "source": [
    "## EDA & data preparation\n",
    "In total we have 287554 rows across 35 columns, some null values (although none in the ID column) and a mix of object and integer data types (if you're numbers are slightly different, this is because the database is updated regularly with new aircraft). \n",
    "All column names are uppercase and separated by spaces. As analysts we already know that this is not a preferred format. So before we continue let's make all columns lowercase and replace the spaces with underscores.  \n",
    "Complete the code below and transform all column names from uppercase to lowercase."
   ]
  },
  {
   "cell_type": "code",
   "execution_count": 12,
   "id": "7825cd4c",
   "metadata": {},
   "outputs": [
    {
     "data": {
      "text/plain": [
       "Index(['n-number', 'serial number', 'mfr mdl code', 'eng mfr mdl', 'year mfr',\n",
       "       'type registrant', 'name', 'street', 'street2', 'city', 'state',\n",
       "       'zip code', 'region', 'county', 'country', 'last action date',\n",
       "       'cert issue date', 'certification', 'type aircraft', 'type engine',\n",
       "       'status code', 'mode s code', 'fract owner', 'air worth date',\n",
       "       'other names(1)', 'other names(2)', 'other names(3)', 'other names(4)',\n",
       "       'other names(5)', 'expiration date', 'unique id', 'kit mfr',\n",
       "       'kit model', 'mode s code hex', 'unnamed: 34'],\n",
       "      dtype='object')"
      ]
     },
     "execution_count": 12,
     "metadata": {},
     "output_type": "execute_result"
    }
   ],
   "source": [
    "# Make column names lowercase\n",
    "#master_df.columns = map(str.lower, master_df.columns)\n",
    "master_df.columns = master_df.columns.str.lower()\n",
    "\n",
    "# Print all column names\n",
    "master_df.columns"
   ]
  },
  {
   "cell_type": "markdown",
   "id": "bf1e2ad5",
   "metadata": {},
   "source": [
    "Next, we're going to replace spaces with underscores."
   ]
  },
  {
   "cell_type": "code",
   "execution_count": 13,
   "id": "8a55f586",
   "metadata": {},
   "outputs": [
    {
     "data": {
      "text/plain": [
       "Index(['n-number', 'serial_number', 'mfr_mdl_code', 'eng_mfr_mdl', 'year_mfr',\n",
       "       'type_registrant', 'name', 'street', 'street2', 'city', 'state',\n",
       "       'zip_code', 'region', 'county', 'country', 'last_action_date',\n",
       "       'cert_issue_date', 'certification', 'type_aircraft', 'type_engine',\n",
       "       'status_code', 'mode_s_code', 'fract_owner', 'air_worth_date',\n",
       "       'other_names(1)', 'other_names(2)', 'other_names(3)', 'other_names(4)',\n",
       "       'other_names(5)', 'expiration_date', 'unique_id', 'kit_mfr',\n",
       "       'kit_model', 'mode_s_code_hex', 'unnamed:_34'],\n",
       "      dtype='object')"
      ]
     },
     "execution_count": 13,
     "metadata": {},
     "output_type": "execute_result"
    }
   ],
   "source": [
    "# Replace spaces with underscores\n",
    "master_df.columns = master_df.columns.str.replace(' ', '_')\n",
    "\n",
    "# Print all column names\n",
    "master_df.columns"
   ]
  },
  {
   "cell_type": "markdown",
   "id": "888a6b02",
   "metadata": {},
   "source": [
    "Perfect, now that the column names are in a consistent and clean format we can move on to working with the data. Even though the MASTER.txt file has 33 columns, we're only going to need 3: \n",
    "1. n-number: the tail number of the aircraft\n",
    "2. mfr_mdl_code: the manufacturer model code\n",
    "3. year_mfr: the year the aircraft was manufactured\n",
    "\n",
    "Complete the code below, create a subset of the master data that only includes the above mentioned columns and reassign it to the master variable."
   ]
  },
  {
   "cell_type": "code",
   "execution_count": 14,
   "id": "f5a94135",
   "metadata": {},
   "outputs": [
    {
     "data": {
      "text/plain": [
       "Index(['n-number', 'serial_number', 'mfr_mdl_code', 'eng_mfr_mdl', 'year_mfr',\n",
       "       'type_registrant', 'name', 'street', 'street2', 'city', 'state',\n",
       "       'zip_code', 'region', 'county', 'country', 'last_action_date',\n",
       "       'cert_issue_date', 'certification', 'type_aircraft', 'type_engine',\n",
       "       'status_code', 'mode_s_code', 'fract_owner', 'air_worth_date',\n",
       "       'other_names(1)', 'other_names(2)', 'other_names(3)', 'other_names(4)',\n",
       "       'other_names(5)', 'expiration_date', 'unique_id', 'kit_mfr',\n",
       "       'kit_model', 'mode_s_code_hex', 'unnamed:_34'],\n",
       "      dtype='object')"
      ]
     },
     "execution_count": 14,
     "metadata": {},
     "output_type": "execute_result"
    }
   ],
   "source": [
    "master_df.columns"
   ]
  },
  {
   "cell_type": "code",
   "execution_count": 15,
   "id": "ed0a8509",
   "metadata": {},
   "outputs": [
    {
     "data": {
      "text/plain": [
       "Index(['n-number', 'mfr_mdl_code', 'year_mfr'], dtype='object')"
      ]
     },
     "execution_count": 15,
     "metadata": {},
     "output_type": "execute_result"
    }
   ],
   "source": [
    "# Create subset with n-number, mfr_mdl_code and year_mfr columns\n",
    "subset = master_df[['n-number', 'mfr_mdl_code', 'year_mfr']]\n",
    "master_df = subset.copy()\n",
    "\n",
    "# Print all column names\n",
    "master_df.columns"
   ]
  },
  {
   "cell_type": "markdown",
   "id": "7255f426",
   "metadata": {},
   "source": [
    "Let's clean up the column names a bit more.\n",
    "Complete the code below and rename the columns to: nnum, code and year."
   ]
  },
  {
   "cell_type": "code",
   "execution_count": 16,
   "id": "e2ef50c8",
   "metadata": {},
   "outputs": [
    {
     "data": {
      "text/plain": [
       "Index(['nnum', 'code', 'year'], dtype='object')"
      ]
     },
     "execution_count": 16,
     "metadata": {},
     "output_type": "execute_result"
    }
   ],
   "source": [
    "# Rename columns to nnum, code and year\n",
    "master_df.rename(columns= {'n-number': 'nnum', 'mfr_mdl_code': 'code', 'year_mfr': 'year'}, inplace = True)\n",
    "\n",
    "# Print all column names\n",
    "master_df.columns"
   ]
  },
  {
   "cell_type": "code",
   "execution_count": 17,
   "id": "bc2fde32",
   "metadata": {},
   "outputs": [
    {
     "name": "stdout",
     "output_type": "stream",
     "text": [
      "<class 'pandas.core.frame.DataFrame'>\n",
      "RangeIndex: 295558 entries, 0 to 295557\n",
      "Data columns (total 3 columns):\n",
      " #   Column  Non-Null Count   Dtype  \n",
      "---  ------  --------------   -----  \n",
      " 0   nnum    295558 non-null  object \n",
      " 1   code    295558 non-null  object \n",
      " 2   year    241121 non-null  float64\n",
      "dtypes: float64(1), object(2)\n",
      "memory usage: 6.8+ MB\n"
     ]
    }
   ],
   "source": [
    "master_df.info()"
   ]
  },
  {
   "cell_type": "code",
   "execution_count": 18,
   "id": "6fc7dd2d",
   "metadata": {},
   "outputs": [
    {
     "data": {
      "text/plain": [
       "nnum\n",
       "False    295558\n",
       "Name: count, dtype: int64"
      ]
     },
     "execution_count": 18,
     "metadata": {},
     "output_type": "execute_result"
    }
   ],
   "source": [
    "master_df['nnum'].str.startswith(' ').value_counts()"
   ]
  },
  {
   "cell_type": "code",
   "execution_count": 19,
   "id": "3fe331cc",
   "metadata": {},
   "outputs": [
    {
     "data": {
      "text/plain": [
       "nnum\n",
       "False    251278\n",
       "True      44280\n",
       "Name: count, dtype: int64"
      ]
     },
     "execution_count": 19,
     "metadata": {},
     "output_type": "execute_result"
    }
   ],
   "source": [
    "master_df['nnum'].str.endswith(' ').value_counts()"
   ]
  },
  {
   "cell_type": "code",
   "execution_count": 20,
   "id": "e804cacb",
   "metadata": {},
   "outputs": [
    {
     "data": {
      "text/plain": [
       "code\n",
       "False    295558\n",
       "Name: count, dtype: int64"
      ]
     },
     "execution_count": 20,
     "metadata": {},
     "output_type": "execute_result"
    }
   ],
   "source": [
    "master_df['code'].str.startswith(' ').value_counts()"
   ]
  },
  {
   "cell_type": "code",
   "execution_count": 21,
   "id": "43f67ad1",
   "metadata": {},
   "outputs": [
    {
     "data": {
      "text/plain": [
       "code\n",
       "False    295558\n",
       "Name: count, dtype: int64"
      ]
     },
     "execution_count": 21,
     "metadata": {},
     "output_type": "execute_result"
    }
   ],
   "source": [
    "master_df['code'].str.endswith(' ').value_counts()"
   ]
  },
  {
   "cell_type": "markdown",
   "id": "f5d84492",
   "metadata": {},
   "source": [
    "While we're at it, we should remove any leading and trailing whitespace in our nnum and code column.  \n",
    "Complete the code below and remove any whitespace from the nnum and code column."
   ]
  },
  {
   "cell_type": "code",
   "execution_count": 22,
   "id": "424454c9",
   "metadata": {},
   "outputs": [
    {
     "data": {
      "text/html": [
       "<div>\n",
       "<style scoped>\n",
       "    .dataframe tbody tr th:only-of-type {\n",
       "        vertical-align: middle;\n",
       "    }\n",
       "\n",
       "    .dataframe tbody tr th {\n",
       "        vertical-align: top;\n",
       "    }\n",
       "\n",
       "    .dataframe thead th {\n",
       "        text-align: right;\n",
       "    }\n",
       "</style>\n",
       "<table border=\"1\" class=\"dataframe\">\n",
       "  <thead>\n",
       "    <tr style=\"text-align: right;\">\n",
       "      <th></th>\n",
       "      <th>nnum</th>\n",
       "      <th>code</th>\n",
       "      <th>year</th>\n",
       "    </tr>\n",
       "  </thead>\n",
       "  <tbody>\n",
       "    <tr>\n",
       "      <th>0</th>\n",
       "      <td>1</td>\n",
       "      <td>2076811</td>\n",
       "      <td>2014.0</td>\n",
       "    </tr>\n",
       "    <tr>\n",
       "      <th>1</th>\n",
       "      <td>100</td>\n",
       "      <td>7100510</td>\n",
       "      <td>1940.0</td>\n",
       "    </tr>\n",
       "    <tr>\n",
       "      <th>2</th>\n",
       "      <td>10000</td>\n",
       "      <td>2130004</td>\n",
       "      <td>NaN</td>\n",
       "    </tr>\n",
       "    <tr>\n",
       "      <th>3</th>\n",
       "      <td>10001</td>\n",
       "      <td>9601202</td>\n",
       "      <td>1928.0</td>\n",
       "    </tr>\n",
       "    <tr>\n",
       "      <th>4</th>\n",
       "      <td>10004</td>\n",
       "      <td>2072738</td>\n",
       "      <td>NaN</td>\n",
       "    </tr>\n",
       "    <tr>\n",
       "      <th>...</th>\n",
       "      <td>...</td>\n",
       "      <td>...</td>\n",
       "      <td>...</td>\n",
       "    </tr>\n",
       "    <tr>\n",
       "      <th>295553</th>\n",
       "      <td>9ZR</td>\n",
       "      <td>8680511</td>\n",
       "      <td>NaN</td>\n",
       "    </tr>\n",
       "    <tr>\n",
       "      <th>295554</th>\n",
       "      <td>9ZS</td>\n",
       "      <td>5760102</td>\n",
       "      <td>1974.0</td>\n",
       "    </tr>\n",
       "    <tr>\n",
       "      <th>295555</th>\n",
       "      <td>9ZT</td>\n",
       "      <td>2130001</td>\n",
       "      <td>2001.0</td>\n",
       "    </tr>\n",
       "    <tr>\n",
       "      <th>295556</th>\n",
       "      <td>9ZU</td>\n",
       "      <td>7101828</td>\n",
       "      <td>1959.0</td>\n",
       "    </tr>\n",
       "    <tr>\n",
       "      <th>295557</th>\n",
       "      <td>9ZX</td>\n",
       "      <td>05655US</td>\n",
       "      <td>1986.0</td>\n",
       "    </tr>\n",
       "  </tbody>\n",
       "</table>\n",
       "<p>295558 rows × 3 columns</p>\n",
       "</div>"
      ],
      "text/plain": [
       "         nnum     code    year\n",
       "0           1  2076811  2014.0\n",
       "1         100  7100510  1940.0\n",
       "2       10000  2130004     NaN\n",
       "3       10001  9601202  1928.0\n",
       "4       10004  2072738     NaN\n",
       "...       ...      ...     ...\n",
       "295553    9ZR  8680511     NaN\n",
       "295554    9ZS  5760102  1974.0\n",
       "295555    9ZT  2130001  2001.0\n",
       "295556    9ZU  7101828  1959.0\n",
       "295557    9ZX  05655US  1986.0\n",
       "\n",
       "[295558 rows x 3 columns]"
      ]
     },
     "execution_count": 22,
     "metadata": {},
     "output_type": "execute_result"
    }
   ],
   "source": [
    "# Remove whitespace from nnum column\n",
    "#master_df['nnum'].str.replace(' ', '')\n",
    "master_df['nnum'] = master_df['nnum'].str.strip()\n",
    "\n",
    "# Remove whitespace from code column\n",
    "#master_df['code'].str.replace(' ', '')\n",
    "master_df['code'] = master_df['code'].str.strip()\n",
    "\n",
    "master_df"
   ]
  },
  {
   "cell_type": "code",
   "execution_count": 23,
   "id": "3ec158b4",
   "metadata": {},
   "outputs": [
    {
     "data": {
      "text/plain": [
       "nnum\n",
       "False    295558\n",
       "Name: count, dtype: int64"
      ]
     },
     "execution_count": 23,
     "metadata": {},
     "output_type": "execute_result"
    }
   ],
   "source": [
    "master_df['nnum'].str.startswith(' ').value_counts()"
   ]
  },
  {
   "cell_type": "code",
   "execution_count": 24,
   "id": "6c108603",
   "metadata": {},
   "outputs": [
    {
     "data": {
      "text/plain": [
       "nnum\n",
       "False    295558\n",
       "Name: count, dtype: int64"
      ]
     },
     "execution_count": 24,
     "metadata": {},
     "output_type": "execute_result"
    }
   ],
   "source": [
    "master_df['nnum'].str.endswith(' ').value_counts()"
   ]
  },
  {
   "cell_type": "code",
   "execution_count": 25,
   "id": "242350ff",
   "metadata": {},
   "outputs": [
    {
     "data": {
      "text/plain": [
       "code\n",
       "False    295558\n",
       "Name: count, dtype: int64"
      ]
     },
     "execution_count": 25,
     "metadata": {},
     "output_type": "execute_result"
    }
   ],
   "source": [
    "master_df['code'].str.startswith(' ').value_counts()"
   ]
  },
  {
   "cell_type": "code",
   "execution_count": 27,
   "id": "c887ccfa",
   "metadata": {},
   "outputs": [
    {
     "data": {
      "text/plain": [
       "code\n",
       "False    295558\n",
       "Name: count, dtype: int64"
      ]
     },
     "execution_count": 27,
     "metadata": {},
     "output_type": "execute_result"
    }
   ],
   "source": [
    "master_df['code'].str.endswith(' ').value_counts()"
   ]
  },
  {
   "cell_type": "markdown",
   "id": "3d8aba57",
   "metadata": {},
   "source": [
    "Great job so far! Now we have a file that contains a list of all aircrafts, their manufacturer model code and the year it was manufactured. I agree, this is not a lot of information but we're also not done yet. We still haven't looked at the other file: ACFTREF.txt. This file consists of detailed information for each aircraft such as the number of engines, engine type, number of seats etc. Let's import it and have a look!  \n",
    "Complete the code below and import the ACFTREF.txt file. Save it in a variable called ref and print its first 5 rows."
   ]
  },
  {
   "cell_type": "code",
   "execution_count": 28,
   "id": "f51b813f",
   "metadata": {},
   "outputs": [
    {
     "data": {
      "text/html": [
       "<div>\n",
       "<style scoped>\n",
       "    .dataframe tbody tr th:only-of-type {\n",
       "        vertical-align: middle;\n",
       "    }\n",
       "\n",
       "    .dataframe tbody tr th {\n",
       "        vertical-align: top;\n",
       "    }\n",
       "\n",
       "    .dataframe thead th {\n",
       "        text-align: right;\n",
       "    }\n",
       "</style>\n",
       "<table border=\"1\" class=\"dataframe\">\n",
       "  <thead>\n",
       "    <tr style=\"text-align: right;\">\n",
       "      <th></th>\n",
       "      <th>CODE</th>\n",
       "      <th>MFR</th>\n",
       "      <th>MODEL</th>\n",
       "      <th>TYPE-ACFT</th>\n",
       "      <th>TYPE-ENG</th>\n",
       "      <th>AC-CAT</th>\n",
       "      <th>BUILD-CERT-IND</th>\n",
       "      <th>NO-ENG</th>\n",
       "      <th>NO-SEATS</th>\n",
       "      <th>AC-WEIGHT</th>\n",
       "      <th>SPEED</th>\n",
       "      <th>TC-DATA-SHEET</th>\n",
       "      <th>TC-DATA-HOLDER</th>\n",
       "      <th>Unnamed: 13</th>\n",
       "    </tr>\n",
       "  </thead>\n",
       "  <tbody>\n",
       "    <tr>\n",
       "      <th>0</th>\n",
       "      <td>0020901</td>\n",
       "      <td>AAR AIRLIFT GROUP INC</td>\n",
       "      <td>UH-60A</td>\n",
       "      <td>6</td>\n",
       "      <td>3</td>\n",
       "      <td>1</td>\n",
       "      <td>0</td>\n",
       "      <td>2</td>\n",
       "      <td>15</td>\n",
       "      <td>CLASS 3</td>\n",
       "      <td>0</td>\n",
       "      <td>NaN</td>\n",
       "      <td>NaN</td>\n",
       "      <td>NaN</td>\n",
       "    </tr>\n",
       "    <tr>\n",
       "      <th>1</th>\n",
       "      <td>0030109</td>\n",
       "      <td>EXLINE ACE-C</td>\n",
       "      <td>ACE-C</td>\n",
       "      <td>4</td>\n",
       "      <td>1</td>\n",
       "      <td>1</td>\n",
       "      <td>1</td>\n",
       "      <td>1</td>\n",
       "      <td>1</td>\n",
       "      <td>CLASS 1</td>\n",
       "      <td>82</td>\n",
       "      <td>NaN</td>\n",
       "      <td>NaN</td>\n",
       "      <td>NaN</td>\n",
       "    </tr>\n",
       "    <tr>\n",
       "      <th>2</th>\n",
       "      <td>003010D</td>\n",
       "      <td>DELEBAUGH</td>\n",
       "      <td>P</td>\n",
       "      <td>4</td>\n",
       "      <td>1</td>\n",
       "      <td>1</td>\n",
       "      <td>1</td>\n",
       "      <td>1</td>\n",
       "      <td>1</td>\n",
       "      <td>CLASS 1</td>\n",
       "      <td>82</td>\n",
       "      <td>NaN</td>\n",
       "      <td>NaN</td>\n",
       "      <td>NaN</td>\n",
       "    </tr>\n",
       "    <tr>\n",
       "      <th>3</th>\n",
       "      <td>003010H</td>\n",
       "      <td>DAL PORTO</td>\n",
       "      <td>BABY ACE D</td>\n",
       "      <td>4</td>\n",
       "      <td>1</td>\n",
       "      <td>1</td>\n",
       "      <td>1</td>\n",
       "      <td>1</td>\n",
       "      <td>1</td>\n",
       "      <td>CLASS 1</td>\n",
       "      <td>82</td>\n",
       "      <td>NaN</td>\n",
       "      <td>NaN</td>\n",
       "      <td>NaN</td>\n",
       "    </tr>\n",
       "    <tr>\n",
       "      <th>4</th>\n",
       "      <td>003010P</td>\n",
       "      <td>DUNN</td>\n",
       "      <td>BABY ACE</td>\n",
       "      <td>4</td>\n",
       "      <td>1</td>\n",
       "      <td>1</td>\n",
       "      <td>1</td>\n",
       "      <td>1</td>\n",
       "      <td>1</td>\n",
       "      <td>CLASS 1</td>\n",
       "      <td>82</td>\n",
       "      <td>NaN</td>\n",
       "      <td>NaN</td>\n",
       "      <td>NaN</td>\n",
       "    </tr>\n",
       "  </tbody>\n",
       "</table>\n",
       "</div>"
      ],
      "text/plain": [
       "      CODE                             MFR                 MODEL TYPE-ACFT   \n",
       "0  0020901  AAR AIRLIFT GROUP INC           UH-60A                       6  \\\n",
       "1  0030109  EXLINE ACE-C                    ACE-C                        4   \n",
       "2  003010D  DELEBAUGH                       P                            4   \n",
       "3  003010H  DAL PORTO                       BABY ACE D                   4   \n",
       "4  003010P  DUNN                            BABY ACE                     4   \n",
       "\n",
       "   TYPE-ENG  AC-CAT  BUILD-CERT-IND  NO-ENG  NO-SEATS AC-WEIGHT  SPEED   \n",
       "0         3       1               0       2        15   CLASS 3      0  \\\n",
       "1         1       1               1       1         1   CLASS 1     82   \n",
       "2         1       1               1       1         1   CLASS 1     82   \n",
       "3         1       1               1       1         1   CLASS 1     82   \n",
       "4         1       1               1       1         1   CLASS 1     82   \n",
       "\n",
       "  TC-DATA-SHEET TC-DATA-HOLDER  Unnamed: 13  \n",
       "0           NaN            NaN          NaN  \n",
       "1           NaN            NaN          NaN  \n",
       "2           NaN            NaN          NaN  \n",
       "3           NaN            NaN          NaN  \n",
       "4           NaN            NaN          NaN  "
      ]
     },
     "execution_count": 28,
     "metadata": {},
     "output_type": "execute_result"
    }
   ],
   "source": [
    "# Read ACFTREF.txt file and assign to variable ref\n",
    "ref_df = pd.read_csv('data/ACFTREF.txt', sep=\",\", skipinitialspace=True)\n",
    "\n",
    "# Print first 5 rows\n",
    "ref_df.head(5)"
   ]
  },
  {
   "cell_type": "markdown",
   "id": "ba3eb6be",
   "metadata": {},
   "source": [
    "Just like we did before, let's have a look at the column names, null values and data types."
   ]
  },
  {
   "cell_type": "code",
   "execution_count": 29,
   "id": "2cafae85",
   "metadata": {},
   "outputs": [
    {
     "name": "stdout",
     "output_type": "stream",
     "text": [
      "<class 'pandas.core.frame.DataFrame'>\n",
      "RangeIndex: 91739 entries, 0 to 91738\n",
      "Data columns (total 14 columns):\n",
      " #   Column          Non-Null Count  Dtype  \n",
      "---  ------          --------------  -----  \n",
      " 0   CODE            91739 non-null  object \n",
      " 1   MFR             91739 non-null  object \n",
      " 2   MODEL           91739 non-null  object \n",
      " 3   TYPE-ACFT       91739 non-null  object \n",
      " 4   TYPE-ENG        91739 non-null  int64  \n",
      " 5   AC-CAT          91739 non-null  int64  \n",
      " 6   BUILD-CERT-IND  91739 non-null  int64  \n",
      " 7   NO-ENG          91739 non-null  int64  \n",
      " 8   NO-SEATS        91739 non-null  int64  \n",
      " 9   AC-WEIGHT       91739 non-null  object \n",
      " 10  SPEED           91739 non-null  int64  \n",
      " 11  TC-DATA-SHEET   1080 non-null   object \n",
      " 12  TC-DATA-HOLDER  1080 non-null   object \n",
      " 13  Unnamed: 13     0 non-null      float64\n",
      "dtypes: float64(1), int64(6), object(7)\n",
      "memory usage: 9.8+ MB\n"
     ]
    }
   ],
   "source": [
    "# Print table info\n",
    "ref_df.info()"
   ]
  },
  {
   "cell_type": "markdown",
   "id": "14ca2cdc",
   "metadata": {},
   "source": [
    "This time we have 12 columns, no null values and a mix of object and integer data types. On top of that all column names are uppercase again, but this time they're seperated with a dash. So before we continue let's make all columns lowercase and replace the dashes with underscores.  \n",
    "Complete the code below and transform all column names from uppercase to lowercase."
   ]
  },
  {
   "cell_type": "code",
   "execution_count": 30,
   "id": "4114f520",
   "metadata": {},
   "outputs": [
    {
     "data": {
      "text/plain": [
       "Index(['code', 'mfr', 'model', 'type-acft', 'type-eng', 'ac-cat',\n",
       "       'build-cert-ind', 'no-eng', 'no-seats', 'ac-weight', 'speed',\n",
       "       'tc-data-sheet', 'tc-data-holder', 'unnamed: 13'],\n",
       "      dtype='object')"
      ]
     },
     "execution_count": 30,
     "metadata": {},
     "output_type": "execute_result"
    }
   ],
   "source": [
    "# Make column names lowercase\n",
    "ref_df.columns = ref_df.columns.str.lower()\n",
    "\n",
    "# Print all column names\n",
    "ref_df.columns"
   ]
  },
  {
   "cell_type": "markdown",
   "id": "2754b9a2",
   "metadata": {},
   "source": [
    "Next, we're going to replace dashes with underscores."
   ]
  },
  {
   "cell_type": "code",
   "execution_count": 31,
   "id": "60870197",
   "metadata": {},
   "outputs": [
    {
     "data": {
      "text/plain": [
       "Index(['code', 'mfr', 'model', 'type_acft', 'type_eng', 'ac_cat',\n",
       "       'build_cert_ind', 'no_eng', 'no_seats', 'ac_weight', 'speed',\n",
       "       'tc_data_sheet', 'tc_data_holder', 'unnamed: 13'],\n",
       "      dtype='object')"
      ]
     },
     "execution_count": 31,
     "metadata": {},
     "output_type": "execute_result"
    }
   ],
   "source": [
    "# Replace dashes with underscores\n",
    "ref_df.columns = ref_df.columns.str.replace('-', '_')\n",
    "\n",
    "# Print all column names\n",
    "ref_df.columns"
   ]
  },
  {
   "cell_type": "markdown",
   "id": "fa799d81",
   "metadata": {},
   "source": [
    "Now the column names are in a format that makes it a lot easier to work with the table. Next we're going to create a subset of the data since we won't be needing all the columns present in the table.\n",
    "Complete the code below and create a subset that only contains the following columns: \n",
    "1. code: aircraft manufacturer, model and series code\n",
    "2. mfr: name of the aircraft manufacturer\n",
    "3. model: name of the aircraft model and series\n",
    "4. type_acft: the id of the aircraft type\n",
    "5. type_eng: the id of the engine type\n",
    "6. no_eng: number of engines on the aircraft\n",
    "7. no_seats: maximum number of seats in the aircraft\n",
    "8. speed: the aircraft average cruising speed\n",
    "\n",
    "Complete the code below and create a subset of the ref data that only includes the above mentioned columns."
   ]
  },
  {
   "cell_type": "code",
   "execution_count": 32,
   "id": "f488c881",
   "metadata": {},
   "outputs": [
    {
     "data": {
      "text/plain": [
       "Index(['code', 'mfr', 'model', 'type_acft', 'type_eng', 'no_eng', 'no_seats',\n",
       "       'speed'],\n",
       "      dtype='object')"
      ]
     },
     "execution_count": 32,
     "metadata": {},
     "output_type": "execute_result"
    }
   ],
   "source": [
    "# Select columns to keep\n",
    "ref_df = ref_df [['code', 'mfr', 'model', 'type_acft', 'type_eng', 'no_eng', 'no_seats', 'speed']]\n",
    "\n",
    "# Print all column names\n",
    "ref_df.columns"
   ]
  },
  {
   "cell_type": "markdown",
   "id": "62615b42",
   "metadata": {},
   "source": [
    "Great, now we have a subset that only contains the columns we're interested in.  \n",
    "Next, we're going to combine our master and ref dataset on the code column.  \n",
    "Complete the code below and inner join the master and ref dataset on the code column.  \n",
    "Save the combined dataset in a new variable called 'df_all' and print the dataframe's info."
   ]
  },
  {
   "cell_type": "code",
   "execution_count": 33,
   "id": "baadb425",
   "metadata": {},
   "outputs": [
    {
     "data": {
      "text/html": [
       "<div>\n",
       "<style scoped>\n",
       "    .dataframe tbody tr th:only-of-type {\n",
       "        vertical-align: middle;\n",
       "    }\n",
       "\n",
       "    .dataframe tbody tr th {\n",
       "        vertical-align: top;\n",
       "    }\n",
       "\n",
       "    .dataframe thead th {\n",
       "        text-align: right;\n",
       "    }\n",
       "</style>\n",
       "<table border=\"1\" class=\"dataframe\">\n",
       "  <thead>\n",
       "    <tr style=\"text-align: right;\">\n",
       "      <th></th>\n",
       "      <th>nnum</th>\n",
       "      <th>code</th>\n",
       "      <th>year</th>\n",
       "      <th>mfr</th>\n",
       "      <th>model</th>\n",
       "      <th>type_acft</th>\n",
       "      <th>type_eng</th>\n",
       "      <th>no_eng</th>\n",
       "      <th>no_seats</th>\n",
       "      <th>speed</th>\n",
       "    </tr>\n",
       "  </thead>\n",
       "  <tbody>\n",
       "    <tr>\n",
       "      <th>0</th>\n",
       "      <td>1</td>\n",
       "      <td>2076811</td>\n",
       "      <td>2014.0</td>\n",
       "      <td>CESSNA</td>\n",
       "      <td>680</td>\n",
       "      <td>5</td>\n",
       "      <td>5</td>\n",
       "      <td>2</td>\n",
       "      <td>9</td>\n",
       "      <td>0</td>\n",
       "    </tr>\n",
       "    <tr>\n",
       "      <th>1</th>\n",
       "      <td>1010N</td>\n",
       "      <td>2076811</td>\n",
       "      <td>2012.0</td>\n",
       "      <td>CESSNA</td>\n",
       "      <td>680</td>\n",
       "      <td>5</td>\n",
       "      <td>5</td>\n",
       "      <td>2</td>\n",
       "      <td>9</td>\n",
       "      <td>0</td>\n",
       "    </tr>\n",
       "    <tr>\n",
       "      <th>2</th>\n",
       "      <td>101EF</td>\n",
       "      <td>2076811</td>\n",
       "      <td>2014.0</td>\n",
       "      <td>CESSNA</td>\n",
       "      <td>680</td>\n",
       "      <td>5</td>\n",
       "      <td>5</td>\n",
       "      <td>2</td>\n",
       "      <td>9</td>\n",
       "      <td>0</td>\n",
       "    </tr>\n",
       "    <tr>\n",
       "      <th>3</th>\n",
       "      <td>101FC</td>\n",
       "      <td>2076811</td>\n",
       "      <td>2007.0</td>\n",
       "      <td>CESSNA</td>\n",
       "      <td>680</td>\n",
       "      <td>5</td>\n",
       "      <td>5</td>\n",
       "      <td>2</td>\n",
       "      <td>9</td>\n",
       "      <td>0</td>\n",
       "    </tr>\n",
       "    <tr>\n",
       "      <th>4</th>\n",
       "      <td>101PG</td>\n",
       "      <td>2076811</td>\n",
       "      <td>2012.0</td>\n",
       "      <td>CESSNA</td>\n",
       "      <td>680</td>\n",
       "      <td>5</td>\n",
       "      <td>5</td>\n",
       "      <td>2</td>\n",
       "      <td>9</td>\n",
       "      <td>0</td>\n",
       "    </tr>\n",
       "    <tr>\n",
       "      <th>...</th>\n",
       "      <td>...</td>\n",
       "      <td>...</td>\n",
       "      <td>...</td>\n",
       "      <td>...</td>\n",
       "      <td>...</td>\n",
       "      <td>...</td>\n",
       "      <td>...</td>\n",
       "      <td>...</td>\n",
       "      <td>...</td>\n",
       "      <td>...</td>\n",
       "    </tr>\n",
       "    <tr>\n",
       "      <th>295553</th>\n",
       "      <td>9YW</td>\n",
       "      <td>05901UM</td>\n",
       "      <td>2006.0</td>\n",
       "      <td>SHAY GREGORIE</td>\n",
       "      <td>FPNA-DRIFTER</td>\n",
       "      <td>4</td>\n",
       "      <td>8</td>\n",
       "      <td>1</td>\n",
       "      <td>2</td>\n",
       "      <td>0</td>\n",
       "    </tr>\n",
       "    <tr>\n",
       "      <th>295554</th>\n",
       "      <td>9ZF</td>\n",
       "      <td>0590018</td>\n",
       "      <td>2005.0</td>\n",
       "      <td>ATEC</td>\n",
       "      <td>ZEPHYR 2550</td>\n",
       "      <td>4</td>\n",
       "      <td>8</td>\n",
       "      <td>1</td>\n",
       "      <td>2</td>\n",
       "      <td>0</td>\n",
       "    </tr>\n",
       "    <tr>\n",
       "      <th>295555</th>\n",
       "      <td>9ZP</td>\n",
       "      <td>056115U</td>\n",
       "      <td>2004.0</td>\n",
       "      <td>LINK JOHN</td>\n",
       "      <td>LANCAIR LEGACY</td>\n",
       "      <td>4</td>\n",
       "      <td>1</td>\n",
       "      <td>1</td>\n",
       "      <td>2</td>\n",
       "      <td>0</td>\n",
       "    </tr>\n",
       "    <tr>\n",
       "      <th>295556</th>\n",
       "      <td>9ZQ</td>\n",
       "      <td>05630MY</td>\n",
       "      <td>2015.0</td>\n",
       "      <td>HARRELSON SUSAN E</td>\n",
       "      <td>RANS S6S</td>\n",
       "      <td>4</td>\n",
       "      <td>8</td>\n",
       "      <td>1</td>\n",
       "      <td>2</td>\n",
       "      <td>0</td>\n",
       "    </tr>\n",
       "    <tr>\n",
       "      <th>295557</th>\n",
       "      <td>9ZX</td>\n",
       "      <td>05655US</td>\n",
       "      <td>1986.0</td>\n",
       "      <td>POBEREZNY PAUL H</td>\n",
       "      <td>HIPERLIGHT SNS-8</td>\n",
       "      <td>4</td>\n",
       "      <td>1</td>\n",
       "      <td>1</td>\n",
       "      <td>1</td>\n",
       "      <td>0</td>\n",
       "    </tr>\n",
       "  </tbody>\n",
       "</table>\n",
       "<p>295558 rows × 10 columns</p>\n",
       "</div>"
      ],
      "text/plain": [
       "         nnum     code    year                             mfr   \n",
       "0           1  2076811  2014.0  CESSNA                          \\\n",
       "1       1010N  2076811  2012.0  CESSNA                           \n",
       "2       101EF  2076811  2014.0  CESSNA                           \n",
       "3       101FC  2076811  2007.0  CESSNA                           \n",
       "4       101PG  2076811  2012.0  CESSNA                           \n",
       "...       ...      ...     ...                             ...   \n",
       "295553    9YW  05901UM  2006.0  SHAY GREGORIE                    \n",
       "295554    9ZF  0590018  2005.0  ATEC                             \n",
       "295555    9ZP  056115U  2004.0  LINK JOHN                        \n",
       "295556    9ZQ  05630MY  2015.0  HARRELSON SUSAN E                \n",
       "295557    9ZX  05655US  1986.0  POBEREZNY PAUL H                 \n",
       "\n",
       "                       model type_acft  type_eng  no_eng  no_seats  speed  \n",
       "0       680                          5         5       2         9      0  \n",
       "1       680                          5         5       2         9      0  \n",
       "2       680                          5         5       2         9      0  \n",
       "3       680                          5         5       2         9      0  \n",
       "4       680                          5         5       2         9      0  \n",
       "...                      ...       ...       ...     ...       ...    ...  \n",
       "295553  FPNA-DRIFTER                 4         8       1         2      0  \n",
       "295554  ZEPHYR 2550                  4         8       1         2      0  \n",
       "295555  LANCAIR LEGACY               4         1       1         2      0  \n",
       "295556  RANS S6S                     4         8       1         2      0  \n",
       "295557  HIPERLIGHT SNS-8             4         1       1         1      0  \n",
       "\n",
       "[295558 rows x 10 columns]"
      ]
     },
     "execution_count": 33,
     "metadata": {},
     "output_type": "execute_result"
    }
   ],
   "source": [
    "# Inner join master and ref and assign to df_all\n",
    "df_all = master_df.merge(ref_df, how='inner', on='code')\n",
    "\n",
    "# Print info\n",
    "df_all"
   ]
  },
  {
   "cell_type": "markdown",
   "id": "4c448dc0",
   "metadata": {},
   "source": [
    "It worked, awesome! Now we have a combined dataset that consists of detailed aircraft information.  Unfortunately, we're not done yet. The two columns type_acft and type_eng only contain ids and no real information about aircraft and engine type. Fortunately, the Federal Aviation Administration includes a documentation file with the database. The file is called ardata.pdf and contains column descriptions as well as values for codes and ids.  \n",
    "\n",
    "Let's translate the type_eng column first. Looking into the documentation we find 12 different engine types with ids ranging from 0 to 11. First we should check whether we find these ids in the type_eng column.  \n",
    "Complete the code below and print a list of all distinct type_eng id values."
   ]
  },
  {
   "cell_type": "code",
   "execution_count": 34,
   "id": "df7839bd",
   "metadata": {},
   "outputs": [
    {
     "name": "stdout",
     "output_type": "stream",
     "text": [
      "[ 5  1  0  8  2  7  3  4 10 11  6  9]\n"
     ]
    }
   ],
   "source": [
    "# Print list of distinct type_eng ids\n",
    "print(df_all['type_eng'].unique())"
   ]
  },
  {
   "cell_type": "markdown",
   "id": "41b52ea9",
   "metadata": {},
   "source": [
    "Good, the ids in the type_eng column match with the ones listed in the documentation.  \n",
    "Next, create a list of engine types, called engine_list, that includes all engine types listed in the documentation. Make sure to store them in the same order they are listed in the documentation."
   ]
  },
  {
   "cell_type": "code",
   "execution_count": 35,
   "id": "d9a514f0",
   "metadata": {},
   "outputs": [],
   "source": [
    "# Create list of engine type names: engine_list\n",
    "engine_list = [\"None\", \n",
    "          \"Reciprocating\", \n",
    "          \"Turbo-prop\", \n",
    "          \"Turbo-shaft\", \n",
    "          \"Turbo-jet\",\n",
    "          \"Turbo-fan\", \n",
    "          \"Ramjet\", \n",
    "          \"2 Cycle\", \n",
    "          \"4 Cycle\", \n",
    "          \"Unknown\", \n",
    "          \"Electric\", \n",
    "          \"Rotary\"]"
   ]
  },
  {
   "cell_type": "markdown",
   "id": "1520f265",
   "metadata": {},
   "source": [
    "Now we're going to add a new column called engine that has the engine name based on the id in type_eng. "
   ]
  },
  {
   "cell_type": "code",
   "execution_count": 36,
   "id": "c33f7177",
   "metadata": {},
   "outputs": [
    {
     "data": {
      "text/html": [
       "<div>\n",
       "<style scoped>\n",
       "    .dataframe tbody tr th:only-of-type {\n",
       "        vertical-align: middle;\n",
       "    }\n",
       "\n",
       "    .dataframe tbody tr th {\n",
       "        vertical-align: top;\n",
       "    }\n",
       "\n",
       "    .dataframe thead th {\n",
       "        text-align: right;\n",
       "    }\n",
       "</style>\n",
       "<table border=\"1\" class=\"dataframe\">\n",
       "  <thead>\n",
       "    <tr style=\"text-align: right;\">\n",
       "      <th></th>\n",
       "      <th>nnum</th>\n",
       "      <th>code</th>\n",
       "      <th>year</th>\n",
       "      <th>mfr</th>\n",
       "      <th>model</th>\n",
       "      <th>type_acft</th>\n",
       "      <th>type_eng</th>\n",
       "      <th>no_eng</th>\n",
       "      <th>no_seats</th>\n",
       "      <th>speed</th>\n",
       "      <th>engine</th>\n",
       "    </tr>\n",
       "  </thead>\n",
       "  <tbody>\n",
       "    <tr>\n",
       "      <th>78259</th>\n",
       "      <td>769TM</td>\n",
       "      <td>5170805</td>\n",
       "      <td>2001.0</td>\n",
       "      <td>LEARJET INC</td>\n",
       "      <td>45</td>\n",
       "      <td>5</td>\n",
       "      <td>5</td>\n",
       "      <td>2</td>\n",
       "      <td>12</td>\n",
       "      <td>0</td>\n",
       "      <td>Turbo-fan</td>\n",
       "    </tr>\n",
       "    <tr>\n",
       "      <th>244316</th>\n",
       "      <td>307SC</td>\n",
       "      <td>4220010</td>\n",
       "      <td>2009.0</td>\n",
       "      <td>HAWKER BEECHCRAFT CORP</td>\n",
       "      <td>HAWKER 750</td>\n",
       "      <td>5</td>\n",
       "      <td>5</td>\n",
       "      <td>2</td>\n",
       "      <td>8</td>\n",
       "      <td>0</td>\n",
       "      <td>Turbo-fan</td>\n",
       "    </tr>\n",
       "    <tr>\n",
       "      <th>74200</th>\n",
       "      <td>7998U</td>\n",
       "      <td>2072414</td>\n",
       "      <td>1964.0</td>\n",
       "      <td>CESSNA</td>\n",
       "      <td>172F</td>\n",
       "      <td>4</td>\n",
       "      <td>1</td>\n",
       "      <td>1</td>\n",
       "      <td>4</td>\n",
       "      <td>105</td>\n",
       "      <td>Reciprocating</td>\n",
       "    </tr>\n",
       "    <tr>\n",
       "      <th>106882</th>\n",
       "      <td>35101</td>\n",
       "      <td>2073708</td>\n",
       "      <td>1974.0</td>\n",
       "      <td>CESSNA</td>\n",
       "      <td>177B</td>\n",
       "      <td>4</td>\n",
       "      <td>1</td>\n",
       "      <td>1</td>\n",
       "      <td>4</td>\n",
       "      <td>108</td>\n",
       "      <td>Reciprocating</td>\n",
       "    </tr>\n",
       "    <tr>\n",
       "      <th>146978</th>\n",
       "      <td>7932R</td>\n",
       "      <td>1151544</td>\n",
       "      <td>1969.0</td>\n",
       "      <td>BEECH</td>\n",
       "      <td>V35A</td>\n",
       "      <td>4</td>\n",
       "      <td>1</td>\n",
       "      <td>1</td>\n",
       "      <td>6</td>\n",
       "      <td>150</td>\n",
       "      <td>Reciprocating</td>\n",
       "    </tr>\n",
       "    <tr>\n",
       "      <th>51993</th>\n",
       "      <td>973JM</td>\n",
       "      <td>2072732</td>\n",
       "      <td>1978.0</td>\n",
       "      <td>CESSNA</td>\n",
       "      <td>182Q</td>\n",
       "      <td>4</td>\n",
       "      <td>1</td>\n",
       "      <td>1</td>\n",
       "      <td>4</td>\n",
       "      <td>112</td>\n",
       "      <td>Reciprocating</td>\n",
       "    </tr>\n",
       "    <tr>\n",
       "      <th>78105</th>\n",
       "      <td>454LC</td>\n",
       "      <td>5170805</td>\n",
       "      <td>2011.0</td>\n",
       "      <td>LEARJET INC</td>\n",
       "      <td>45</td>\n",
       "      <td>5</td>\n",
       "      <td>5</td>\n",
       "      <td>2</td>\n",
       "      <td>12</td>\n",
       "      <td>0</td>\n",
       "      <td>Turbo-fan</td>\n",
       "    </tr>\n",
       "    <tr>\n",
       "      <th>197961</th>\n",
       "      <td>8817S</td>\n",
       "      <td>2071814</td>\n",
       "      <td>1965.0</td>\n",
       "      <td>CESSNA</td>\n",
       "      <td>150F</td>\n",
       "      <td>4</td>\n",
       "      <td>1</td>\n",
       "      <td>1</td>\n",
       "      <td>2</td>\n",
       "      <td>90</td>\n",
       "      <td>Reciprocating</td>\n",
       "    </tr>\n",
       "    <tr>\n",
       "      <th>291216</th>\n",
       "      <td>907GB</td>\n",
       "      <td>05635HB</td>\n",
       "      <td>2016.0</td>\n",
       "      <td>AK CUBS LLC</td>\n",
       "      <td>CCX-1865</td>\n",
       "      <td>4</td>\n",
       "      <td>1</td>\n",
       "      <td>1</td>\n",
       "      <td>2</td>\n",
       "      <td>0</td>\n",
       "      <td>Reciprocating</td>\n",
       "    </tr>\n",
       "    <tr>\n",
       "      <th>151222</th>\n",
       "      <td>8844K</td>\n",
       "      <td>9230404</td>\n",
       "      <td>1947.0</td>\n",
       "      <td>STINSON</td>\n",
       "      <td>108-1</td>\n",
       "      <td>4</td>\n",
       "      <td>1</td>\n",
       "      <td>1</td>\n",
       "      <td>4</td>\n",
       "      <td>84</td>\n",
       "      <td>Reciprocating</td>\n",
       "    </tr>\n",
       "  </tbody>\n",
       "</table>\n",
       "</div>"
      ],
      "text/plain": [
       "         nnum     code    year                             mfr   \n",
       "78259   769TM  5170805  2001.0  LEARJET INC                     \\\n",
       "244316  307SC  4220010  2009.0  HAWKER BEECHCRAFT CORP           \n",
       "74200   7998U  2072414  1964.0  CESSNA                           \n",
       "106882  35101  2073708  1974.0  CESSNA                           \n",
       "146978  7932R  1151544  1969.0  BEECH                            \n",
       "51993   973JM  2072732  1978.0  CESSNA                           \n",
       "78105   454LC  5170805  2011.0  LEARJET INC                      \n",
       "197961  8817S  2071814  1965.0  CESSNA                           \n",
       "291216  907GB  05635HB  2016.0  AK CUBS LLC                      \n",
       "151222  8844K  9230404  1947.0  STINSON                          \n",
       "\n",
       "                       model type_acft  type_eng  no_eng  no_seats  speed   \n",
       "78259   45                           5         5       2        12      0  \\\n",
       "244316  HAWKER 750                   5         5       2         8      0   \n",
       "74200   172F                         4         1       1         4    105   \n",
       "106882  177B                         4         1       1         4    108   \n",
       "146978  V35A                         4         1       1         6    150   \n",
       "51993   182Q                         4         1       1         4    112   \n",
       "78105   45                           5         5       2        12      0   \n",
       "197961  150F                         4         1       1         2     90   \n",
       "291216  CCX-1865                     4         1       1         2      0   \n",
       "151222  108-1                        4         1       1         4     84   \n",
       "\n",
       "               engine  \n",
       "78259       Turbo-fan  \n",
       "244316      Turbo-fan  \n",
       "74200   Reciprocating  \n",
       "106882  Reciprocating  \n",
       "146978  Reciprocating  \n",
       "51993   Reciprocating  \n",
       "78105       Turbo-fan  \n",
       "197961  Reciprocating  \n",
       "291216  Reciprocating  \n",
       "151222  Reciprocating  "
      ]
     },
     "execution_count": 36,
     "metadata": {},
     "output_type": "execute_result"
    }
   ],
   "source": [
    "# Add engine column and translate type_eng id\n",
    "df_all['engine'] = [engine_list[i] for i in df_all['type_eng'].tolist()]\n",
    "\n",
    "# Print first 5 rows\n",
    "df_all.sample(10)"
   ]
  },
  {
   "cell_type": "markdown",
   "id": "df029906",
   "metadata": {},
   "source": [
    "Good job, that was certainly not an easy task. Now that we have the actual engine type names in our dataset we don't need the type_eng column anymore.  \n",
    "Complete the code below and delete the type_eng column."
   ]
  },
  {
   "cell_type": "code",
   "execution_count": 37,
   "id": "dd09dd5e",
   "metadata": {},
   "outputs": [
    {
     "data": {
      "text/plain": [
       "Index(['nnum', 'code', 'year', 'mfr', 'model', 'type_acft', 'no_eng',\n",
       "       'no_seats', 'speed', 'engine'],\n",
       "      dtype='object')"
      ]
     },
     "execution_count": 37,
     "metadata": {},
     "output_type": "execute_result"
    }
   ],
   "source": [
    "# Delete type_eng column\n",
    "df_all.drop('type_eng', axis=1, inplace=True)\n",
    "\n",
    "# Print all column names\n",
    "df_all.columns"
   ]
  },
  {
   "cell_type": "markdown",
   "id": "704f177c",
   "metadata": {},
   "source": [
    "Now that we know how to translate an id into its actual value, let's do the same for the type_acft column.  \n",
    "First, let's have a look at the documentation. There we find 11 engine types with ids ranging from 1 to 9 and two letters H and O. This complicates things, but before we look further into this let's check the type_afct column values for matching ids first."
   ]
  },
  {
   "cell_type": "code",
   "execution_count": 38,
   "id": "f4aff07f",
   "metadata": {},
   "outputs": [
    {
     "name": "stdout",
     "output_type": "stream",
     "text": [
      "['5' '4' '6' '1' '2' '7' '8' 'H' '9' '3' 'O']\n"
     ]
    }
   ],
   "source": [
    "# Print list of distinct type_acft ids\n",
    "print(df_all['type_acft'].unique())"
   ]
  },
  {
   "cell_type": "markdown",
   "id": "7abb91c3",
   "metadata": {},
   "source": [
    "Again, the ids are matching, which is good news. The bad news is we have a mix of numerical ids and letters and because of the letters the column is in a string format. The approach we used with the type_eng column will not work with the current format of the column and ids. There is no reason to get demotivated though, this points us to a more efficient and secure way to fill data based on ids. First, let's create a dictionary to capture the ids and type names. Similar to before, use the documentation file to get the values and this time type them into a dictionary."
   ]
  },
  {
   "cell_type": "code",
   "execution_count": 39,
   "id": "259cb0d5",
   "metadata": {},
   "outputs": [],
   "source": [
    "acft_dict= {\n",
    "            '1':'Glider',\n",
    "            '2':'Balloon',\n",
    "            '3':'Blimp/Dirigible',\n",
    "            '4':'Fixed wing single engine', \n",
    "            '5':'Fixed wing multi engine',\n",
    "            '6':'Rotorcraft',\n",
    "            '7':'Weight-shift-control',\n",
    "            '8':'Powered Parachute',\n",
    "            '9':'Gyroplane',\n",
    "            'H':'Hybrid Lift',\n",
    "            'O':'Other'}\n"
   ]
  },
  {
   "cell_type": "markdown",
   "id": "fe366a12",
   "metadata": {},
   "source": [
    "The last step is to translate the ids in the type_acft column into aircraft type names.  \n",
    "Complete the code below and add a new column called aircraft_type that consists of the correct aircraft type names based on the id in the type_acft column.\n",
    "With the help of the map-function, we can apply a transformation function to each item in an iterable and transform them into a new iterable. In our case, we transform the ids into names. This could be thought of as similar to VLOOKUP in this case."
   ]
  },
  {
   "cell_type": "code",
   "execution_count": 40,
   "id": "8ecabffd",
   "metadata": {},
   "outputs": [
    {
     "name": "stdout",
     "output_type": "stream",
     "text": [
      "aircraft_type\n",
      "Fixed wing single engine    214506\n",
      "Fixed wing multi engine      48293\n",
      "Rotorcraft                   19593\n",
      "Balloon                       4989\n",
      "Glider                        4775\n",
      "Powered Parachute             1864\n",
      "Weight-shift-control          1028\n",
      "Gyroplane                      320\n",
      "Hybrid Lift                    135\n",
      "Blimp/Dirigible                 43\n",
      "Other                           12\n",
      "Name: count, dtype: int64\n"
     ]
    }
   ],
   "source": [
    "# Assign values in the aircraft_type column by mapping the keys from type_acft column to the values in the acft_dict dictionary.\n",
    "df_all['aircraft_type'] = df_all['type_acft'].map(acft_dict)\n",
    "\n",
    "# Print list of distinct aircraft types and aircraft ids found in our dataset and the corresponding number of records for each type.\n",
    "print(df_all['aircraft_type'].value_counts())"
   ]
  },
  {
   "cell_type": "markdown",
   "id": "c2be98aa",
   "metadata": {},
   "source": [
    "Good job, that was a tricky one! Now that we have the actual aircraft type names in our dataset we don't need the type_acft column anymore.  \n",
    "Complete the code below and delete the type_acft column."
   ]
  },
  {
   "cell_type": "code",
   "execution_count": 41,
   "id": "0f2cf7a1",
   "metadata": {},
   "outputs": [
    {
     "data": {
      "text/plain": [
       "Index(['nnum', 'code', 'year', 'mfr', 'model', 'no_eng', 'no_seats', 'speed',\n",
       "       'engine', 'aircraft_type'],\n",
       "      dtype='object')"
      ]
     },
     "execution_count": 41,
     "metadata": {},
     "output_type": "execute_result"
    }
   ],
   "source": [
    "# Delete type_acft column\n",
    "df_all.drop('type_acft', axis=1, inplace=True)\n",
    "\n",
    "# Print all column names\n",
    "df_all.columns"
   ]
  },
  {
   "cell_type": "code",
   "execution_count": 42,
   "id": "674da786",
   "metadata": {},
   "outputs": [
    {
     "data": {
      "text/html": [
       "<div>\n",
       "<style scoped>\n",
       "    .dataframe tbody tr th:only-of-type {\n",
       "        vertical-align: middle;\n",
       "    }\n",
       "\n",
       "    .dataframe tbody tr th {\n",
       "        vertical-align: top;\n",
       "    }\n",
       "\n",
       "    .dataframe thead th {\n",
       "        text-align: right;\n",
       "    }\n",
       "</style>\n",
       "<table border=\"1\" class=\"dataframe\">\n",
       "  <thead>\n",
       "    <tr style=\"text-align: right;\">\n",
       "      <th></th>\n",
       "      <th>nnum</th>\n",
       "      <th>code</th>\n",
       "      <th>year</th>\n",
       "      <th>mfr</th>\n",
       "      <th>model</th>\n",
       "      <th>no_eng</th>\n",
       "      <th>no_seats</th>\n",
       "      <th>speed</th>\n",
       "      <th>engine</th>\n",
       "      <th>aircraft_type</th>\n",
       "    </tr>\n",
       "  </thead>\n",
       "  <tbody>\n",
       "    <tr>\n",
       "      <th>4369</th>\n",
       "      <td>416LA</td>\n",
       "      <td>2130004</td>\n",
       "      <td>2021.0</td>\n",
       "      <td>CIRRUS DESIGN CORP</td>\n",
       "      <td>SR22T</td>\n",
       "      <td>1</td>\n",
       "      <td>5</td>\n",
       "      <td>0</td>\n",
       "      <td>Reciprocating</td>\n",
       "      <td>Fixed wing single engine</td>\n",
       "    </tr>\n",
       "    <tr>\n",
       "      <th>24009</th>\n",
       "      <td>565ND</td>\n",
       "      <td>2072439</td>\n",
       "      <td>2008.0</td>\n",
       "      <td>CESSNA</td>\n",
       "      <td>172S</td>\n",
       "      <td>1</td>\n",
       "      <td>4</td>\n",
       "      <td>0</td>\n",
       "      <td>Reciprocating</td>\n",
       "      <td>Fixed wing single engine</td>\n",
       "    </tr>\n",
       "    <tr>\n",
       "      <th>44037</th>\n",
       "      <td>8093Q</td>\n",
       "      <td>2076014</td>\n",
       "      <td>1973.0</td>\n",
       "      <td>CESSNA</td>\n",
       "      <td>421B</td>\n",
       "      <td>2</td>\n",
       "      <td>8</td>\n",
       "      <td>172</td>\n",
       "      <td>Reciprocating</td>\n",
       "      <td>Fixed wing multi engine</td>\n",
       "    </tr>\n",
       "    <tr>\n",
       "      <th>58468</th>\n",
       "      <td>606TS</td>\n",
       "      <td>7640122</td>\n",
       "      <td>2007.0</td>\n",
       "      <td>ROBINSON HELICOPTER COMPANY</td>\n",
       "      <td>R44 II</td>\n",
       "      <td>1</td>\n",
       "      <td>4</td>\n",
       "      <td>0</td>\n",
       "      <td>Reciprocating</td>\n",
       "      <td>Rotorcraft</td>\n",
       "    </tr>\n",
       "    <tr>\n",
       "      <th>116075</th>\n",
       "      <td>2045N</td>\n",
       "      <td>7101828</td>\n",
       "      <td>1958.0</td>\n",
       "      <td>PIPER</td>\n",
       "      <td>PA-18-150</td>\n",
       "      <td>1</td>\n",
       "      <td>2</td>\n",
       "      <td>97</td>\n",
       "      <td>Reciprocating</td>\n",
       "      <td>Fixed wing single engine</td>\n",
       "    </tr>\n",
       "  </tbody>\n",
       "</table>\n",
       "</div>"
      ],
      "text/plain": [
       "         nnum     code    year                             mfr   \n",
       "4369    416LA  2130004  2021.0  CIRRUS DESIGN CORP              \\\n",
       "24009   565ND  2072439  2008.0  CESSNA                           \n",
       "44037   8093Q  2076014  1973.0  CESSNA                           \n",
       "58468   606TS  7640122  2007.0  ROBINSON HELICOPTER COMPANY      \n",
       "116075  2045N  7101828  1958.0  PIPER                            \n",
       "\n",
       "                       model  no_eng  no_seats  speed         engine   \n",
       "4369    SR22T                      1         5      0  Reciprocating  \\\n",
       "24009   172S                       1         4      0  Reciprocating   \n",
       "44037   421B                       2         8    172  Reciprocating   \n",
       "58468   R44 II                     1         4      0  Reciprocating   \n",
       "116075  PA-18-150                  1         2     97  Reciprocating   \n",
       "\n",
       "                   aircraft_type  \n",
       "4369    Fixed wing single engine  \n",
       "24009   Fixed wing single engine  \n",
       "44037    Fixed wing multi engine  \n",
       "58468                 Rotorcraft  \n",
       "116075  Fixed wing single engine  "
      ]
     },
     "execution_count": 42,
     "metadata": {},
     "output_type": "execute_result"
    }
   ],
   "source": [
    "df_all.sample(5)"
   ]
  },
  {
   "cell_type": "markdown",
   "id": "42c4e5c6",
   "metadata": {},
   "source": [
    "Done! We successfully translated the ids to their actual values. Before we write the table into our database, let's make sure we have clean and descriptive column names. The first column we are going to change is the nnum column. Lets have a look at its values before we rename it.  \n",
    "Complete the code below and print the first 5 rows of the nnum column."
   ]
  },
  {
   "cell_type": "code",
   "execution_count": 43,
   "id": "31a9bdf7",
   "metadata": {},
   "outputs": [
    {
     "data": {
      "text/html": [
       "<div>\n",
       "<style scoped>\n",
       "    .dataframe tbody tr th:only-of-type {\n",
       "        vertical-align: middle;\n",
       "    }\n",
       "\n",
       "    .dataframe tbody tr th {\n",
       "        vertical-align: top;\n",
       "    }\n",
       "\n",
       "    .dataframe thead th {\n",
       "        text-align: right;\n",
       "    }\n",
       "</style>\n",
       "<table border=\"1\" class=\"dataframe\">\n",
       "  <thead>\n",
       "    <tr style=\"text-align: right;\">\n",
       "      <th></th>\n",
       "      <th>nnum</th>\n",
       "    </tr>\n",
       "  </thead>\n",
       "  <tbody>\n",
       "    <tr>\n",
       "      <th>0</th>\n",
       "      <td>1</td>\n",
       "    </tr>\n",
       "    <tr>\n",
       "      <th>1</th>\n",
       "      <td>1010N</td>\n",
       "    </tr>\n",
       "    <tr>\n",
       "      <th>2</th>\n",
       "      <td>101EF</td>\n",
       "    </tr>\n",
       "    <tr>\n",
       "      <th>3</th>\n",
       "      <td>101FC</td>\n",
       "    </tr>\n",
       "    <tr>\n",
       "      <th>4</th>\n",
       "      <td>101PG</td>\n",
       "    </tr>\n",
       "  </tbody>\n",
       "</table>\n",
       "</div>"
      ],
      "text/plain": [
       "    nnum\n",
       "0      1\n",
       "1  1010N\n",
       "2  101EF\n",
       "3  101FC\n",
       "4  101PG"
      ]
     },
     "execution_count": 43,
     "metadata": {},
     "output_type": "execute_result"
    }
   ],
   "source": [
    "# Print first 5 rows of nnum column\n",
    "df_all[['nnum']].head()"
   ]
  },
  {
   "cell_type": "markdown",
   "id": "5183149b",
   "metadata": {},
   "source": [
    "Something is weird. Aren't the tail numbers in our flights data starting with the letter 'N'? Let's check that just to be sure. In order to do this we need to connect to our database and query the unique tail numbers from the flights table. In order to create a connection we need to create a connection to the PostgreSQL database. We stored a function for this in the sql_functions.py file already. All that's left to do is import our get_dataframe function from the sql_functions.py file."
   ]
  },
  {
   "cell_type": "code",
   "execution_count": 44,
   "id": "6a7ffcec",
   "metadata": {},
   "outputs": [],
   "source": [
    "# Import get_dataframe from sql_functions.py\n",
    "#import sql_functions\n",
    "from sql_functions import get_dataframe"
   ]
  },
  {
   "cell_type": "code",
   "execution_count": 45,
   "id": "5c654c82",
   "metadata": {},
   "outputs": [
    {
     "data": {
      "text/plain": [
       "array(['1', '1010N', '101EF', ..., '9ZP', '9ZQ', '9ZX'], dtype=object)"
      ]
     },
     "execution_count": 45,
     "metadata": {},
     "output_type": "execute_result"
    }
   ],
   "source": [
    "df_all['nnum'].unique()"
   ]
  },
  {
   "cell_type": "markdown",
   "id": "7de40c8b",
   "metadata": {},
   "source": [
    "Next, query the distinct tail numbers from the flights table and store them in a variable f_planes and print the first 5 rows."
   ]
  },
  {
   "cell_type": "code",
   "execution_count": 46,
   "id": "d28124fe",
   "metadata": {},
   "outputs": [
    {
     "data": {
      "text/html": [
       "<div>\n",
       "<style scoped>\n",
       "    .dataframe tbody tr th:only-of-type {\n",
       "        vertical-align: middle;\n",
       "    }\n",
       "\n",
       "    .dataframe tbody tr th {\n",
       "        vertical-align: top;\n",
       "    }\n",
       "\n",
       "    .dataframe thead th {\n",
       "        text-align: right;\n",
       "    }\n",
       "</style>\n",
       "<table border=\"1\" class=\"dataframe\">\n",
       "  <thead>\n",
       "    <tr style=\"text-align: right;\">\n",
       "      <th></th>\n",
       "      <th>tail_number</th>\n",
       "    </tr>\n",
       "  </thead>\n",
       "  <tbody>\n",
       "    <tr>\n",
       "      <th>0</th>\n",
       "      <td>None</td>\n",
       "    </tr>\n",
       "    <tr>\n",
       "      <th>1</th>\n",
       "      <td>N8647A</td>\n",
       "    </tr>\n",
       "    <tr>\n",
       "      <th>2</th>\n",
       "      <td>N665NK</td>\n",
       "    </tr>\n",
       "    <tr>\n",
       "      <th>3</th>\n",
       "      <td>N342DN</td>\n",
       "    </tr>\n",
       "    <tr>\n",
       "      <th>4</th>\n",
       "      <td>N585NN</td>\n",
       "    </tr>\n",
       "  </tbody>\n",
       "</table>\n",
       "</div>"
      ],
      "text/plain": [
       "  tail_number\n",
       "0        None\n",
       "1      N8647A\n",
       "2      N665NK\n",
       "3      N342DN\n",
       "4      N585NN"
      ]
     },
     "execution_count": 46,
     "metadata": {},
     "output_type": "execute_result"
    }
   ],
   "source": [
    "# Store unique tail numbers in f_planes\n",
    "schema = 'hh_analytics_24_1'\n",
    "f_planes = get_dataframe(f'SELECT DISTINCT tail_number FROM {schema}.flights')\n",
    "\n",
    "# Print first 5 rows of f_planes\n",
    "f_planes.head()"
   ]
  },
  {
   "cell_type": "markdown",
   "id": "6b61dbb3",
   "metadata": {},
   "source": [
    "Indeed, the tail numbers all start with the letter 'N'. To make sure the nnum column really consists of tail numbers and only the letter 'N' is missing, let's calculate how many matching values we have between the two columns."
   ]
  },
  {
   "cell_type": "code",
   "execution_count": 47,
   "id": "ad130f65",
   "metadata": {},
   "outputs": [
    {
     "data": {
      "text/plain": [
       "4610"
      ]
     },
     "execution_count": 47,
     "metadata": {},
     "output_type": "execute_result"
    }
   ],
   "source": [
    "f_planes['tail_number'].count()"
   ]
  },
  {
   "cell_type": "code",
   "execution_count": 48,
   "id": "7c405e32",
   "metadata": {},
   "outputs": [
    {
     "data": {
      "text/plain": [
       "295558"
      ]
     },
     "execution_count": 48,
     "metadata": {},
     "output_type": "execute_result"
    }
   ],
   "source": [
    "df_all['nnum'].count()"
   ]
  },
  {
   "cell_type": "code",
   "execution_count": 49,
   "id": "90739912",
   "metadata": {},
   "outputs": [
    {
     "data": {
      "text/plain": [
       "tail_number\n",
       "True     4449\n",
       "False     162\n",
       "Name: count, dtype: int64"
      ]
     },
     "execution_count": 49,
     "metadata": {},
     "output_type": "execute_result"
    }
   ],
   "source": [
    "# Count matching values in tail_number and nnum\n",
    "f_planes['tail_number'].str[1:].isin(df_all['nnum']).value_counts()"
   ]
  },
  {
   "cell_type": "markdown",
   "id": "9903fe12",
   "metadata": {},
   "source": [
    "We have 4506 matches (or something similar since the live data changes), which is quite a significant number. Therefore, we can assume that in order to match the nnum and the tail_number column, all we need to do is add the letter 'N' in front of each value in the nnum column.  \n",
    "Complete the code below and create a new column in df_all called tail_number that consists of the letter 'N' and the nnum values."
   ]
  },
  {
   "cell_type": "code",
   "execution_count": 50,
   "id": "ceb488cb",
   "metadata": {},
   "outputs": [
    {
     "data": {
      "text/html": [
       "<div>\n",
       "<style scoped>\n",
       "    .dataframe tbody tr th:only-of-type {\n",
       "        vertical-align: middle;\n",
       "    }\n",
       "\n",
       "    .dataframe tbody tr th {\n",
       "        vertical-align: top;\n",
       "    }\n",
       "\n",
       "    .dataframe thead th {\n",
       "        text-align: right;\n",
       "    }\n",
       "</style>\n",
       "<table border=\"1\" class=\"dataframe\">\n",
       "  <thead>\n",
       "    <tr style=\"text-align: right;\">\n",
       "      <th></th>\n",
       "      <th>nnum</th>\n",
       "      <th>code</th>\n",
       "      <th>year</th>\n",
       "      <th>mfr</th>\n",
       "      <th>model</th>\n",
       "      <th>no_eng</th>\n",
       "      <th>no_seats</th>\n",
       "      <th>speed</th>\n",
       "      <th>engine</th>\n",
       "      <th>aircraft_type</th>\n",
       "      <th>tail_number</th>\n",
       "    </tr>\n",
       "  </thead>\n",
       "  <tbody>\n",
       "    <tr>\n",
       "      <th>0</th>\n",
       "      <td>1</td>\n",
       "      <td>2076811</td>\n",
       "      <td>2014.0</td>\n",
       "      <td>CESSNA</td>\n",
       "      <td>680</td>\n",
       "      <td>2</td>\n",
       "      <td>9</td>\n",
       "      <td>0</td>\n",
       "      <td>Turbo-fan</td>\n",
       "      <td>Fixed wing multi engine</td>\n",
       "      <td>N1</td>\n",
       "    </tr>\n",
       "    <tr>\n",
       "      <th>1</th>\n",
       "      <td>1010N</td>\n",
       "      <td>2076811</td>\n",
       "      <td>2012.0</td>\n",
       "      <td>CESSNA</td>\n",
       "      <td>680</td>\n",
       "      <td>2</td>\n",
       "      <td>9</td>\n",
       "      <td>0</td>\n",
       "      <td>Turbo-fan</td>\n",
       "      <td>Fixed wing multi engine</td>\n",
       "      <td>N1010N</td>\n",
       "    </tr>\n",
       "    <tr>\n",
       "      <th>2</th>\n",
       "      <td>101EF</td>\n",
       "      <td>2076811</td>\n",
       "      <td>2014.0</td>\n",
       "      <td>CESSNA</td>\n",
       "      <td>680</td>\n",
       "      <td>2</td>\n",
       "      <td>9</td>\n",
       "      <td>0</td>\n",
       "      <td>Turbo-fan</td>\n",
       "      <td>Fixed wing multi engine</td>\n",
       "      <td>N101EF</td>\n",
       "    </tr>\n",
       "    <tr>\n",
       "      <th>3</th>\n",
       "      <td>101FC</td>\n",
       "      <td>2076811</td>\n",
       "      <td>2007.0</td>\n",
       "      <td>CESSNA</td>\n",
       "      <td>680</td>\n",
       "      <td>2</td>\n",
       "      <td>9</td>\n",
       "      <td>0</td>\n",
       "      <td>Turbo-fan</td>\n",
       "      <td>Fixed wing multi engine</td>\n",
       "      <td>N101FC</td>\n",
       "    </tr>\n",
       "    <tr>\n",
       "      <th>4</th>\n",
       "      <td>101PG</td>\n",
       "      <td>2076811</td>\n",
       "      <td>2012.0</td>\n",
       "      <td>CESSNA</td>\n",
       "      <td>680</td>\n",
       "      <td>2</td>\n",
       "      <td>9</td>\n",
       "      <td>0</td>\n",
       "      <td>Turbo-fan</td>\n",
       "      <td>Fixed wing multi engine</td>\n",
       "      <td>N101PG</td>\n",
       "    </tr>\n",
       "  </tbody>\n",
       "</table>\n",
       "</div>"
      ],
      "text/plain": [
       "    nnum     code    year                             mfr   \n",
       "0      1  2076811  2014.0  CESSNA                          \\\n",
       "1  1010N  2076811  2012.0  CESSNA                           \n",
       "2  101EF  2076811  2014.0  CESSNA                           \n",
       "3  101FC  2076811  2007.0  CESSNA                           \n",
       "4  101PG  2076811  2012.0  CESSNA                           \n",
       "\n",
       "                  model  no_eng  no_seats  speed     engine   \n",
       "0  680                        2         9      0  Turbo-fan  \\\n",
       "1  680                        2         9      0  Turbo-fan   \n",
       "2  680                        2         9      0  Turbo-fan   \n",
       "3  680                        2         9      0  Turbo-fan   \n",
       "4  680                        2         9      0  Turbo-fan   \n",
       "\n",
       "             aircraft_type tail_number  \n",
       "0  Fixed wing multi engine          N1  \n",
       "1  Fixed wing multi engine      N1010N  \n",
       "2  Fixed wing multi engine      N101EF  \n",
       "3  Fixed wing multi engine      N101FC  \n",
       "4  Fixed wing multi engine      N101PG  "
      ]
     },
     "execution_count": 50,
     "metadata": {},
     "output_type": "execute_result"
    }
   ],
   "source": [
    "# Create tailnum column\n",
    "df_all['tail_number'] = 'N' + df_all['nnum']\n",
    "\n",
    "# Print first 5 rows\n",
    "df_all.head()"
   ]
  },
  {
   "cell_type": "markdown",
   "id": "848f52df",
   "metadata": {},
   "source": [
    "There we go! Now we have a tail number column that we can join with our flights table later on. Let's change the order of the columns and get rid of the code column since we don't need it anymore."
   ]
  },
  {
   "cell_type": "code",
   "execution_count": 51,
   "id": "8e81129a",
   "metadata": {},
   "outputs": [],
   "source": [
    "# Remove code column, change column order and assign to planes\n",
    "planes = df_all[['tail_number', 'year', 'mfr', 'model', 'engine', 'aircraft_type', 'no_eng', 'no_seats', 'speed']].copy()"
   ]
  },
  {
   "cell_type": "markdown",
   "id": "81ad027e",
   "metadata": {},
   "source": [
    "As a final data cleaning step give the mfr, no_eng and no_seats column a more descriptive name.  \n",
    "Complete the code below and change the column names mfr into manufacturer, no_eng into engines and no_seats into seats."
   ]
  },
  {
   "cell_type": "code",
   "execution_count": 52,
   "id": "0352d2a3",
   "metadata": {},
   "outputs": [
    {
     "data": {
      "text/plain": [
       "Index(['tail_number', 'year', 'manufacturer', 'model', 'engine',\n",
       "       'aircraft_type', 'engines', 'seats', 'speed'],\n",
       "      dtype='object')"
      ]
     },
     "execution_count": 52,
     "metadata": {},
     "output_type": "execute_result"
    }
   ],
   "source": [
    "# Change column names\n",
    "planes.rename(columns={'mfr' : 'manufacturer', 'no_eng' : 'engines', 'no_seats' : 'seats'}, inplace=True)\n",
    "\n",
    "# Print all column names\n",
    "planes.columns"
   ]
  },
  {
   "cell_type": "markdown",
   "id": "c07193af",
   "metadata": {},
   "source": [
    "Awesome! We finally have a clean dataset with detailed information about aircrafts. Let's check how many unique aircrafts we have in our dataset.  \n",
    "Complete the code below and count the unique airplanes in the planes variable."
   ]
  },
  {
   "cell_type": "code",
   "execution_count": 53,
   "id": "ff6235d5",
   "metadata": {},
   "outputs": [
    {
     "name": "stdout",
     "output_type": "stream",
     "text": [
      "<class 'pandas.core.frame.DataFrame'>\n",
      "RangeIndex: 295558 entries, 0 to 295557\n",
      "Data columns (total 9 columns):\n",
      " #   Column         Non-Null Count   Dtype  \n",
      "---  ------         --------------   -----  \n",
      " 0   tail_number    295558 non-null  object \n",
      " 1   year           241121 non-null  float64\n",
      " 2   manufacturer   295558 non-null  object \n",
      " 3   model          295558 non-null  object \n",
      " 4   engine         295558 non-null  object \n",
      " 5   aircraft_type  295558 non-null  object \n",
      " 6   engines        295558 non-null  int64  \n",
      " 7   seats          295558 non-null  int64  \n",
      " 8   speed          295558 non-null  int64  \n",
      "dtypes: float64(1), int64(3), object(5)\n",
      "memory usage: 20.3+ MB\n"
     ]
    }
   ],
   "source": [
    "planes.info()"
   ]
  },
  {
   "cell_type": "code",
   "execution_count": 54,
   "id": "6f665fe3",
   "metadata": {},
   "outputs": [
    {
     "data": {
      "text/plain": [
       "295558"
      ]
     },
     "execution_count": 54,
     "metadata": {},
     "output_type": "execute_result"
    }
   ],
   "source": [
    "# Count unique aircrafts\n",
    "planes['tail_number'].nunique()"
   ]
  },
  {
   "cell_type": "markdown",
   "id": "6815fb82",
   "metadata": {},
   "source": [
    "Wow, around 290k aircrafts. Previously when we counted the matches between the nnum column and tail_number column we only had 4506 matches, which is a lot less than we have from the official source. Since we only need a small subset, let's filter out the remaining ones.  \n",
    "Complete the code below and create a dataframe called final_table that has all aircrafts from the planes dataset that have matches in the f_planes dataset."
   ]
  },
  {
   "cell_type": "code",
   "execution_count": 55,
   "id": "6b9974ca",
   "metadata": {},
   "outputs": [],
   "source": [
    "# Create dataframe with only matching values called final_table\n",
    "final_table = planes.merge(f_planes, how='right', on='tail_number')"
   ]
  },
  {
   "cell_type": "code",
   "execution_count": 56,
   "id": "b374e935",
   "metadata": {},
   "outputs": [
    {
     "data": {
      "text/html": [
       "<div>\n",
       "<style scoped>\n",
       "    .dataframe tbody tr th:only-of-type {\n",
       "        vertical-align: middle;\n",
       "    }\n",
       "\n",
       "    .dataframe tbody tr th {\n",
       "        vertical-align: top;\n",
       "    }\n",
       "\n",
       "    .dataframe thead th {\n",
       "        text-align: right;\n",
       "    }\n",
       "</style>\n",
       "<table border=\"1\" class=\"dataframe\">\n",
       "  <thead>\n",
       "    <tr style=\"text-align: right;\">\n",
       "      <th></th>\n",
       "      <th>tail_number</th>\n",
       "      <th>year</th>\n",
       "      <th>manufacturer</th>\n",
       "      <th>model</th>\n",
       "      <th>engine</th>\n",
       "      <th>aircraft_type</th>\n",
       "      <th>engines</th>\n",
       "      <th>seats</th>\n",
       "      <th>speed</th>\n",
       "    </tr>\n",
       "  </thead>\n",
       "  <tbody>\n",
       "    <tr>\n",
       "      <th>0</th>\n",
       "      <td>None</td>\n",
       "      <td>NaN</td>\n",
       "      <td>NaN</td>\n",
       "      <td>NaN</td>\n",
       "      <td>NaN</td>\n",
       "      <td>NaN</td>\n",
       "      <td>NaN</td>\n",
       "      <td>NaN</td>\n",
       "      <td>NaN</td>\n",
       "    </tr>\n",
       "    <tr>\n",
       "      <th>1</th>\n",
       "      <td>N8647A</td>\n",
       "      <td>2014.0</td>\n",
       "      <td>BOEING</td>\n",
       "      <td>737-8H4</td>\n",
       "      <td>Turbo-fan</td>\n",
       "      <td>Fixed wing multi engine</td>\n",
       "      <td>2.0</td>\n",
       "      <td>143.0</td>\n",
       "      <td>0.0</td>\n",
       "    </tr>\n",
       "    <tr>\n",
       "      <th>2</th>\n",
       "      <td>N665NK</td>\n",
       "      <td>2016.0</td>\n",
       "      <td>AIRBUS</td>\n",
       "      <td>A321-231</td>\n",
       "      <td>Turbo-fan</td>\n",
       "      <td>Fixed wing multi engine</td>\n",
       "      <td>2.0</td>\n",
       "      <td>379.0</td>\n",
       "      <td>0.0</td>\n",
       "    </tr>\n",
       "    <tr>\n",
       "      <th>3</th>\n",
       "      <td>N342DN</td>\n",
       "      <td>2018.0</td>\n",
       "      <td>AIRBUS</td>\n",
       "      <td>A321-211</td>\n",
       "      <td>Turbo-fan</td>\n",
       "      <td>Fixed wing multi engine</td>\n",
       "      <td>2.0</td>\n",
       "      <td>199.0</td>\n",
       "      <td>0.0</td>\n",
       "    </tr>\n",
       "    <tr>\n",
       "      <th>4</th>\n",
       "      <td>N585NN</td>\n",
       "      <td>2016.0</td>\n",
       "      <td>BOMBARDIER INC</td>\n",
       "      <td>CL-600-2D24</td>\n",
       "      <td>Turbo-fan</td>\n",
       "      <td>Fixed wing multi engine</td>\n",
       "      <td>2.0</td>\n",
       "      <td>95.0</td>\n",
       "      <td>0.0</td>\n",
       "    </tr>\n",
       "    <tr>\n",
       "      <th>...</th>\n",
       "      <td>...</td>\n",
       "      <td>...</td>\n",
       "      <td>...</td>\n",
       "      <td>...</td>\n",
       "      <td>...</td>\n",
       "      <td>...</td>\n",
       "      <td>...</td>\n",
       "      <td>...</td>\n",
       "      <td>...</td>\n",
       "    </tr>\n",
       "    <tr>\n",
       "      <th>4606</th>\n",
       "      <td>N77535</td>\n",
       "      <td>2016.0</td>\n",
       "      <td>BOEING</td>\n",
       "      <td>737-824</td>\n",
       "      <td>Turbo-fan</td>\n",
       "      <td>Fixed wing multi engine</td>\n",
       "      <td>2.0</td>\n",
       "      <td>149.0</td>\n",
       "      <td>0.0</td>\n",
       "    </tr>\n",
       "    <tr>\n",
       "      <th>4607</th>\n",
       "      <td>N344NW</td>\n",
       "      <td>1992.0</td>\n",
       "      <td>AIRBUS INDUSTRIE</td>\n",
       "      <td>A320-212</td>\n",
       "      <td>Turbo-fan</td>\n",
       "      <td>Fixed wing multi engine</td>\n",
       "      <td>2.0</td>\n",
       "      <td>182.0</td>\n",
       "      <td>0.0</td>\n",
       "    </tr>\n",
       "    <tr>\n",
       "      <th>4608</th>\n",
       "      <td>N602LR</td>\n",
       "      <td>2008.0</td>\n",
       "      <td>BOMBARDIER INC</td>\n",
       "      <td>CL-600-2D24</td>\n",
       "      <td>Turbo-fan</td>\n",
       "      <td>Fixed wing multi engine</td>\n",
       "      <td>2.0</td>\n",
       "      <td>95.0</td>\n",
       "      <td>0.0</td>\n",
       "    </tr>\n",
       "    <tr>\n",
       "      <th>4609</th>\n",
       "      <td>N952AT</td>\n",
       "      <td>2000.0</td>\n",
       "      <td>BOEING</td>\n",
       "      <td>717-200</td>\n",
       "      <td>Turbo-fan</td>\n",
       "      <td>Fixed wing multi engine</td>\n",
       "      <td>2.0</td>\n",
       "      <td>100.0</td>\n",
       "      <td>0.0</td>\n",
       "    </tr>\n",
       "    <tr>\n",
       "      <th>4610</th>\n",
       "      <td>N329DN</td>\n",
       "      <td>2017.0</td>\n",
       "      <td>AIRBUS</td>\n",
       "      <td>A321-211</td>\n",
       "      <td>Turbo-fan</td>\n",
       "      <td>Fixed wing multi engine</td>\n",
       "      <td>2.0</td>\n",
       "      <td>199.0</td>\n",
       "      <td>0.0</td>\n",
       "    </tr>\n",
       "  </tbody>\n",
       "</table>\n",
       "<p>4611 rows × 9 columns</p>\n",
       "</div>"
      ],
      "text/plain": [
       "     tail_number    year                    manufacturer   \n",
       "0           None     NaN                             NaN  \\\n",
       "1         N8647A  2014.0  BOEING                           \n",
       "2         N665NK  2016.0  AIRBUS                           \n",
       "3         N342DN  2018.0  AIRBUS                           \n",
       "4         N585NN  2016.0  BOMBARDIER INC                   \n",
       "...          ...     ...                             ...   \n",
       "4606      N77535  2016.0  BOEING                           \n",
       "4607      N344NW  1992.0  AIRBUS INDUSTRIE                 \n",
       "4608      N602LR  2008.0  BOMBARDIER INC                   \n",
       "4609      N952AT  2000.0  BOEING                           \n",
       "4610      N329DN  2017.0  AIRBUS                           \n",
       "\n",
       "                     model     engine            aircraft_type  engines   \n",
       "0                      NaN        NaN                      NaN      NaN  \\\n",
       "1     737-8H4               Turbo-fan  Fixed wing multi engine      2.0   \n",
       "2     A321-231              Turbo-fan  Fixed wing multi engine      2.0   \n",
       "3     A321-211              Turbo-fan  Fixed wing multi engine      2.0   \n",
       "4     CL-600-2D24           Turbo-fan  Fixed wing multi engine      2.0   \n",
       "...                    ...        ...                      ...      ...   \n",
       "4606  737-824               Turbo-fan  Fixed wing multi engine      2.0   \n",
       "4607  A320-212              Turbo-fan  Fixed wing multi engine      2.0   \n",
       "4608  CL-600-2D24           Turbo-fan  Fixed wing multi engine      2.0   \n",
       "4609  717-200               Turbo-fan  Fixed wing multi engine      2.0   \n",
       "4610  A321-211              Turbo-fan  Fixed wing multi engine      2.0   \n",
       "\n",
       "      seats  speed  \n",
       "0       NaN    NaN  \n",
       "1     143.0    0.0  \n",
       "2     379.0    0.0  \n",
       "3     199.0    0.0  \n",
       "4      95.0    0.0  \n",
       "...     ...    ...  \n",
       "4606  149.0    0.0  \n",
       "4607  182.0    0.0  \n",
       "4608   95.0    0.0  \n",
       "4609  100.0    0.0  \n",
       "4610  199.0    0.0  \n",
       "\n",
       "[4611 rows x 9 columns]"
      ]
     },
     "execution_count": 56,
     "metadata": {},
     "output_type": "execute_result"
    }
   ],
   "source": [
    "final_table"
   ]
  },
  {
   "cell_type": "code",
   "execution_count": 57,
   "id": "e01a4f47",
   "metadata": {},
   "outputs": [
    {
     "data": {
      "text/plain": [
       "4610"
      ]
     },
     "execution_count": 57,
     "metadata": {},
     "output_type": "execute_result"
    }
   ],
   "source": [
    "# Print count of planes in final_table\n",
    "final_table['tail_number'].count()"
   ]
  },
  {
   "cell_type": "markdown",
   "id": "6afca1b1",
   "metadata": {},
   "source": [
    "Good job! Instead of a huge dataset with all aircrafts we now have a smaller subset that matches the aircrafts we have in our flights table in our PostregSQL database."
   ]
  },
  {
   "cell_type": "markdown",
   "id": "4b392c35",
   "metadata": {},
   "source": [
    "## Inserting aircrafts data into the database\n",
    "The last step is to write this table into our database. We already created functions to help us do this using the sql_functions.py file. \n",
    "If the credentials and functions are set up correctly from the previous notebook, we can go ahead and import the helper function from the sql_functions.py file to get our connection engine."
   ]
  },
  {
   "cell_type": "code",
   "execution_count": 58,
   "id": "ebd8c106",
   "metadata": {},
   "outputs": [],
   "source": [
    "# Import get_engine function from sql_functions.py and set it to a variable called engine\n",
    "from sql_functions import get_engine\n",
    "engine = get_engine()\n",
    "\n",
    "# Import psycopg2\n",
    "import psycopg2"
   ]
  },
  {
   "cell_type": "markdown",
   "id": "fa8c299f",
   "metadata": {},
   "source": [
    "Next, set the table name variable. This will be name of the table that will be written to the PostgreSQL database."
   ]
  },
  {
   "cell_type": "code",
   "execution_count": 59,
   "id": "0e3a5ee9",
   "metadata": {},
   "outputs": [],
   "source": [
    "# IMPORTANT: Set the schema to your course name and set the table_name variable to 'planes_' + your initials/group number\n",
    "# Example: planes_pw for Philipp Wendt / planes_1 for group1\n",
    "schema = 'hh_analytics_24_1' # example 'hh_analytics_22_1\n",
    "table_name = 'planes_sp'"
   ]
  },
  {
   "cell_type": "markdown",
   "id": "3218d1dd",
   "metadata": {},
   "source": [
    "The final step is to write the dataset to the database.  \n",
    "Complete the code below and write the dataset stored in planes_in_both to the PostgreSQL database."
   ]
  },
  {
   "cell_type": "code",
   "execution_count": 60,
   "id": "20c5971e",
   "metadata": {},
   "outputs": [
    {
     "name": "stdout",
     "output_type": "stream",
     "text": [
      "The planes_sp table was imported successfully.\n"
     ]
    }
   ],
   "source": [
    "# Write records stored in a dataframe to SQL database\n",
    "if engine!=None:\n",
    "    try:\n",
    "        final_table.to_sql(name=table_name, # Name of SQL table\n",
    "                        con=engine, # Engine or connection\n",
    "                        if_exists='replace', # Drop the table before inserting new values \n",
    "                        schema=schema, # your class schema\n",
    "                        index=False, # Write DataFrame index as a column\n",
    "                        chunksize=5000, # Specify the number of rows in each batch to be written at a time\n",
    "                        method='multi') # Pass multiple values in a single INSERT clause\n",
    "        print(f\"The {table_name} table was imported successfully.\")\n",
    "    # Error handling\n",
    "    except (Exception, psycopg2.DatabaseError) as error:\n",
    "        print(error)\n",
    "        engine = None\n",
    "else:\n",
    "    print('nope!')"
   ]
  },
  {
   "cell_type": "markdown",
   "id": "4b66c7f6",
   "metadata": {},
   "source": [
    "To check if everything worked try querying the table from the database."
   ]
  },
  {
   "cell_type": "code",
   "execution_count": 61,
   "id": "7fa1371f",
   "metadata": {},
   "outputs": [
    {
     "data": {
      "text/html": [
       "<div>\n",
       "<style scoped>\n",
       "    .dataframe tbody tr th:only-of-type {\n",
       "        vertical-align: middle;\n",
       "    }\n",
       "\n",
       "    .dataframe tbody tr th {\n",
       "        vertical-align: top;\n",
       "    }\n",
       "\n",
       "    .dataframe thead th {\n",
       "        text-align: right;\n",
       "    }\n",
       "</style>\n",
       "<table border=\"1\" class=\"dataframe\">\n",
       "  <thead>\n",
       "    <tr style=\"text-align: right;\">\n",
       "      <th></th>\n",
       "      <th>count</th>\n",
       "    </tr>\n",
       "  </thead>\n",
       "  <tbody>\n",
       "    <tr>\n",
       "      <th>0</th>\n",
       "      <td>4610</td>\n",
       "    </tr>\n",
       "  </tbody>\n",
       "</table>\n",
       "</div>"
      ],
      "text/plain": [
       "   count\n",
       "0   4610"
      ]
     },
     "execution_count": 61,
     "metadata": {},
     "output_type": "execute_result"
    }
   ],
   "source": [
    "# Query the new planes table to get number of planes in the SQL table\n",
    "query = f'SELECT COUNT(tail_number) FROM {schema}.planes_sp'\n",
    "\n",
    "#from sql_functions import get_data\n",
    "#get_data(query)\n",
    "\n",
    "get_dataframe(query)"
   ]
  },
  {
   "cell_type": "markdown",
   "id": "3061d76a",
   "metadata": {},
   "source": [
    "You made it, congratulations!"
   ]
  }
 ],
 "metadata": {
  "interpreter": {
   "hash": "fbe0aead5cca8d2ea82be07e886227a87e9bb2a57fe7325eef0acd6ed9d1683b"
  },
  "kernelspec": {
   "display_name": "Python 3.8.5 64-bit ('sql-practice': conda)",
   "name": "python3"
  },
  "language_info": {
   "codemirror_mode": {
    "name": "ipython",
    "version": 3
   },
   "file_extension": ".py",
   "mimetype": "text/x-python",
   "name": "python",
   "nbconvert_exporter": "python",
   "pygments_lexer": "ipython3",
   "version": "3.9.7"
  }
 },
 "nbformat": 4,
 "nbformat_minor": 5
}
