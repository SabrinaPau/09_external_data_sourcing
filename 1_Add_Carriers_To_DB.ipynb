{
 "cells": [
  {
   "cell_type": "markdown",
   "source": [
    "<img src=\"images/Carriers.jpg\" width=\"800\">"
   ],
   "metadata": {}
  },
  {
   "cell_type": "markdown",
   "source": [
    "# Inserting external data sources into PostgreSQL - Carriers\n",
    "Now that we know where to find data about carriers, we can choose between options of how to get this data into Python.\n",
    "\n",
    "1. Download the csv file directly from the website to your local drive and import it into Python\n",
    "2. Read the csv directly from the web into Python\n",
    "\n",
    "Since we are hackers we're obviously going with the second option!"
   ],
   "metadata": {}
  },
  {
   "cell_type": "markdown",
   "source": [
    "## Importing carrier data from the web into Python\n",
    "First, set the carrier_columns variable so that it contains the two strings 'carrier' and 'name'."
   ],
   "metadata": {}
  },
  {
   "cell_type": "code",
   "execution_count": null,
   "source": [
    "# Set column names to 'carrier' and 'name'\n",
    "carrier_columns = [______ , ______]"
   ],
   "outputs": [],
   "metadata": {}
  },
  {
   "cell_type": "markdown",
   "source": [
    "Now think back to last week: We used the Python library Pandas to import dataframes stored on our local drive.   \n",
    "Find a function in the Pandas package that enables you to read a csv file from the web into python.  \n",
    "Once you have found the right function import the Pandas library."
   ],
   "metadata": {}
  },
  {
   "cell_type": "code",
   "execution_count": null,
   "source": [
    "# Import pandas\n"
   ],
   "outputs": [],
   "metadata": {}
  },
  {
   "cell_type": "markdown",
   "source": [
    "Next, use the Pandas function with the [link](https://raw.githubusercontent.com/dannguyen/bts-transstats-t100-domestic-demo/master/data/lookup-tables/L_UNIQUE_CARRIERS.csv) to the csv file to import the data into Python."
   ],
   "metadata": {}
  },
  {
   "cell_type": "code",
   "execution_count": null,
   "source": [
    "# Import carriers data from the web\n",
    "carriers = __.______(___________, \n",
    "                     names=_____, # Sets the column names to the values in carrier_columns\n",
    "                     skiprows = 1) # Skips the row with column names\n",
    "\n",
    "# Print the carriers dataframe\n",
    "carriers"
   ],
   "outputs": [],
   "metadata": {}
  },
  {
   "cell_type": "markdown",
   "source": [
    "Congratulations! With just a few lines of code you loaded a csv file from the web into Python and changed the column names on the fly. Good job!"
   ],
   "metadata": {}
  },
  {
   "cell_type": "markdown",
   "source": [
    "## Inserting carrier data into the database in Python\n",
    "Now that we have the data in Python, all we have to do is write it into our SQL database. Before we do that we should make sure that our data is clean. Let's run some basic summary statistics before we move on."
   ],
   "metadata": {}
  },
  {
   "cell_type": "code",
   "execution_count": null,
   "source": [
    "# Print carriers info\n"
   ],
   "outputs": [],
   "metadata": {}
  },
  {
   "cell_type": "markdown",
   "source": [
    "It seems we have one NA/NULL value in the carrier column, since there are 1564 non-null values out of 1565 total values.  \n",
    "We can confirm this by running the isnull() and sum() function together."
   ],
   "metadata": {}
  },
  {
   "cell_type": "code",
   "execution_count": null,
   "source": [
    "# Count NULL values\n"
   ],
   "outputs": [],
   "metadata": {}
  },
  {
   "cell_type": "markdown",
   "source": [
    "Clearly, there is one NA/NULL value in our table. Alright, let's find out which carrier is missing its code code value."
   ],
   "metadata": {}
  },
  {
   "cell_type": "code",
   "execution_count": null,
   "source": [
    "# Find missing carrier code\n"
   ],
   "outputs": [],
   "metadata": {}
  },
  {
   "cell_type": "markdown",
   "source": [
    "Found it! The North American Airlines is missing their carrier code value. A quick research on the internet reveals that they ceased operations in 2014 and that in cases like that carrier codes can be reassigned to other carriers. This is good to know, but for now we don't have to worry about this missing value and can leave it as is. Let's move on and add the table to our SQL database.\n",
    "\n",
    "In order to do this, we need to connect to our database, export the data from Python, create a new table in our database and write the data into it.\n",
    "In the 'Internal Data Sourcing' module we alredy learned how to create a connection to our database. Just like last time, we have prepared a sql.py file where you will find a connection object called conn.  \n",
    "Fill in the credentials and import the conn object into this jupyter notebook below."
   ],
   "metadata": {}
  },
  {
   "cell_type": "code",
   "execution_count": null,
   "source": [
    " # Import conn from sql.py\n"
   ],
   "outputs": [],
   "metadata": {}
  },
  {
   "cell_type": "markdown",
   "source": [
    "Now that we have the connection imported, let's check if the connection is working.  \n",
    "Complete the code below and retrieve the first 5 rows from the flights table."
   ],
   "metadata": {}
  },
  {
   "cell_type": "code",
   "execution_count": null,
   "source": [
    "# Print top 5 rows of the airports table\n"
   ],
   "outputs": [],
   "metadata": {}
  },
  {
   "cell_type": "markdown",
   "source": [
    "Next, calculae the total number of rows in the flights table."
   ],
   "metadata": {}
  },
  {
   "cell_type": "code",
   "execution_count": null,
   "source": [
    "# Total number of rows in flights table\n"
   ],
   "outputs": [],
   "metadata": {}
  },
  {
   "cell_type": "markdown",
   "source": [
    "Great, everything seems to be working as expected. Next, let's add the carriers data to our database. For this, we are going to use the <ins>to_sql()</ins> function from pandas. While the to_sql() function has multiple arguments, the important ones are\n",
    "\n",
    "- name: name of SQL table\n",
    "- con: sqlalchemy.engine or sqlite3.Connection\n",
    "\n",
    "Feel free to check out the [documentation](https://pandas.pydata.org/docs/reference/api/pandas.DataFrame.to_sql.html) of the to_sql() function.  \n",
    "\n",
    "We're going to set the parameter name to the name of the table we want to create and for the con argument we can simply use the connection object conn we imported from the sql.py file, right? Well, no.  \n",
    "Querying data from a database is handled differently than writing to a database. In order to write our carriers data to our PostgreSQL database, we need to create and use a sqlalchemy engine as the connection. Fortunately, creating it is easy and only requires two lines of code. First we need to import the sqlalchemy package and then create the engine with the <ins>create_engine()</ins> function. We have added the function to the sql.py file so open the file and check it out. Your job now is to put the credentials into the host, port, database etc. variables and import the engine variable into this jupyter notebook.  \n",
    "Add the credentials to sql.py, then complete the code below and import the engine from sql.py."
   ],
   "metadata": {}
  },
  {
   "cell_type": "code",
   "execution_count": null,
   "source": [
    "# Import engine from sql.py\n",
    "\n",
    "\n",
    "# Print engine\n"
   ],
   "outputs": [],
   "metadata": {}
  },
  {
   "cell_type": "markdown",
   "source": [
    "Good job! Next, set the table_name variable. Its value will be name of the table that will be written to the PostgreSQL database."
   ],
   "metadata": {}
  },
  {
   "cell_type": "code",
   "execution_count": null,
   "source": [
    "# IMPORTANT: Set the table_name variable to 'carriers_' + your initials/group number\n",
    "# Example: carriers_pw for Philipp Wendt / planes_1 for group 1\n",
    "table_name = '_____'"
   ],
   "outputs": [],
   "metadata": {}
  },
  {
   "cell_type": "markdown",
   "source": [
    "Good job! It's time for the final step: writing the carriers data into the database.  \n",
    "Complete the code below and write carriers data to the database using the to_sql() function.)"
   ],
   "metadata": {}
  },
  {
   "cell_type": "code",
   "execution_count": null,
   "source": [
    "# Write records stored in a dataframe to SQL database\n",
    "if engine!=None:\n",
    "    try:\n",
    "        carriers.to_sql(name=________, # Name of SQL table\n",
    "                        con=_________, # Engine or connection\n",
    "                        if_exists='replace', # Drop the table before inserting new values \n",
    "                        index=False, # Write DataFrame index as a column\n",
    "                        chunksize=5000, # Specify the number of rows in each batch to be written at a time\n",
    "                        method='multi') # Pass multiple values in a single INSERT clause\n",
    "        print(f\"The {table_name} table was imported successfully.\")\n",
    "    # Error handling\n",
    "    except (Exception, psycopg2.DatabaseError) as error:\n",
    "        print(error)\n",
    "        engine = None"
   ],
   "outputs": [],
   "metadata": {}
  },
  {
   "cell_type": "markdown",
   "source": [
    "Did you get 'The carriers table was imported successfully.'? If yes, then you should be able to query the table from the database. Let's do that to make sure we did everything right!"
   ],
   "metadata": {}
  },
  {
   "cell_type": "code",
   "execution_count": null,
   "source": [
    "# Query the newly created table\n"
   ],
   "outputs": [],
   "metadata": {}
  },
  {
   "cell_type": "markdown",
   "source": [
    "It worked, awesome! To summarise, we added an external data source to our PostgreSQl database which extends our existing data and allows us to run even better analyises. What's also great is that we didn't need to write a lot of complicated Python code.  \n",
    "\n",
    "Congratulations on completing this notebook, you can be proud of yourself!  \n",
    "Take a break and then move on to the next notebook where you will apply everything you've learned here and extend the existing data even further!"
   ],
   "metadata": {}
  }
 ],
 "metadata": {
  "interpreter": {
   "hash": "3dbd66691e1f512e55fbf3dc67ae6d2a739f4e865244fb8280a44333b8dc0ac7"
  },
  "kernelspec": {
   "display_name": "Python 3",
   "language": "python",
   "name": "python3"
  },
  "language_info": {
   "codemirror_mode": {
    "name": "ipython",
    "version": 3
   },
   "file_extension": ".py",
   "mimetype": "text/x-python",
   "name": "python",
   "nbconvert_exporter": "python",
   "pygments_lexer": "ipython3",
   "version": "3.8.5"
  }
 },
 "nbformat": 4,
 "nbformat_minor": 4
}