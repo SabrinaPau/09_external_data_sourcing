{
 "cells": [
  {
   "cell_type": "markdown",
   "metadata": {},
   "source": [
    "## Introduction - How to use OpenWeather API\n",
    "\n",
    "<img src=\"images/OpenWeather_API_Logo.jpg\" width=\"600\">\n"
   ]
  },
  {
   "cell_type": "markdown",
   "metadata": {},
   "source": [
    "## Query Data - Making calls to the API\n",
    "When you type www.google.de into your web browser and press enter, your browser will send a request to the server that is hosting google's website, asking to retrieve the contents of the website so it can display it to you. Getting data from APIs works in a similar way. A request is sent to the address of the API, but instead of returning html and javascript files that will be interpreted and rendered by you browser, almost always a JSON file with data is returned. Also while you could use a web browser to send the request, it's not needed and more convenient to use a programming language like Python to do it.\n",
    "\n",
    "In this notebook we are going to use the requests library. It is one of the most downloaded Python packages today, pulling in around 14M downloads / week. You can find out more about it here: https://pypi.org/project/requests/.\n",
    "Complete the code below and import the requests package.\n",
    "\n",
    "In this notebook we will be finally using the OpenWeather API https://openweathermap.org/ and enrich our existing flights data with additional weather data.\n",
    "\n",
    "In fact, you're going to:\n",
    "\n",
    "1. Use your API key to make your first call to the OpenWeather API\n",
    "2. Learn how to adjust your API calls to get the data you need\n",
    "3. Learn how to access and extract data from your JSON\n",
    "4. Learn how to flatten nested JSON data and transform it into a DataFrame for future analysis\n",
    "5. Learn how to make multiple calls to the API with different parameters in an automated way"
   ]
  },
  {
   "cell_type": "code",
   "execution_count": null,
   "metadata": {},
   "outputs": [],
   "source": [
    "# Import requests package"
   ]
  },
  {
   "cell_type": "markdown",
   "metadata": {},
   "source": [
    "Next, as mentioned above the URL of the API has to be specified. In this example we are going to pull current weather data. The documentation for this API can be found here: https://openweathermap.org/current\n",
    "\n",
    "The url shown below is what needs to be used in order to connect to the API.\n",
    "\n",
    "We can see that the url has \n",
    "* a fixed part: http://api.openweathermap.org/data/2.5/weather?'\n",
    "* and a variable part: 'q={city name},{state code},{country_code}&appid={API key}'\n",
    "\n",
    "<img src=\"images/Current_Weather_API_Call.png\" width=\"600\">\n",
    "\n",
    "Let's take the fixed part to define a url variable."
   ]
  },
  {
   "cell_type": "code",
   "execution_count": null,
   "metadata": {},
   "outputs": [],
   "source": [
    "# Set URL as url\n",
    "url = 'http://api.openweathermap.org/data/2.5/weather?'"
   ]
  },
  {
   "cell_type": "markdown",
   "metadata": {},
   "source": [
    "While the fixed part stays constant, the variable part consists of query strings or parameters, some optional some mandatory, which can be used to select or filter data or define the format or unit of measurement of the response.\n",
    "\n",
    "Below are the optional and required parameters when pulling current weather data by city name.\n",
    "\n",
    "<img src=\"images/Current_Weather_API_Call_Parameters.png\" width=\"600\">\n",
    "\n",
    "Current weather data can be pulled not only by city name but also by\n",
    "\n",
    "* city ID\n",
    "* geographic coordinates (latitude, longitude)\n",
    "* ZIP code\n",
    "* cities within a rectangular zone\n",
    "* cities in circle\n",
    "\n",
    "Depending on which of the listed methods will be used, the number and names of available parameters can change. Read the documention carefully to avoid running into error messages.\n",
    "\n",
    "In the following example we will stick with pulling the data by city name."
   ]
  },
  {
   "cell_type": "markdown",
   "id": "6dfb3d05",
   "metadata": {},
   "source": [
    "But first:  \n",
    "We need to define a variable that includes our API key that will be used for the appid parameter. Why? Because we need to authenticate ourselves to the API when we send a request, so the API knows that we have a registered account and can notify us in case we reach our query limit.\n",
    "\n",
    "To do this,\n",
    "\n",
    "1. Go to you user profile and go to \"My API keys\" (https://home.openweathermap.org/api_keys)\n",
    "2. Copy your API key.\n",
    "3. Add a variable called \"openweather_api_key\" to your .env file and put your API key in there. Don't forget to save it!"
   ]
  },
  {
   "cell_type": "code",
   "execution_count": null,
   "id": "c306bbea",
   "metadata": {},
   "outputs": [],
   "source": [
    "# To be able to pull the API key from the .env, we need to import and run the load_dotenv function from the dotenv module first.\n",
    "from dotenv import load_dotenv\n",
    "load_dotenv()"
   ]
  },
  {
   "cell_type": "markdown",
   "id": "e9ad7f7f",
   "metadata": {},
   "source": [
    "As the final step before we can do our first API call, we have to put all necessary parameters we chose (our API key, city and units) into a dictionary. We call it \"parameters\", but you can choose any name."
   ]
  },
  {
   "cell_type": "code",
   "execution_count": null,
   "id": "8af1ec71",
   "metadata": {},
   "outputs": [],
   "source": [
    "# complete the parameter dictionary \n",
    "parameters = {\n",
    "    'appid': os.getenv('______'), # extract the value for the open weather api key, \n",
    "    'q': '______', \n",
    "    '______': 'metric'}"
   ]
  },
  {
   "cell_type": "markdown",
   "metadata": {},
   "source": [
    "We're almost ready to make our first API call!\n",
    "\n",
    "One note: Imagine you're having multiple API calls in your script and you want to change the location parameter for all of them to the same variable at the same time. All we need to do is change the value in the dictionary and the API calls will be adjusted. This is much more convenient and less error prone compared to having to find and adjust each individual API call. This approach will also be helpful when we want to make multiple calls for e.g. different locations in one code block using loops, which we will be doing later."
   ]
  },
  {
   "cell_type": "markdown",
   "metadata": {},
   "source": [
    "Now that we have the url and the parameters, we can finally send our first API request. Since we want to get data, we need to send a GET request. This is done using the get() function from the requests function. The get() function will send a request and retrieve the response for us."
   ]
  },
  {
   "cell_type": "code",
   "execution_count": null,
   "metadata": {},
   "outputs": [],
   "source": [
    "# Send get request\n",
    "r = requests.___(___, ______)\n",
    "\n",
    "# Print r"
   ]
  },
  {
   "cell_type": "markdown",
   "metadata": {},
   "source": [
    "Weirdly, when we print the response, all we see is a code 200 message and no data. \n",
    "\n",
    "Did we do something wrong? No! \n",
    "\n",
    "Code 200 actually means that our request was successfull. Check out https://en.wikipedia.org/wiki/List_of_HTTP_status_codes to see a list of reponse codes and their definition. Knowing what the different response codes mean will help you understand error messages and resolve issues faster in the future.\n",
    "\n",
    "So where is the data? The response that the API sent back is actually an object containing multiple elements such as cookies, encoding, headers and content. Run the code blocks below and check out the different elements of the response."
   ]
  },
  {
   "cell_type": "code",
   "execution_count": null,
   "metadata": {},
   "outputs": [],
   "source": [
    "# Print headers\n",
    "r.headers"
   ]
  },
  {
   "cell_type": "code",
   "execution_count": null,
   "metadata": {},
   "outputs": [],
   "source": [
    "# Print cookies\n",
    "r.______"
   ]
  },
  {
   "cell_type": "code",
   "execution_count": null,
   "metadata": {},
   "outputs": [],
   "source": [
    "# Print encoding\n",
    "r._______"
   ]
  },
  {
   "cell_type": "code",
   "execution_count": null,
   "metadata": {},
   "outputs": [],
   "source": [
    "# Print content\n",
    "r._______"
   ]
  },
  {
   "cell_type": "markdown",
   "metadata": {},
   "source": [
    "Found it! The content body holds the data. Since by default it's in JSON format, we can use the built-in JSON decoder to increase readability and prepare the data for future data manipulation."
   ]
  },
  {
   "cell_type": "code",
   "execution_count": null,
   "metadata": {},
   "outputs": [],
   "source": [
    "# Apply JSON decoder and save in weather_hh\n",
    "weather_hh = r.json()\n",
    "\n",
    "# Print weather_hh\n"
   ]
  },
  {
   "cell_type": "markdown",
   "metadata": {},
   "source": [
    "This looks good already, but we can make it look even better! To do this, we are going to use the json Python library and its functions to transform the raw data into a json object and print it with proper indentation."
   ]
  },
  {
   "cell_type": "code",
   "execution_count": null,
   "metadata": {},
   "outputs": [],
   "source": [
    "# Import json package\n",
    "\n",
    "\n",
    "# Create json object: json_object\n",
    "json_object = json.loads(r.content)\n",
    "\n",
    "# Print json_object\n",
    "json.dumps(json_object, indent = 3)"
   ]
  },
  {
   "cell_type": "markdown",
   "metadata": {},
   "source": [
    "Awesome! Now it's super easy to identify the different key-value pairs and assess the available information.\n",
    "\n",
    "You might be saying: \"Yeah, this is cool and all, but I'm not a weather expert, what do all these fields mean?\" \n",
    "\n",
    "-> **Read the documention!**\n",
    "\n",
    "Go to https://openweathermap.org/current#current_JSON and you will find a list of all fields and their definition that can be found in our JSON response.\n",
    "\n",
    "As mentioned above, we can see the different key-value pairs inside the JSON output. You've probably heard the term key-value pairs before. Do you remember where? Dictionaries, exactly! If you need a quick refresh on what dictionaries are and what they do, check out the official Python documentation here: https://docs.Python.org/3/tutorial/datastructures.html#dictionaries.\n",
    "\n",
    "Printing the type of our weather_hh variable, which is the API response decoded by the JSON decoder, we get the confirmation that we are working with a dictionary."
   ]
  },
  {
   "cell_type": "code",
   "execution_count": null,
   "metadata": {},
   "outputs": [],
   "source": [
    "# Print type of weather_hh\n"
   ]
  },
  {
   "cell_type": "markdown",
   "metadata": {},
   "source": [
    "We can use different techniques to access all or only specific parts of the data. One way is to loop through the dictionary and print all key, value pairs.  \n",
    "Complete the code below and print all key value pairs."
   ]
  },
  {
   "cell_type": "code",
   "execution_count": null,
   "metadata": {},
   "outputs": [],
   "source": [
    "# Loop through and print all key-value pairs\n",
    "for ___, _____ in weather_hh.items():\n",
    "    print(____ + ':', ____)"
   ]
  },
  {
   "cell_type": "markdown",
   "metadata": {},
   "source": [
    "Alternatively, we can print specific values by referencing their respective key."
   ]
  },
  {
   "cell_type": "code",
   "execution_count": null,
   "metadata": {},
   "outputs": [],
   "source": [
    "# Print values in base\n",
    "weather_hh['____']\n",
    "\n",
    "# Print values in main\n",
    "\n",
    "\n",
    "# Print values in temp\n"
   ]
  },
  {
   "cell_type": "markdown",
   "metadata": {},
   "source": [
    "## Working with (nested) JSONs\n",
    "Now that you've learned how to pull current weather data from the OpenWeather API and explore the output, it's time to convert it to a DataFrame. Having the data in a DataFrame allows us to perform data exploration, manipulation or visualization.\n",
    "\n",
    "The DataFrame() function in the pandas package allows us to transform a dictionary into a DataFrame.\n",
    "Run the code below to import the library and transform the current weather in Hamburg into a DataFrame."
   ]
  },
  {
   "cell_type": "code",
   "execution_count": null,
   "metadata": {},
   "outputs": [],
   "source": [
    "# Import pandas package\n",
    "\n",
    "\n",
    "# Transform dictionary to dataframe (will throw an error)\n",
    "pd.DataFrame(weather_hh)"
   ]
  },
  {
   "cell_type": "markdown",
   "metadata": {},
   "source": [
    "Weird, we're getting an error message. Do you have an idea what could be the issue?\n",
    "\n",
    "Don't worry if you have no clue what the problem is. Let's look at our JSON output again. Execute the code below."
   ]
  },
  {
   "cell_type": "code",
   "execution_count": null,
   "metadata": {},
   "outputs": [],
   "source": [
    "# Print content of json_object\n",
    "json.dumps(json_object, indent = 3)"
   ]
  },
  {
   "cell_type": "markdown",
   "metadata": {},
   "source": [
    "We can see that some key-value pairs have further key-value pairs as values. The key \"weather\" for example has four key value pairs nested within: \"id\", \"main\", \"description\", \"icon\". The DataFrame() function expects dictionaries with only one level of key-value pairs, but since we have nested pairs, it throws an error.\n",
    "\n",
    "There are multiple solutions to this problem and the one that will be the most useful to you depends on what parts of the data you ultimately need for your analysis. We need all data in our output and therefore the method we are going to use is to flatten the JSON data using the json_normalize() function from the pandas package. It flattens our JSON data and transforms it into a DataFrame. Execute the code below and check the output."
   ]
  },
  {
   "cell_type": "code",
   "execution_count": null,
   "metadata": {},
   "outputs": [],
   "source": [
    "# Flatten json and save in weather_hh_norm\n",
    "weather_hh_norm = pd.json_normalize(weather_hh, sep=\"_\")\n",
    "\n",
    "# Print weather_hh_norm\n"
   ]
  },
  {
   "cell_type": "markdown",
   "metadata": {},
   "source": [
    "Awesome! Now we have a DaraFrame with 1 row and 24 columns. But wait, for some reason the \"weather\" column still contains data in JSON format. This is because the nested key-value pairs are in a list. Probably because sometimes the weather column can be nested further. In order to resolve this we need to use the advanced parameters of the json_normalize() function.\n",
    "\n",
    "* record_path = specify the key that is nested deeper\n",
    "* meta = specify the structure of the remaining JSON\n",
    "* record_prefix = adds a prefix to the column names in the record_path to avoid duplicate column names\n",
    "\n",
    "Execute the code below and compare the output to the output above."
   ]
  },
  {
   "cell_type": "code",
   "execution_count": null,
   "metadata": {},
   "outputs": [],
   "source": [
    "# Advanced flattening with json_normalize()\n",
    "weather_hh_df = pd.json_normalize(weather_hh, \n",
    "                                  sep=\"_\", \n",
    "                                  record_path=\"weather\", \n",
    "                                  meta=[[\"coord\", \"lon\"], \n",
    "                                        [\"coord\", \"lat\"], \n",
    "                                        \"base\",\n",
    "                                        [\"main\", \"temp\"],\n",
    "                                        [\"main\", \"feels_like\"],\n",
    "                                        [\"main\", \"temp_min\"],\n",
    "                                        [\"main\", \"temp_max\"], \n",
    "                                        [\"main\", \"pressure\"], \n",
    "                                        [\"main\", \"humidity\"], \n",
    "                                        \"visibility\", \n",
    "                                        [\"wind\", \"speed\"], \n",
    "                                        [\"wind\", \"deg\"], \n",
    "                                        [\"clouds\", \"all\"], \n",
    "                                        \"dt\", \n",
    "                                        [\"sys\", \"type\"], \n",
    "                                        [\"sys\", \"id\"],\n",
    "                                        [\"sys\", \"country\"],\n",
    "                                        [\"sys\", \"sunrise\"],\n",
    "                                        [\"sys\", \"sunset\"],\n",
    "                                        \"timezone\",\n",
    "                                        \"id\",\n",
    "                                        \"name\",\n",
    "                                        \"cod\"], \n",
    "                                  record_prefix=\"weather_\")\n",
    "# Print weather_hh_df\n",
    "print(weather_hh_df)"
   ]
  },
  {
   "cell_type": "markdown",
   "metadata": {},
   "source": [
    "You're probably thinking: \"Wow, this requires a lot of manual work typing all those keys in the paramaters\". And yes, you're right. Unfortunately this is one of the easier methods to solve the issue. Also, it's not perfect and comes with its own limitations. If you have data that is nested even deeper you often have no other choice but to write your own flattening function. Fortunately there are other Python specialists out there who have done so and shared their work here: \n",
    "\n",
    "* https://towardsdatascience.com/flattening-json-objects-in-python-f5343c794b10\n",
    "* https://stackoverflow.com/questions/52795561/flattening-nested-json-in-pandas-data-frame\n",
    "* https://medium.com/swlh/converting-nested-json-structures-to-pandas-dataframes-e8106c59976e\n",
    "\n",
    "\n",
    "Alright, now that the data is in the right format, we don't have to worry about nested JSONs anymore. To make our data more interesting, since right now we only have one row, let's pull current weather data from more cities and create a proper table with multiple rows. In order to do that, we're going to combine, extend and apply everything we've learnt so far:\n",
    "\n",
    "* Define the parameters in the request URL\n",
    "* Send a request and retrieve the response using the get() function\n",
    "* Decode the response using the JSON decoder .json()\n",
    "* Flatten the JSON file and transform it into a DataFrame\n",
    "\n",
    "The last step will be to combine all dataframes into one final table.\n",
    "\n",
    "This time we want to get the current weather data of multiple locations. Unfortunately the location parameter \"q\" only takes one location at a time. Using a for-loop we should be able to make multiple API calls while iterating through several locations.\n",
    "\n",
    "First, let's collect all the pieces we need below and\n",
    "\n",
    "1. Change the location variable to locations and have to include a list with multiple locations\n",
    "2. Define an empty DataFrame variable\n",
    "3. Add a for-loop that iterates through all locations, flattens the JSON output and appends it to the DataFrame\n",
    "\n",
    "**IMPORTANT: Don't run the code below too often per minute, since you only have 60 API calls per minute you can quickly run into a temporary query limit!**"
   ]
  },
  {
   "cell_type": "code",
   "execution_count": null,
   "metadata": {},
   "outputs": [],
   "source": [
    "# Set the url\n",
    "url = 'http://api.openweathermap.org/data/2.5/weather?'\n",
    "\n",
    "# Set locations\n",
    "locations = [\"q=Hamburg\", \n",
    "             \"q=Berlin\", \n",
    "             \"q=London\", \n",
    "             \"q=Madrid\",\n",
    "             \"q=New York\",\n",
    "             \"q=Moscow\",\n",
    "             \"q=New York\",\n",
    "             \"q=Ankara\",\n",
    "             \"q=Baghdad\",\n",
    "             \"q=Kabul\",\n",
    "             \"q=Tokio\",\n",
    "             \"q=Taipei\",\n",
    "             \"q=Manila\",\n",
    "             \"q=Auckland\",\n",
    "             \"q=Seoul\"]\n",
    "\n",
    "# Set unit of measurement\n",
    "unit = \"&units=metric\"\n",
    "\n",
    "# Set API key (defined already)\n",
    "api_key = '&appid=' + ___________\n",
    "\n",
    "# Create empty dataframe, will be used to append each location's weather data\n",
    "weather_df = pd.DataFrame([])\n",
    "\n",
    "# Loop through all locations\n",
    "for location in locations:\n",
    "    # Create final url\n",
    "    url_f = url + location + unit + api_key\n",
    "    \n",
    "    # Request data from url\n",
    "    r = requests.get(url_f)\n",
    "    \n",
    "    # time.sleep(1) #uncomment if you run into a query limit\n",
    "    \n",
    "    # Decode repsonse with json decoder\n",
    "    weather_temp = r.json()\n",
    "\n",
    "    # Flatten json response\n",
    "    weather_temp_df = pd.json_normalize(weather_temp, \n",
    "                                        sep=\"_\", \n",
    "                                        record_path=\"weather\", \n",
    "                                        meta=[[\"coord\", \"lon\"], \n",
    "                                              [\"coord\", \"lat\"], \n",
    "                                              \"base\",\n",
    "                                              [\"main\", \"temp\"],\n",
    "                                              [\"main\", \"feels_like\"],\n",
    "                                              [\"main\", \"temp_min\"],\n",
    "                                              [\"main\", \"temp_max\"], \n",
    "                                              [\"main\", \"pressure\"], \n",
    "                                              [\"main\", \"humidity\"], \n",
    "                                              \"visibility\", \n",
    "                                              [\"wind\", \"speed\"], \n",
    "                                              [\"wind\", \"deg\"], \n",
    "                                              [\"clouds\", \"all\"], \n",
    "                                              \"dt\", \n",
    "                                              [\"sys\", \"type\"], \n",
    "                                              [\"sys\", \"id\"],\n",
    "                                              [\"sys\", \"country\"],\n",
    "                                              [\"sys\", \"sunrise\"],\n",
    "                                              [\"sys\", \"sunset\"],\n",
    "                                              \"timezone\",\n",
    "                                              \"id\",\n",
    "                                              \"name\",\n",
    "                                              \"cod\"], \n",
    "                                        record_prefix=\"weather_\")\n",
    "    \n",
    "    # concatenate dataframes\n",
    "    weather_df = pd.concat([weather_df, weather_temp_df], ignore_index=True)\n",
    "\n",
    "# Print final dataset weather_df\n",
    "weather_df"
   ]
  },
  {
   "cell_type": "markdown",
   "metadata": {},
   "source": [
    "Fantastic! Now we have a DataFrame with current weather information for 15 locations. What's even better, we didn't have to write a lot of complicated code. How cool is that!?  \n",
    "\n",
    "If we wanted to, we could now create a new weather table in our database and write the weather data into it. Guess what, this is exactly what you're going to do in the upcoming project. So take a break and then move on to the next challenge, good luck!"
   ]
  },
  {
   "cell_type": "markdown",
   "id": "0027a881",
   "metadata": {},
   "source": [
    "### Extra Credit \n",
    "\n",
    "If you have time and energy, we have an additional challenge for you.\n",
    "\n",
    "Until now, you got to know two different methods to call an API:\n",
    "1. Pass the general part of the URL and put the rest of the information into a dictionary and pass it as an additional argument.\n",
    "<br>`r = requests.get(url_part, parameters)`\n",
    "2. Join together all parts of the URL as strings and pass the whole URL to the get function.\n",
    "<br>`url_all = url_part + location + unit + api_key`\n",
    "<br>`r = requests.get(url_all)`\n",
    "\n",
    "Why don't you apply the first method (passing parameters to the get function) to the task in which you used the second method. <br> Can you do it?\n"
   ]
  }
 ],
 "metadata": {
  "interpreter": {
   "hash": "6c96e12ea435425e5eacdf5151fc2e31f65462d718b52a4ac07f3a4743bbc86b"
  },
  "kernelspec": {
   "display_name": "Python 3.9.4 64-bit ('base': conda)",
   "language": "python",
   "name": "python3"
  },
  "language_info": {
   "codemirror_mode": {
    "name": "ipython",
    "version": 3
   },
   "file_extension": ".py",
   "mimetype": "text/x-python",
   "name": "python",
   "nbconvert_exporter": "python",
   "pygments_lexer": "ipython3",
   "version": "3.9.17"
  }
 },
 "nbformat": 4,
 "nbformat_minor": 5
}
