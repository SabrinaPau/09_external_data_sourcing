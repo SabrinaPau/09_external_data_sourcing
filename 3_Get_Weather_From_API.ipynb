{
 "cells": [
  {
   "cell_type": "markdown",
   "metadata": {},
   "source": [
    "# Pulling Data from APIs\n",
    "As a Data Analyst, there are usually two scenarios in which you will have to work with APIs:\n",
    "\n",
    "1. You need to analyse or build reporting on your organization's data that is only available via one or multiple APIs\n",
    "2. You want to enrich your organization's data with external data to improve decision making and drive business value\n",
    "\n",
    "Therefore, being able to connect to and query from APIs is an invaluable skill and will make you more flexible when it comes to working with different data sources. We know working with APIs can be overwhelming and in order to spare you unnecessary frustration, this notebook will provide you with a structured step-by-step approach to make working with APIs as easy and fun as possible.\n",
    "\n",
    "In this notebook we will get to know the OpenWeather API https://openweathermap.org/. The goal will be to enrich our existing flights' data with additional weather data in the next notebook.\n",
    "\n",
    "In fact, you're going to:\n",
    "\n",
    "1. Learn about OpenWeather API's available data and limitations\n",
    "2. Sign-up to the OpenWeather API (if not already done yet)\n"
   ]
  },
  {
   "cell_type": "markdown",
   "metadata": {},
   "source": [
    "## Introduction - How to get started with the OpenWeather API\n",
    "\n",
    "<img src=\"images/OpenWeather_API_Logo.jpg\" width=\"600\">\n",
    "\n",
    "APIs all work very similar in that they use standard methods to make it easy to request and use data. Apart from their functionality, APIs can differ in multiple ways such as the type, amount, level of granularity and accuracy of the data, the authentication method, how many calls can be send per second/minute/day/in total annd the rules on using and publishing the data.\n",
    "\n",
    "Check out their homepage and documentation (https://openweathermap.org/api) and try to answer the questions below.\n",
    "\n",
    "* Does the API have the data I need for my use case in terms of type, completeness, granularity and accuracy?\n",
    "* Is it free or paid?\n",
    "* How many API calls can I make per month?\n",
    "* How many API calls can I make per minute?"
   ]
  },
  {
   "cell_type": "markdown",
   "metadata": {},
   "source": [
    "*// Please put your answers here*"
   ]
  },
  {
   "cell_type": "markdown",
   "metadata": {},
   "source": [
    "### Exercises\n",
    "\n",
    "Please go through the use cases below and answer the questions.\n",
    "\n",
    "Use case #1: Your organization wants you to record the current weather for 100 locations every hour.\n",
    "\n",
    "* Which API provides this data?\n",
    "* Will you have to purchase a paid API plan?\n",
    "* Which limition(s) could be problematic?"
   ]
  },
  {
   "cell_type": "markdown",
   "metadata": {},
   "source": [
    "*// Please put your answers here*"
   ]
  },
  {
   "cell_type": "markdown",
   "metadata": {},
   "source": [
    "Use case #2: Your boss wants you to retrieve weather data for the last 12 months for 10 of your company's store locations to find out if certain weather conditions had an impact on sales. Your budget to get this data is 100€.\n",
    "\n",
    "* Which API provides this data?\n",
    "* How much will it cost you to get this data?\n",
    "* Will the budget be sufficient?"
   ]
  },
  {
   "cell_type": "markdown",
   "metadata": {},
   "source": [
    "*// Please put your answers here*"
   ]
  },
  {
   "cell_type": "markdown",
   "metadata": {},
   "source": [
    "Use case #3: Your boss loves chocolate pudding. What she hates is rain. Unfortunately, she also hates you. One day your boss is in full rage mode, because it rained on her way back from the lunch break and she got wet. The only thing that can safe her day is her beloved chocolate pudding she put in the fridge in the morning. Unfortunately, you ate it, because as chance would have it, you hate your boss even more. Your boss orders you into her office and she is furious. She tells you the following: \"If I ever get wet from rain again, I will fire you.\" Oh no, this is not what you had in mind. You can't get fired, you have to pay aliments for 4 children from 5 ex-wives every month. Fortunately, you are smart and have an idea: you want to write a little app that queries the weather forecast from the OpenWeather API and sends your boss a push notification whenever it is about to rain. In order to get the most recent and accurate forecast and to minimise the risk of getting fired you plan on querying the API every second. Because you're poor you want to use the free API plan.\n",
    "\n",
    "Part 1\n",
    "\n",
    "* Which API provides the data you need?\n",
    "* How accurate is the forecasted weather data?"
   ]
  },
  {
   "cell_type": "markdown",
   "metadata": {},
   "source": [
    "*// Please put your answers here*"
   ]
  },
  {
   "cell_type": "markdown",
   "metadata": {},
   "source": [
    "Part 2  \n",
    "You start querying the data and after exactly 16min40sec you get the following error message:\n",
    "{ \"cod\": 429,\n",
    "\"message\": \"Your account is temporary blocked due to exceeding of requests limitation of your subscription type. \n",
    "Please choose the proper subscription http://openweathermap.org/price\"\n",
    "}\n",
    "* Why are you getting this error message?"
   ]
  },
  {
   "cell_type": "markdown",
   "metadata": {},
   "source": [
    "*// Please put your answer here*"
   ]
  },
  {
   "cell_type": "markdown",
   "metadata": {},
   "source": [
    "Part 3  \n",
    "When looking at the data you have queried so far, you see the same data being returned multiple times. After investigating further, you find a pattern where data changes only after every 600 rows. \n",
    "* Why is that?"
   ]
  },
  {
   "cell_type": "markdown",
   "metadata": {},
   "source": [
    "*// Please put your answer here*"
   ]
  },
  {
   "cell_type": "markdown",
   "metadata": {},
   "source": [
    "Part 4  \n",
    "Now that you know why you are getting the error message and why data changes only after every 600 rows, you reconsider your initial plan.\n",
    "* Taking the above information into consideration, can you use the API you initially selected with a free plan to build the weather forecast app for your boss? Why / why not?"
   ]
  },
  {
   "cell_type": "markdown",
   "metadata": {},
   "source": [
    "*// Please put your answers here*"
   ]
  },
  {
   "cell_type": "markdown",
   "metadata": {},
   "source": [
    "Part 5  \n",
    "In a parallel universe you decided to go with the free API plan to build your weather forecast app. Your app works as expected and your boss receives push notification warnings whenever it's about to rain. One week later you receive a letter of termination: you got fired. Reason: Your boss got wet in the rain. You are confused. You check your code and the app again. Everything works fine. You check the logs to see what happened the day your boss got wet in the rain. You find the API didn't return data for 5 minutes shortly before it started raining. You're furious and plan to sue and demand damages from the company behind OpenWeather API.\n",
    "* Why will you suffer a humiliating defeat before court?"
   ]
  },
  {
   "cell_type": "markdown",
   "metadata": {},
   "source": [
    "*// Please put your answer here*"
   ]
  },
  {
   "cell_type": "markdown",
   "id": "9c250a04",
   "metadata": {},
   "source": [
    "#### Congratulations! \n",
    "Now you are ready to start to get data from an API. And remember, the next time you need to work with an API, just check the documentation. There you will find all the answers to your questions."
   ]
  }
 ],
 "metadata": {
  "interpreter": {
   "hash": "6c96e12ea435425e5eacdf5151fc2e31f65462d718b52a4ac07f3a4743bbc86b"
  },
  "kernelspec": {
   "display_name": "Python 3.9.4 64-bit ('base': conda)",
   "language": "python",
   "name": "python3"
  },
  "language_info": {
   "codemirror_mode": {
    "name": "ipython",
    "version": 3
   },
   "file_extension": ".py",
   "mimetype": "text/x-python",
   "name": "python",
   "nbconvert_exporter": "python",
   "pygments_lexer": "ipython3",
   "version": "3.8.5"
  }
 },
 "nbformat": 4,
 "nbformat_minor": 5
}
