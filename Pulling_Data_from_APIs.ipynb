{
 "cells": [
  {
   "source": [
    "# Pulling Data from APIs\n",
    "As a Data Analyst, there are usually two scenarios in which you will have to work with APIs:\n",
    "\n",
    "1. You need to analyse or build reporting on your organization's data that is only available via one or multiple APIs\n",
    "2. You want to enrich your organization's data with external data to improve decision making and drive business value\n",
    "\n",
    "Therefore, being able to connect to and query from APIs is an invaluable skill and will make you more flexible when it comes to working with different data sources. We know working with APIs can be overwhelming and in order to spare you unnecessary frustration, this notebook will provide you with a structured step-by-step approach to make working with APIs as easy and fun as possible.\n",
    "\n",
    "In this notebook we will be using the OpenWeather API https://openweathermap.org/ with the goal of enriching our existing flights data with additional weather data.\n",
    "\n",
    "Furthermore, you're going to\n",
    "\n",
    "1. Learn about OpenWeather API's available data and limitations\n",
    "2. Sign-up to the OpenWeather API and use your API key to make your first call to the OpenWeather API\n",
    "3. Learn how to adjust your API calls to get the data you need\n",
    "4. Learn how to access and extract data from your JSON\n",
    "5. Learn how to flatten nested JSON data and transform it into a DataFrame for future analysis\n",
    "6. Learn how to making multiple calls to the API with different parameters in an automated way\n"
   ],
   "cell_type": "markdown",
   "metadata": {}
  },
  {
   "source": [
    "## Introduction - How to use OpenWeather API\n",
    "\n",
    "<img src=\"images/OpenWeather_API_Logo.jpg\" width=\"600\">\n",
    "\n",
    "APIs all work very similar in that they use standard methods to make it easy to request and use data. Apart from their functionality, APIs can differ in multiple ways such as the type, amount, level of granularity and accuracy of the data, the authentication method, how many calls can be send per second/minute/day/in total annd the rules on using and publishing the data.\n",
    "\n",
    "Before you register an account, check out their homepage and documentation (https://openweathermap.org/api) and try to answer the questions below.\n",
    "\n",
    "* Does the API have the data I need for my use case in terms of type, completeness, granularity and accuracy?\n",
    "* Is it free or paid?\n",
    "* How many API calls can I make per month?\n",
    "* How many API calls can I make per second?"
   ],
   "cell_type": "markdown",
   "metadata": {}
  },
  {
   "source": [
    "*// Please put your answers here*"
   ],
   "cell_type": "markdown",
   "metadata": {}
  },
  {
   "source": [
    "### Exercises\n",
    "\n",
    "Please go through the use cases below and answer the questions.\n",
    "\n",
    "Use case #1: Your organization wants you to record the current weather for 100 locations every hour.\n",
    "\n",
    "* Which API provides this data?\n",
    "* Will you have to purchase a paid API plan?\n",
    "* Which limition(s) could be problematic?"
   ],
   "cell_type": "markdown",
   "metadata": {}
  },
  {
   "source": [
    "*// Please put your answers here*"
   ],
   "cell_type": "markdown",
   "metadata": {}
  },
  {
   "source": [
    "Use case #2: Your boss wants you to retrieve weather data for the last 12 months for 10 of your company's store locations to find out if certain weather conditions had an impact on sales. The budget for you to get this data is 100$.\n",
    "\n",
    "* Which API provides this data?\n",
    "* How much will it cost you to get this data?\n",
    "* Will the budget be sufficient?"
   ],
   "cell_type": "markdown",
   "metadata": {}
  },
  {
   "source": [
    "*// Please put your answers here*"
   ],
   "cell_type": "markdown",
   "metadata": {}
  },
  {
   "source": [],
   "cell_type": "markdown",
   "metadata": {}
  },
  {
   "source": [
    "Use case #3: Your boss loves chocolate pudding. What she hates is rain. Unfortunately, she also hates you. One day your boss is in full rage mode, because it rained on her way back from the lunch break and she got wet. The only thing that can safe her day is her beloved chocolate pudding she put in the fridge in the morning. Unfortunately, you ate it, because as chance would have it, you hate your boss even more. Your boss orders you into her office and she is furious. She tells you the following: \"If I ever get wet from rain again, I will fire you.\" Oh no, this is not what you had in mind. You can't get fired, you have to pay aliments for 4 children from 5 ex-wives every month. Fortunately, you are smart and have an idea: you want to write a little app that queries the weather forecast from the OpenWeather API and sends your boss a push notification whenever it is about to rain. In order to get the most recent and accurate forecast and to minimise the risk of getting fired you plan on querying the API every second. Because you're poor you want to use the free API plan.\n",
    "\n",
    "* Which API provides the data you need?\n",
    "* How accurate is the forecasted weather data?"
   ],
   "cell_type": "markdown",
   "metadata": {}
  },
  {
   "source": [
    "*// Please put your answers here*"
   ],
   "cell_type": "markdown",
   "metadata": {}
  },
  {
   "source": [
    "You start querying the data and after exactly 16min40sec you get the following error message:\n",
    "{ \"cod\": 429,\n",
    "\"message\": \"Your account is temporary blocked due to exceeding of requests limitation of your subscription type. \n",
    "Please choose the proper subscription http://openweathermap.org/price\"\n",
    "}\n",
    "* Why are you getting this error message?"
   ],
   "cell_type": "markdown",
   "metadata": {}
  },
  {
   "source": [
    "*// Please put your answer here*"
   ],
   "cell_type": "markdown",
   "metadata": {}
  },
  {
   "source": [
    "When looking at the data you have queried so far, you see the same data being returned multiple times. After investigating further, you find a pattern where data changes only after every 600 rows. \n",
    "* Why is that?"
   ],
   "cell_type": "markdown",
   "metadata": {}
  },
  {
   "source": [
    "*// Please put your answer here*"
   ],
   "cell_type": "markdown",
   "metadata": {}
  },
  {
   "source": [
    "Now that you know why you are getting the error message and why data changes only after every 600 rows, you reconsider your initial plan.\n",
    "* Taking the above information into consideration, can you use the API you initially selected with a free plan to build the weather forecast app for your boss? Why / why not?"
   ],
   "cell_type": "markdown",
   "metadata": {}
  },
  {
   "source": [
    "*// Please put your answers here*"
   ],
   "cell_type": "markdown",
   "metadata": {}
  },
  {
   "source": [
    "In a parallel universe you decided to go with the free API plan to build your weather forecast app. Your app works as expected and your boss receives push notification warnings whenever it's about to rain. One week later you receive a letter of termination: you got fired. Reason: Your boss got wet in the rain. You are confused. You check your code and the app again. Everything works fine. You check the logs to see what happened the day your boss got wet in the rain. You find the API didn't return data for 5 minutes shortly before it started raining. You decide to sue OpenWeather API, you want them to pay damages because you didn't do anything wrong and it's their fault that you got fired.\n",
    "* Why will you suffer a humiliating defeat before court?"
   ],
   "cell_type": "markdown",
   "metadata": {}
  },
  {
   "source": [
    "*// Please put your answer here*"
   ],
   "cell_type": "markdown",
   "metadata": {}
  },
  {
   "source": [
    "## Sign-up - Registering an account with OpenWeather API\n",
    "\n",
    "Now that you've gotten familiar with what the OpenWeather API offers and what limitations to consider, you're going to register an account. Having an account will provide you with an API key, without it you will not be able to query the API.\n",
    "\n",
    "1. Go to https://openweathermap.org/\n",
    "2. Click on \"Sign In\" and \"Create an Account\"\n",
    "3. Enter your credentials and create an account\n",
    "4. Go to your emails and activate your account in the confirmation email"
   ],
   "cell_type": "markdown",
   "metadata": {}
  },
  {
   "source": [
    "## Query Data - Making calls to the API\n",
    "When you type www.google.de into your web browser and press enter, your browser will send a request to the server that is hosting google's website, asking to retrieve the contents of the website so it can display it to you. Getting data from APIs works in a similar way. A request is send to the address of the API, but instead of returning html and javascript files that will be interpreted and rendered by you browser, almost always a JSON file with data is returned. Also while you could use a web browser to send the request, it's not needed and more convenient to use a programming language like python to do it.\n",
    "\n",
    "In this notebook we are going to use the requests library. It is one of the most downloaded Python packages today, pulling in around 14M downloads / week. You can find out more about it here: https://pypi.org/project/requests/"
   ],
   "cell_type": "markdown",
   "metadata": {}
  },
  {
   "cell_type": "code",
   "execution_count": 1,
   "metadata": {},
   "outputs": [],
   "source": [
    "import requests"
   ]
  },
  {
   "source": [
    "Next, as mentioned above the URL of the API has to be specified. In this example we are going to pull current weather data. The documentation for this API can be found here: https://openweathermap.org/current\n",
    "\n",
    "The url shown below is what needs to be used in order to connect to the API.\n",
    "\n",
    "We can see that the url has \n",
    "* a fixed part: http://api.openweathermap.org/data/2.5/weather?'\n",
    "* and a variable part: 'q={city name},{state code},{country_code}&appid={API key}'\n",
    "\n",
    "<img src=\"images/Current_Weather_API_Call.png\" width=\"600\">\n",
    "\n",
    "Let's take the fixed part to define a url variable."
   ],
   "cell_type": "markdown",
   "metadata": {}
  },
  {
   "source": [
    "url = 'http://api.openweathermap.org/data/2.5/weather?'"
   ],
   "cell_type": "code",
   "metadata": {},
   "execution_count": 2,
   "outputs": []
  },
  {
   "source": [
    "While the fixed part stays constant, the variable part consists of query strings or parameters, some optional some mandatory, which can be used to select or filter data or define the format or unit of measurement of the response.\n",
    "\n",
    "Below are the optional and required parameters when pulling current weather data by city name.\n",
    "\n",
    "<img src=\"images/Current_Weather_API_Call_Parameters.png\" width=\"600\">\n",
    "\n",
    "Current weather data can be pulled not only by city name but also by\n",
    "\n",
    "* city ID\n",
    "* geographic coordinates (latitude, longitude)\n",
    "* ZIP code\n",
    "* cities within a rectangular zone\n",
    "* cities in circle\n",
    "\n",
    "Depending on which of the listed methods will be used, the number and names of available parameters can change. Read the documention carefully to avoid running into error messages.\n",
    "\n",
    "In the following example we will stick with pulling the data by city name.\n",
    "\n",
    "Let's define two variables:\n",
    "\n",
    "1. a location variable that we will use to set the \"q\" parameter of the API call\n",
    "2. a unit variable that we will use to set the \"units\" parameter\n",
    "\n",
    "**Note: When using more than one parameter, we need to add the \"&\" sign, just like we would do when checking multiple conditions in an IF clause for example (p1 AND p2 AND p3).**"
   ],
   "cell_type": "markdown",
   "metadata": {}
  },
  {
   "cell_type": "code",
   "execution_count": 3,
   "metadata": {},
   "outputs": [],
   "source": [
    "location = \"q=Hamburg\"\n",
    "unit = \"&units=metric\""
   ]
  },
  {
   "source": [
    "Next, we need to define a variable that includes our API key that will be used for the appid parameter. Why? Because we need to authenticate ourselves to the API when we send a request, so the API knows that we have a registered account and can notify us in case we reach our query limit.\n",
    "\n",
    "To do this,\n",
    "\n",
    "1. Go to you user profile and go to \"My API keys\" (https://home.openweathermap.org/api_keys)\n",
    "2. Copy your API key and assign it to the variable api_key below "
   ],
   "cell_type": "markdown",
   "metadata": {}
  },
  {
   "cell_type": "code",
   "execution_count": 4,
   "metadata": {},
   "outputs": [],
   "source": [
    "api_key = \"&appid=\" #copy & paste your API key after the \"&appid=\""
   ]
  },
  {
   "source": [
    "Now we're almost ready to make our first API call!\n",
    "\n",
    "You might be wondering why we split the URL into multiple parts. The answer is, it makes it easy to change our desired output in the future. Imagine you're having multiple API calls in your script and you want to change the location parameter for all of them to the same variable at the same time. All we need to do is change one line of code and all API calls will be adjusted. This is much more convenient and less error prone compared to having to find and adjust each individual API call. This approach will also be helpful when we want to make multiple calls for f.e. different locations in one code block using loops, which we will be doing later.\n",
    "\n",
    "The last step before we can finally query the API is to combine the multiple parts into one final URL. To do this, we can simply concatenate all strings into one. Check out the code below."
   ],
   "cell_type": "markdown",
   "metadata": {}
  },
  {
   "source": [
    "url_f = url + location + unit + api_key\n",
    "print(url_f)"
   ],
   "cell_type": "code",
   "metadata": {},
   "execution_count": null,
   "outputs": []
  },
  {
   "source": [
    "Now that we have the url, we can finally send our first API request. Since we want to get data, we need to send a GET request. This is done using the get() function from the requests function. The get() function will send a request and retrieve the response for us."
   ],
   "cell_type": "markdown",
   "metadata": {}
  },
  {
   "source": [
    "r = requests.get(url_f)\n",
    "print(r)"
   ],
   "cell_type": "code",
   "metadata": {},
   "execution_count": null,
   "outputs": []
  },
  {
   "source": [
    "Weirdly, when we print the response, all we see is a code 200 message and no data. \n",
    "\n",
    "Did we do something wrong? No! \n",
    "\n",
    "Code 200 actually means that our request was successfull. Check out https://en.wikipedia.org/wiki/List_of_HTTP_status_codes to see a list of reponse codes and their definition. Knowing what the different response codes mean will help you understand error messages and resolve issues faster in the future.\n",
    "\n",
    "So where is the data? The response that the API sent back is actually an object containing multiple elements such as cookies, encoding, headers and content. Run the code blocks below and check out the different elements of the response."
   ],
   "cell_type": "markdown",
   "metadata": {}
  },
  {
   "source": [
    "print(r.headers)"
   ],
   "cell_type": "code",
   "metadata": {},
   "execution_count": null,
   "outputs": []
  },
  {
   "source": [
    "print(r.cookies)"
   ],
   "cell_type": "code",
   "metadata": {},
   "execution_count": null,
   "outputs": []
  },
  {
   "source": [
    "print(r.encoding)"
   ],
   "cell_type": "code",
   "metadata": {},
   "execution_count": null,
   "outputs": []
  },
  {
   "source": [
    "print(r.content)"
   ],
   "cell_type": "code",
   "metadata": {},
   "execution_count": null,
   "outputs": []
  },
  {
   "source": [
    "Found it! The content body holds the data. Since by default it's in JSON format, we can use the built-in JSON decoder to increase readability and prepare the data for future data manipulation."
   ],
   "cell_type": "markdown",
   "metadata": {}
  },
  {
   "source": [
    "weather_hh = r.json()\n",
    "print(weather_hh)"
   ],
   "cell_type": "code",
   "metadata": {},
   "execution_count": null,
   "outputs": []
  },
  {
   "source": [
    "This already looks better. But we can make it look even better! To do this, we are going to use the json python library and its functions to transform the raw data into a json object and print it with proper indentation."
   ],
   "cell_type": "markdown",
   "metadata": {}
  },
  {
   "source": [
    "import json\n",
    "json_object = json.loads(r.content)\n",
    "print(json.dumps(json_object, indent = 3))"
   ],
   "cell_type": "code",
   "metadata": {},
   "execution_count": null,
   "outputs": []
  },
  {
   "source": [
    "Awesome! Now it's super easy to identify the different key-value pairs and assess the available information.\n",
    "\n",
    "You might be saying: \"Yeah, this is cool and all, but I'm not a weather expert, what do all these fields mean?\" \n",
    "\n",
    "-> **Read the documention!**\n",
    "\n",
    "Go to https://openweathermap.org/current#current_JSON and you will find a list of all fields and their definition that can be found in our JSON response.\n",
    "\n",
    "As mentioned above, we can see the different key-value pairs inside the JSON output. You've probably heard the term key-value pairs before. Do you remember where? Dictionaries, exactly! If you need a quick refresh on what dictionaries are and what they do, check out the official python documentation here: https://docs.python.org/3/tutorial/datastructures.html#dictionaries.\n",
    "\n",
    "Printing the type of our weather_hh variable, which is the API response decoded by the JSON decoder, we get the confirmation that we are working with a dictionary."
   ],
   "cell_type": "markdown",
   "metadata": {}
  },
  {
   "source": [
    "print(type(weather_hh))"
   ],
   "cell_type": "code",
   "metadata": {},
   "execution_count": null,
   "outputs": []
  },
  {
   "source": [
    "We can use different techniques to access all or only specific parts of the data. Run the code blocks below to see some of the methods in action."
   ],
   "cell_type": "markdown",
   "metadata": {}
  },
  {
   "source": [
    "# Loop through and print all key-value pairs\n",
    "for key, value in weather_hh.items():\n",
    "    print(key + ':', value)"
   ],
   "cell_type": "code",
   "metadata": {},
   "execution_count": null,
   "outputs": []
  },
  {
   "source": [
    "# Print specific key-value pairs\n",
    "print(weather_hh['base'])\n",
    "print(weather_hh['main'])\n",
    "print(weather_hh['main']['temp'])"
   ],
   "cell_type": "code",
   "metadata": {},
   "execution_count": null,
   "outputs": []
  },
  {
   "source": [
    "## Working with (nested) JSONs\n",
    "Now that you've learned how to pull current weather data from the OpenWeather API and explore the output, it's time to convert it to a DataFrame. Having the data in a DataFrame allows us to perform data exploration, manipulation or visualization.\n",
    "\n",
    "The DataFrame() function in the pandas package allows us to transform a dictionary into a DataFrame.\n",
    "Run the code below to import the library and transform the current weather in Hamburg into a DataFrame."
   ],
   "cell_type": "markdown",
   "metadata": {}
  },
  {
   "source": [
    "import pandas as pd\n",
    "print(pd.DataFrame(weather_hh)) # This should throw an error."
   ],
   "cell_type": "code",
   "metadata": {},
   "execution_count": null,
   "outputs": []
  },
  {
   "source": [
    "Weird, we're getting an error message. Do you have an idea what could be the issue?\n",
    "\n",
    "Don't worry if you have no clue what the problem is. Let's look at our JSON output again. Execute the code below."
   ],
   "cell_type": "markdown",
   "metadata": {}
  },
  {
   "source": [
    "print(json.dumps(json_object, indent = 3))"
   ],
   "cell_type": "code",
   "metadata": {},
   "execution_count": null,
   "outputs": []
  },
  {
   "source": [
    "We can see that some key-value pairs have further key-value pairs as values. The key \"weather\" for example has four key value pairs nested within: \"id\", \"main\", \"description\", \"icon\". The DataFrame() function expects dictionaries with only one level of key-value pairs, but since we have nested pairs, it throws an error.\n",
    "\n",
    "There are multiple solutions to this problem and the one that will be the most useful to you depends on what parts of the data you ultimately need for your analysis. We need all data in our output and therefore the method we are going to use is to flatten the JSON data using the json_normalize() function from the pandas package. It normalizes our JSON data into a flat table and transforms it into a DataFrame. Execute the code below and check the output."
   ],
   "cell_type": "markdown",
   "metadata": {}
  },
  {
   "source": [
    "print(type(pd.json_normalize(weather_hh, sep=\"_\")))\n",
    "weather_hh_norm = pd.json_normalize(weather_hh, sep=\"_\")\n",
    "print(weather_hh_norm)"
   ],
   "cell_type": "code",
   "metadata": {},
   "execution_count": null,
   "outputs": []
  },
  {
   "source": [
    "Awesome! Now we have a DaraFrame with 1 row and 24 columns. But wait, for some reason the \"weather\" column still contains data in JSON format. This is because the nested key-value pairs are in a list. Probably because sometimes the weather column can be nested further. In order to resolve this we need to use the function's advanced parameters.\n",
    "\n",
    "* record_path = specify the key that is nested deeper\n",
    "* meta = specify the structure of the remaining JSON\n",
    "* record_prefix = adds a prefix to the column names in the record_path to avoid duplicate column names\n",
    "\n",
    "Execute the code below and compare to the output above and spot the differences."
   ],
   "cell_type": "markdown",
   "metadata": {}
  },
  {
   "source": [
    "weather_hh_df = pd.json_normalize(weather_hh, \n",
    "                                  sep=\"_\", \n",
    "                                  record_path=\"weather\", \n",
    "                                  meta=[[\"coord\", \"lon\"], \n",
    "                                        [\"coord\", \"lat\"], \n",
    "                                        \"base\",\n",
    "                                        [\"main\", \"temp\"],\n",
    "                                        [\"main\", \"feels_like\"],\n",
    "                                        [\"main\", \"temp_min\"],\n",
    "                                        [\"main\", \"temp_max\"], \n",
    "                                        [\"main\", \"pressure\"], \n",
    "                                        [\"main\", \"humidity\"], \n",
    "                                        \"visibility\", \n",
    "                                        [\"wind\", \"speed\"], \n",
    "                                        [\"wind\", \"deg\"], \n",
    "                                        [\"clouds\", \"all\"], \n",
    "                                        \"dt\", \n",
    "                                        [\"sys\", \"type\"], \n",
    "                                        [\"sys\", \"id\"],\n",
    "                                        [\"sys\", \"country\"],\n",
    "                                        [\"sys\", \"sunrise\"],\n",
    "                                        [\"sys\", \"sunset\"],\n",
    "                                        \"timezone\",\n",
    "                                        \"id\",\n",
    "                                        \"name\",\n",
    "                                        \"cod\"], \n",
    "                                  record_prefix=\"weather_\"))"
   ],
   "cell_type": "code",
   "metadata": {},
   "execution_count": null,
   "outputs": []
  },
  {
   "source": [
    "You're probably thinking: \"Wow, this requires a lot of manual work typing all those keys in the paramaters\". And yes, you're right. Unfortunately this is one of the easier methods to solve the issue. Also, it's not perfect and comes with its own limitations. If you have data that is nested even deeper you often have no other choice but to write your own flattening function. Fortunately there are other python specialists out there who have done so and shared their work here: \n",
    "\n",
    "* https://towardsdatascience.com/flattening-json-objects-in-python-f5343c794b10\n",
    "* https://stackoverflow.com/questions/52795561/flattening-nested-json-in-pandas-data-frame\n",
    "* https://medium.com/swlh/converting-nested-json-structures-to-pandas-dataframes-e8106c59976e\n",
    "\n",
    "\n",
    "Alright, now that the data is in the right format, we don't have to worry about nested JSONs anymore. To make our data more interesting, right now we only have one row, let's pull current weather data from more cities and create a proper table with multiple rows. In order to do that, we're going to combine, extend and apply everything we've learnt so far:\n",
    "\n",
    "* Define the parameters in the request URL\n",
    "* Send a request and retrieve the response using the get() function\n",
    "* Decode the response using the JSON decoder .json()\n",
    "* Flatten the JSON file and transform it into a DataFrame\n",
    "\n",
    "The last step will be to combine all dataframes into one final table.\n",
    "\n",
    "This time we want to get the current weather data of multiple locations. Unfortunately the location parameter \"q\" only takes one location at a time. Using a for-loop we should be able to make multiple API calls while iterating through several locations.\n",
    "\n",
    "First, let's collect all the pieces we need below and\n",
    "\n",
    "1. Change the location variable to locations and have to include a list with multiple locations\n",
    "2. Define an empty DataFrame variable\n",
    "3. Add a for-loop that iterates through all locations, flattens the JSON output and appends it to the DataFrame\n",
    "\n",
    "**IMPORTANT: Don't run the code below to often per minute, since you only have 60 API calls per minute you can quickly run into a temporary query limit!**"
   ],
   "cell_type": "markdown",
   "metadata": {}
  },
  {
   "source": [
    "url = 'http://api.openweathermap.org/data/2.5/weather?'\n",
    "#location = \"q=Hamburg\" #not needed anymore\n",
    "locations = [\"q=Hamburg\", \n",
    "             \"q=Berlin\", \n",
    "             \"q=London\", \n",
    "             \"q=Madrid\",\n",
    "             \"q=New York\",\n",
    "             \"q=Moscow\",\n",
    "             \"q=New York\",\n",
    "             \"q=Ankara\",\n",
    "             \"q=Baghdad\",\n",
    "             \"q=Kabul\",\n",
    "             \"q=Tokio\",\n",
    "             \"q=Taipei\",\n",
    "             \"q=Manila\",\n",
    "             \"q=Auckland\",\n",
    "             \"q=Seoul\"]\n",
    "unit = \"&units=metric\"\n",
    "api_key = \"&appid=\" #Add your API key here\n",
    "weather_df = pd.DataFrame([]) #Empty DataFrame, used to append each location's weather data\n",
    "\n",
    "for location in locations:\n",
    "    url_f = url + location + unit + api_key\n",
    "    r = requests.get(url_f)\n",
    "    # time.sleep(1) #uncomment if you run into a query limit\n",
    "    weather_temp = r.json()\n",
    "    weather_temp_df = pd.json_normalize(weather_temp, \n",
    "                                        sep=\"_\", \n",
    "                                        record_path=\"weather\", \n",
    "                                        meta=[[\"coord\", \"lon\"], \n",
    "                                              [\"coord\", \"lat\"], \n",
    "                                              \"base\",\n",
    "                                              [\"main\", \"temp\"],\n",
    "                                              [\"main\", \"feels_like\"],\n",
    "                                              [\"main\", \"temp_min\"],\n",
    "                                              [\"main\", \"temp_max\"], \n",
    "                                              [\"main\", \"pressure\"], \n",
    "                                              [\"main\", \"humidity\"], \n",
    "                                              \"visibility\", \n",
    "                                              [\"wind\", \"speed\"], \n",
    "                                              [\"wind\", \"deg\"], \n",
    "                                              [\"clouds\", \"all\"], \n",
    "                                              \"dt\", \n",
    "                                              [\"sys\", \"type\"], \n",
    "                                              [\"sys\", \"id\"],\n",
    "                                              [\"sys\", \"country\"],\n",
    "                                              [\"sys\", \"sunrise\"],\n",
    "                                              [\"sys\", \"sunset\"],\n",
    "                                              \"timezone\",\n",
    "                                              \"id\",\n",
    "                                              \"name\",\n",
    "                                              \"cod\"], \n",
    "                                        record_prefix=\"weather_\")\n",
    "    weather_df = weather_df.append(weather_temp_df, ignore_index=True)\n",
    "\n",
    "print(weather_df)"
   ],
   "cell_type": "code",
   "metadata": {},
   "execution_count": null,
   "outputs": []
  },
  {
   "source": [
    "Fantastic! Now we have a DataFrame with current weather information for 15 locations. What's even better, we didn't have to write a lot of complicated code. How cool is that!?"
   ],
   "cell_type": "markdown",
   "metadata": {}
  }
 ],
 "metadata": {
  "kernelspec": {
   "name": "python394jvsc74a57bd0c6c0458afc8d68755a57b662ffc4d312357929f43b4a282457f582a4bbebb63b",
   "display_name": "Python 3.9.4 64-bit ('base': conda)"
  },
  "language_info": {
   "codemirror_mode": {
    "name": "ipython",
    "version": 3
   },
   "file_extension": ".py",
   "mimetype": "text/x-python",
   "name": "python",
   "nbconvert_exporter": "python",
   "pygments_lexer": "ipython3",
   "version": "3.9.4"
  }
 },
 "nbformat": 4,
 "nbformat_minor": 5
}