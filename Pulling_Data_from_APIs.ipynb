{
 "cells": [
  {
   "source": [
    "# Pulling Data from APIs\n",
    "As a Data Analyst, there are usually two scenarios in which you will have to work with APIs:\n",
    "\n",
    "1. You need to analyse or build reporting on your organization's data that is only available via one or multiple APIs\n",
    "2. You want to enrich your organization's data with external data to improve decision making and drive business value\n",
    "\n",
    "Therefore, being able to connect to and query from APIs is an invaluable skill and will make you more flexible when it comes to working with different data sources. We know working with APIs can be overwhelming and in order to spare you unnecessary frustration, this notebook will provide you with a structured step-by-step approach to make working with APIs as easy and fun as possible.\n",
    "\n",
    "In this notebook we will be using the OpenWeather API https://openweathermap.org/ with the goal of enriching our existing flights data with additional weather data.\n",
    "\n",
    "Furthermore, you're going to\n",
    "\n",
    "1. Learn about OpenWeather API's available data and limitations\n",
    "2. Sign-up to the OpenWeather API and use your API key to make your first call to the OpenWeather API\n",
    "3. Learn how to adjust your API calls to get the data you need\n",
    "4. Learn how to access and extract data from your JSON\n",
    "5. Learn how to flatten nested JSON data and transform it into a DataFrame for future analysis\n",
    "6. Learn how to making multiple calls to the API with different parameters in an automated way\n"
   ],
   "cell_type": "markdown",
   "metadata": {}
  },
  {
   "source": [
    "## Introduction - How to use OpenWeather API\n",
    "\n",
    "<img src=\"images/OpenWeather_API_Logo.jpg\" width=\"600\">\n",
    "\n",
    "APIs all work very similar in that they use standard methods to make it easy to request and use data. Apart from their functionality, APIs can differ in multiple ways such as the type, amount, level of granularity and accuracy of the data, the authentication method, how many calls can be send per second/minute/day/in total annd the rules on using and publishing the data.\n",
    "\n",
    "Before you register an account, check out their homepage and documentation (https://openweathermap.org/api) and try to answer the questions below.\n",
    "\n",
    "* Does the API have the data I need for my use case in terms of type, completeness, granularity and accuracy?\n",
    "* Is it free or paid?\n",
    "* How many API calls can I make per month?\n",
    "* How many API calls can I make per second?"
   ],
   "cell_type": "markdown",
   "metadata": {}
  },
  {
   "source": [
    "*// Please put your answers here*"
   ],
   "cell_type": "markdown",
   "metadata": {}
  },
  {
   "source": [
    "### Exercises\n",
    "\n",
    "Please go through the use cases below and answer the questions.\n",
    "\n",
    "Use case #1: Your organization wants you to record the current weather for 100 locations every hour.\n",
    "\n",
    "* Which API provides this data?\n",
    "* Will you have to purchase a paid API plan?\n",
    "* Which limition(s) could be problematic?"
   ],
   "cell_type": "markdown",
   "metadata": {}
  },
  {
   "source": [
    "*// Please put your answers here*"
   ],
   "cell_type": "markdown",
   "metadata": {}
  },
  {
   "source": [
    "Use case #2: Your boss wants you to retrieve weather data for the last 12 months for 10 of your company's store locations to find out if certain weather conditions had an impact on sales. The budget for you to get this data is 100$.\n",
    "\n",
    "* Which API provides this data?\n",
    "* How much will it cost you to get this data?\n",
    "* Will the budget be sufficient?"
   ],
   "cell_type": "markdown",
   "metadata": {}
  },
  {
   "source": [
    "*// Please put your answers here*"
   ],
   "cell_type": "markdown",
   "metadata": {}
  },
  {
   "cell_type": "code",
   "execution_count": null,
   "metadata": {},
   "outputs": [],
   "source": []
  },
  {
   "source": [
    "Use case #3: Your boss loves chocolate pudding. What she hates is rain. Unfortunately, she also hates you. One day your boss is in full rage mode, because it rained on her way back from the lunch break and she got wet. The only thing that can safe her day is her beloved chocolate pudding she put in the fridge in the morning. Unfortunately, you ate it, because as chance would have it, you hate your boss even more. Your boss orders you into her office and she is furious. She tells you the following: \"If I ever get wet from rain again, I will fire you.\" Oh no, this is not what you had in mind. You can't get fired, you have to pay aliments for 4 children from 5 ex-wives every month. Fortunately, you are smart and have an idea: you want to write a little app that queries the weather forecast from the OpenWeather API and sends your boss a push notification whenever it is about to rain. In order to get the most recent and accurate forecast and to minimise the risk of getting fired you plan on querying the API every second. Because you're poor you want to use the free API plan.\n",
    "\n",
    "* Which API provides the data you need?\n",
    "* How accurate is the forecasted weather data?"
   ],
   "cell_type": "markdown",
   "metadata": {}
  },
  {
   "source": [
    "*// Please put your answers here*"
   ],
   "cell_type": "markdown",
   "metadata": {}
  },
  {
   "source": [
    "You start querying the data and after exactly 16min40sec you get the following error message:\n",
    "{ \"cod\": 429,\n",
    "\"message\": \"Your account is temporary blocked due to exceeding of requests limitation of your subscription type. \n",
    "Please choose the proper subscription http://openweathermap.org/price\"\n",
    "}\n",
    "* Why are you getting this error message?"
   ],
   "cell_type": "markdown",
   "metadata": {}
  },
  {
   "source": [
    "*// Please put your answer here*"
   ],
   "cell_type": "markdown",
   "metadata": {}
  },
  {
   "source": [
    "When looking at the data you have queried so far, you see the same data being returned multiple times. After investigating further, you find a pattern where data changes only after every 600 rows. \n",
    "* Why is that?"
   ],
   "cell_type": "markdown",
   "metadata": {}
  },
  {
   "source": [
    "*// Please put your answer here*"
   ],
   "cell_type": "markdown",
   "metadata": {}
  },
  {
   "source": [
    "Now that you know why you are getting the error message and why data changes only after every 600 rows, you reconsider your initial plan.\n",
    "* Taking the above information into consideration, can you use the API you initially selected with a free plan to build the weather forecast app for your boss? Why / why not?"
   ],
   "cell_type": "markdown",
   "metadata": {}
  },
  {
   "source": [
    "*// Please put your answers here*"
   ],
   "cell_type": "markdown",
   "metadata": {}
  },
  {
   "source": [
    "In a parallel universe you decided to go with the free API plan to build your weather forecast app. Your app works as expected and your boss receives push notification warnings whenever it's about to rain. One week later you receive a letter of termination: you got fired. Reason: Your boss got wet in the rain. You are confused. You check your code and the app again. Everything works fine. You check the logs to see what happened the day your boss got wet in the rain. You find the API didn't return data for 5 minutes shortly before it started raining. You decide to sue OpenWeather API, you want them to pay damages because you didn't do anything wrong and it's their fault that you got fired.\n",
    "* Why will you suffer a humiliating defeat before court?"
   ],
   "cell_type": "markdown",
   "metadata": {}
  },
  {
   "source": [
    "*// Please put your answer here*"
   ],
   "cell_type": "markdown",
   "metadata": {}
  },
  {
   "source": [
    "## Sign-up - Registering an account with OpenWeather API\n",
    "\n",
    "Now that you've gotten familiar with what the OpenWeather API offers and what limitations to consider, you're going to register an account. Having an account will provide you with an API key, without it you will not be able to query the API.\n",
    "\n",
    "1. Go to https://openweathermap.org/\n",
    "2. Click on \"Sign In\" and \"Create an Account\"\n",
    "3. Enter your credentials and create an account\n",
    "4. Go to your emails and activate your account in the confirmation email"
   ],
   "cell_type": "markdown",
   "metadata": {}
  },
  {
   "source": [
    "## Query Data - Making calls to the API\n",
    "When you type www.google.de into your web browser and press enter, your browser will send a request to the server that is hosting google's website, asking to retrieve the contents of the website so it can display it to you. Getting data from APIs works in a similar way. A request is send to the address of the API, but instead of returning html and javascript files that will be interpreted and rendered by you browser, almost always a JSON file with data is returned. Also while you could use a web browser to send the request, it's not needed and more convenient to use a programming language like python to do it.\n",
    "\n",
    "In this notebook we are going to use the requests library. It is one of the most downloaded Python packages today, pulling in around 14M downloads / week. You can find out more about it here: https://pypi.org/project/requests/"
   ],
   "cell_type": "markdown",
   "metadata": {}
  },
  {
   "cell_type": "code",
   "execution_count": 1,
   "metadata": {},
   "outputs": [],
   "source": [
    "import requests"
   ]
  },
  {
   "source": [
    "Next, as mentioned above the URL of the API has to be specified. In this example we are going to pull current weather data. The documentation for this API can be found here: https://openweathermap.org/current\n",
    "\n",
    "The url shown below is what needs to be used in order to connect to the API.\n",
    "\n",
    "We can see that the url has \n",
    "* a fixed part: http://api.openweathermap.org/data/2.5/weather?'\n",
    "* and a variable part: 'q={city name},{state code},{country_code}&appid={API key}'\n",
    "\n",
    "<img src=\"images/Current_Weather_API_Call.png\" width=\"600\">\n",
    "\n",
    "Let's take the fixed part to define a url variable."
   ],
   "cell_type": "markdown",
   "metadata": {}
  },
  {
   "source": [
    "url = 'http://api.openweathermap.org/data/2.5/weather?'"
   ],
   "cell_type": "code",
   "metadata": {},
   "execution_count": 2,
   "outputs": []
  },
  {
   "source": [
    "While the fixed part stays constant, the variable part consists of query strings or parameters, some optional some mandatory, which can be used to select or filter data or define the format or unit of measurement of the response.\n",
    "\n",
    "Below are the optional and required parameters when pulling current weather data by city name.\n",
    "\n",
    "<img src=\"images/Current_Weather_API_Call_Parameters.png\" width=\"600\">\n",
    "\n",
    "Current weather data can be pulled not only by city name but also by\n",
    "\n",
    "* city ID\n",
    "* geographic coordinates (latitude, longitude)\n",
    "* ZIP code\n",
    "* cities within a rectangular zone\n",
    "* cities in circle\n",
    "\n",
    "Depending on which of the listed methods will be used, the number and names of available parameters can change. Read the documention carefully to avoid running into error messages.\n",
    "\n",
    "In the following example we will stick with pulling the data by city name.\n",
    "\n",
    "Let's define two variables:\n",
    "\n",
    "1. a location variable that we will use to set the \"q\" parameter of the API call\n",
    "2. a unit variable that we will use to set the \"units\" parameter\n",
    "\n",
    "**Note: When using more than one parameter, we need to add the \"&\" sign, just like we would do when checking multiple conditions in an IF clause for example (p1 AND p2 AND p3).**"
   ],
   "cell_type": "markdown",
   "metadata": {}
  },
  {
   "cell_type": "code",
   "execution_count": 3,
   "metadata": {},
   "outputs": [],
   "source": [
    "location = \"q=Hamburg\"\n",
    "unit = \"&units=metric\""
   ]
  },
  {
   "source": [
    "Next, we need to define a variable that includes our API key that will be used for the appid parameter. Why? Because we need to authenticate ourselves to the API when we send a request, so the API knows that we have a registered account and can notify us in case we reach our query limit.\n",
    "\n",
    "To do this,\n",
    "\n",
    "1. Go to you user profile and go to \"My API keys\" (https://home.openweathermap.org/api_keys)\n",
    "2. Copy your API key and assign it to the variable api_key below "
   ],
   "cell_type": "markdown",
   "metadata": {}
  },
  {
   "cell_type": "code",
   "execution_count": 4,
   "metadata": {},
   "outputs": [],
   "source": [
    "api_key = \"&appid=a879011fad349c3125e6166bc72f9e91\" #copy & paste your API key after the \"&appid=\""
   ]
  },
  {
   "source": [
    "Now we're almost ready to make our first API call!\n",
    "\n",
    "You might be wondering why we split the URL into multiple parts. The answer is, it makes it easy to change our desired output in the future. Imagine you're having multiple API calls in your script and you want to change the location parameter for all of them to the same variable at the same time. All we need to do is change one line of code and all API calls will be adjusted. This is much more convenient and less error prone compared to having to find and adjust each individual API call. This approach will also be helpful when we want to make multiple calls for f.e. different locations in one code block using loops, which we will be doing later.\n",
    "\n",
    "The last step before we can finally query the API is to combine the multiple parts into one final URL. To do this, we can simply concatenate all strings into one. Check out the code below."
   ],
   "cell_type": "markdown",
   "metadata": {}
  },
  {
   "cell_type": "code",
   "execution_count": 5,
   "metadata": {},
   "outputs": [
    {
     "output_type": "stream",
     "name": "stdout",
     "text": [
      "http://api.openweathermap.org/data/2.5/weather?q=Hamburg&units=metric&appid=a879011fad349c3125e6166bc72f9e91\n"
     ]
    }
   ],
   "source": [
    "url_f = url + location + unit + api_key\n",
    "print(url_f)"
   ]
  },
  {
   "source": [
    "Now that we have the url, we can finally send our first API request. Since we want to get data, we need to send a GET request. This is done using the get() function from the requests function. The get() function will send a request and retrieve the response for us."
   ],
   "cell_type": "markdown",
   "metadata": {}
  },
  {
   "cell_type": "code",
   "execution_count": 6,
   "metadata": {},
   "outputs": [
    {
     "output_type": "stream",
     "name": "stdout",
     "text": [
      "<Response [200]>\n"
     ]
    }
   ],
   "source": [
    "r = requests.get(url_f)\n",
    "print(r)"
   ]
  },
  {
   "source": [
    "Weirdly, when we print the response, all we see is a code 200 message and no data. \n",
    "\n",
    "Did we do something wrong? No! \n",
    "\n",
    "Code 200 actually means that our request was successfull. Check out https://en.wikipedia.org/wiki/List_of_HTTP_status_codes to see a list of reponse codes and their definition. Knowing what the different response codes mean will help you understand error messages and resolve issues faster in the future.\n",
    "\n",
    "So where is the data? The response that the API sent back is actually an object containing multiple elements such as cookies, encoding, headers and content. Run the code blocks below and check out the different elements of the response."
   ],
   "cell_type": "markdown",
   "metadata": {}
  },
  {
   "cell_type": "code",
   "execution_count": 7,
   "metadata": {},
   "outputs": [
    {
     "output_type": "stream",
     "name": "stdout",
     "text": [
      "{'Server': 'openresty', 'Date': 'Thu, 06 May 2021 08:35:22 GMT', 'Content-Type': 'application/json; charset=utf-8', 'Content-Length': '454', 'Connection': 'keep-alive', 'X-Cache-Key': '/data/2.5/weather?q=hamburg&units=metric', 'Access-Control-Allow-Origin': '*', 'Access-Control-Allow-Credentials': 'true', 'Access-Control-Allow-Methods': 'GET, POST'}\n"
     ]
    }
   ],
   "source": [
    "print(r.headers)"
   ]
  },
  {
   "cell_type": "code",
   "execution_count": 8,
   "metadata": {},
   "outputs": [
    {
     "output_type": "stream",
     "name": "stdout",
     "text": [
      "<RequestsCookieJar[]>\n"
     ]
    }
   ],
   "source": [
    "print(r.cookies)"
   ]
  },
  {
   "cell_type": "code",
   "execution_count": 9,
   "metadata": {},
   "outputs": [
    {
     "output_type": "stream",
     "name": "stdout",
     "text": [
      "utf-8\n"
     ]
    }
   ],
   "source": [
    "print(r.encoding)"
   ]
  },
  {
   "cell_type": "code",
   "execution_count": 10,
   "metadata": {},
   "outputs": [
    {
     "output_type": "stream",
     "name": "stdout",
     "text": [
      "b'{\"coord\":{\"lon\":10,\"lat\":53.55},\"weather\":[{\"id\":803,\"main\":\"Clouds\",\"description\":\"broken clouds\",\"icon\":\"04d\"}],\"base\":\"stations\",\"main\":{\"temp\":7.9,\"feels_like\":4.18,\"temp_min\":7.78,\"temp_max\":8,\"pressure\":1004,\"humidity\":66},\"visibility\":10000,\"wind\":{\"speed\":7.2,\"deg\":260},\"clouds\":{\"all\":75},\"dt\":1620289287,\"sys\":{\"type\":1,\"id\":1263,\"country\":\"DE\",\"sunrise\":1620272102,\"sunset\":1620327488},\"timezone\":7200,\"id\":2911298,\"name\":\"Hamburg\",\"cod\":200}'\n"
     ]
    }
   ],
   "source": [
    "print(r.content)"
   ]
  },
  {
   "source": [
    "Found it! The content body holds the data. Since by default it's in JSON format, we can use the built-in JSON decoder to increase readability and prepare the data for future data manipulation."
   ],
   "cell_type": "markdown",
   "metadata": {}
  },
  {
   "cell_type": "code",
   "execution_count": 11,
   "metadata": {},
   "outputs": [
    {
     "output_type": "stream",
     "name": "stdout",
     "text": [
      "{'coord': {'lon': 10, 'lat': 53.55}, 'weather': [{'id': 803, 'main': 'Clouds', 'description': 'broken clouds', 'icon': '04d'}], 'base': 'stations', 'main': {'temp': 7.9, 'feels_like': 4.18, 'temp_min': 7.78, 'temp_max': 8, 'pressure': 1004, 'humidity': 66}, 'visibility': 10000, 'wind': {'speed': 7.2, 'deg': 260}, 'clouds': {'all': 75}, 'dt': 1620289287, 'sys': {'type': 1, 'id': 1263, 'country': 'DE', 'sunrise': 1620272102, 'sunset': 1620327488}, 'timezone': 7200, 'id': 2911298, 'name': 'Hamburg', 'cod': 200}\n"
     ]
    }
   ],
   "source": [
    "weather_hh = r.json()\n",
    "print(weather_hh)"
   ]
  },
  {
   "source": [
    "This already looks better. But we can make it look even better! To do this, we are going to use the json python library and its functions to transform the raw data into a json object and print it with proper indentation."
   ],
   "cell_type": "markdown",
   "metadata": {}
  },
  {
   "cell_type": "code",
   "execution_count": 12,
   "metadata": {},
   "outputs": [
    {
     "output_type": "stream",
     "name": "stdout",
     "text": [
      "{\n   \"coord\": {\n      \"lon\": 10,\n      \"lat\": 53.55\n   },\n   \"weather\": [\n      {\n         \"id\": 803,\n         \"main\": \"Clouds\",\n         \"description\": \"broken clouds\",\n         \"icon\": \"04d\"\n      }\n   ],\n   \"base\": \"stations\",\n   \"main\": {\n      \"temp\": 7.9,\n      \"feels_like\": 4.18,\n      \"temp_min\": 7.78,\n      \"temp_max\": 8,\n      \"pressure\": 1004,\n      \"humidity\": 66\n   },\n   \"visibility\": 10000,\n   \"wind\": {\n      \"speed\": 7.2,\n      \"deg\": 260\n   },\n   \"clouds\": {\n      \"all\": 75\n   },\n   \"dt\": 1620289287,\n   \"sys\": {\n      \"type\": 1,\n      \"id\": 1263,\n      \"country\": \"DE\",\n      \"sunrise\": 1620272102,\n      \"sunset\": 1620327488\n   },\n   \"timezone\": 7200,\n   \"id\": 2911298,\n   \"name\": \"Hamburg\",\n   \"cod\": 200\n}\n"
     ]
    }
   ],
   "source": [
    "import json\n",
    "json_object = json.loads(r.content)\n",
    "print(json.dumps(json_object, indent = 3))"
   ]
  },
  {
   "source": [
    "Awesome! Now it's super easy to identify the different key-value pairs and assess the available information.\n",
    "\n",
    "You might be saying: \"Yeah, this is cool and all, but I'm not a weather expert, what do all these fields mean?\" \n",
    "\n",
    "-> **Read the documention!**\n",
    "\n",
    "Go to https://openweathermap.org/current#current_JSON and you will find a list of all fields and their definition that can be found in our JSON response.\n",
    "\n",
    "As mentioned above, we can see the different key-value pairs inside the JSON output. You've probably heard the term key-value pairs before. Do you remember where? Dictionaries, exactly! If you need a quick refresh on what dictionaries are and what they do, check out the official python documentation here: https://docs.python.org/3/tutorial/datastructures.html#dictionaries.\n",
    "\n",
    "Printing the type of our weather_hh variable, which is the API response decoded by the JSON decoder, we get the confirmation that we are working with a dictionary."
   ],
   "cell_type": "markdown",
   "metadata": {}
  },
  {
   "cell_type": "code",
   "execution_count": 17,
   "metadata": {},
   "outputs": [
    {
     "output_type": "stream",
     "name": "stdout",
     "text": [
      "<class 'dict'>\n"
     ]
    }
   ],
   "source": [
    "print(type(weather_hh))"
   ]
  },
  {
   "source": [
    "We can use different techniques to access all or only specific parts of the data. Run the code blocks below to see some of the methods in action."
   ],
   "cell_type": "markdown",
   "metadata": {}
  },
  {
   "cell_type": "code",
   "execution_count": 25,
   "metadata": {},
   "outputs": [
    {
     "output_type": "stream",
     "name": "stdout",
     "text": [
      "coord: {'lon': 10, 'lat': 53.55}\nweather: [{'id': 803, 'main': 'Clouds', 'description': 'broken clouds', 'icon': '04d'}]\nbase: stations\nmain: {'temp': 7.9, 'feels_like': 4.18, 'temp_min': 7.78, 'temp_max': 8, 'pressure': 1004, 'humidity': 66}\nvisibility: 10000\nwind: {'speed': 7.2, 'deg': 260}\nclouds: {'all': 75}\ndt: 1620289287\nsys: {'type': 1, 'id': 1263, 'country': 'DE', 'sunrise': 1620272102, 'sunset': 1620327488}\ntimezone: 7200\nid: 2911298\nname: Hamburg\ncod: 200\n"
     ]
    }
   ],
   "source": [
    "# Loop through and print all key-value pairs\n",
    "for key, value in weather_hh.items():\n",
    "    print(key + ':', value)"
   ]
  },
  {
   "cell_type": "code",
   "execution_count": 22,
   "metadata": {},
   "outputs": [
    {
     "output_type": "stream",
     "name": "stdout",
     "text": [
      "stations\n{'temp': 7.9, 'feels_like': 4.18, 'temp_min': 7.78, 'temp_max': 8, 'pressure': 1004, 'humidity': 66}\n7.9\n"
     ]
    }
   ],
   "source": [
    "# Print specific key-value pairs\n",
    "print(weather_hh['base'])\n",
    "print(weather_hh['main'])\n",
    "print(weather_hh['main']['temp'])"
   ]
  },
  {
   "source": [
    "## Working with (nested) JSONs\n",
    "Now that you've learned how to pull current weather data from the OpenWeather API and explore the output, it's time to convert it to a DataFrame. Having the data in a DataFrame allows us to perform data exploration, manipulation or visualization.\n",
    "\n",
    "The DataFrame() function in the pandas package allows us to transform a dictionary into a DataFrame.\n",
    "Run the code below to import the library and transform the current weather in Hamburg into a DataFrame."
   ],
   "cell_type": "markdown",
   "metadata": {}
  },
  {
   "cell_type": "code",
   "execution_count": 33,
   "metadata": {},
   "outputs": [
    {
     "output_type": "error",
     "ename": "ValueError",
     "evalue": "Mixing dicts with non-Series may lead to ambiguous ordering.",
     "traceback": [
      "\u001b[0;31m---------------------------------------------------------------------------\u001b[0m",
      "\u001b[0;31mValueError\u001b[0m                                Traceback (most recent call last)",
      "\u001b[0;32m<ipython-input-33-4316be0c0dfa>\u001b[0m in \u001b[0;36m<module>\u001b[0;34m\u001b[0m\n\u001b[1;32m      1\u001b[0m \u001b[0;32mimport\u001b[0m \u001b[0mpandas\u001b[0m \u001b[0;32mas\u001b[0m \u001b[0mpd\u001b[0m\u001b[0;34m\u001b[0m\u001b[0;34m\u001b[0m\u001b[0m\n\u001b[0;32m----> 2\u001b[0;31m \u001b[0mprint\u001b[0m\u001b[0;34m(\u001b[0m\u001b[0mpd\u001b[0m\u001b[0;34m.\u001b[0m\u001b[0mDataFrame\u001b[0m\u001b[0;34m(\u001b[0m\u001b[0mweather_hh\u001b[0m\u001b[0;34m)\u001b[0m\u001b[0;34m)\u001b[0m\u001b[0;34m\u001b[0m\u001b[0;34m\u001b[0m\u001b[0m\n\u001b[0m",
      "\u001b[0;32m~/opt/miniconda3/lib/python3.9/site-packages/pandas/core/frame.py\u001b[0m in \u001b[0;36m__init__\u001b[0;34m(self, data, index, columns, dtype, copy)\u001b[0m\n\u001b[1;32m    527\u001b[0m \u001b[0;34m\u001b[0m\u001b[0m\n\u001b[1;32m    528\u001b[0m         \u001b[0;32melif\u001b[0m \u001b[0misinstance\u001b[0m\u001b[0;34m(\u001b[0m\u001b[0mdata\u001b[0m\u001b[0;34m,\u001b[0m \u001b[0mdict\u001b[0m\u001b[0;34m)\u001b[0m\u001b[0;34m:\u001b[0m\u001b[0;34m\u001b[0m\u001b[0;34m\u001b[0m\u001b[0m\n\u001b[0;32m--> 529\u001b[0;31m             \u001b[0mmgr\u001b[0m \u001b[0;34m=\u001b[0m \u001b[0minit_dict\u001b[0m\u001b[0;34m(\u001b[0m\u001b[0mdata\u001b[0m\u001b[0;34m,\u001b[0m \u001b[0mindex\u001b[0m\u001b[0;34m,\u001b[0m \u001b[0mcolumns\u001b[0m\u001b[0;34m,\u001b[0m \u001b[0mdtype\u001b[0m\u001b[0;34m=\u001b[0m\u001b[0mdtype\u001b[0m\u001b[0;34m)\u001b[0m\u001b[0;34m\u001b[0m\u001b[0;34m\u001b[0m\u001b[0m\n\u001b[0m\u001b[1;32m    530\u001b[0m         \u001b[0;32melif\u001b[0m \u001b[0misinstance\u001b[0m\u001b[0;34m(\u001b[0m\u001b[0mdata\u001b[0m\u001b[0;34m,\u001b[0m \u001b[0mma\u001b[0m\u001b[0;34m.\u001b[0m\u001b[0mMaskedArray\u001b[0m\u001b[0;34m)\u001b[0m\u001b[0;34m:\u001b[0m\u001b[0;34m\u001b[0m\u001b[0;34m\u001b[0m\u001b[0m\n\u001b[1;32m    531\u001b[0m             \u001b[0;32mimport\u001b[0m \u001b[0mnumpy\u001b[0m\u001b[0;34m.\u001b[0m\u001b[0mma\u001b[0m\u001b[0;34m.\u001b[0m\u001b[0mmrecords\u001b[0m \u001b[0;32mas\u001b[0m \u001b[0mmrecords\u001b[0m\u001b[0;34m\u001b[0m\u001b[0;34m\u001b[0m\u001b[0m\n",
      "\u001b[0;32m~/opt/miniconda3/lib/python3.9/site-packages/pandas/core/internals/construction.py\u001b[0m in \u001b[0;36minit_dict\u001b[0;34m(data, index, columns, dtype)\u001b[0m\n\u001b[1;32m    285\u001b[0m             \u001b[0marr\u001b[0m \u001b[0;32mif\u001b[0m \u001b[0;32mnot\u001b[0m \u001b[0mis_datetime64tz_dtype\u001b[0m\u001b[0;34m(\u001b[0m\u001b[0marr\u001b[0m\u001b[0;34m)\u001b[0m \u001b[0;32melse\u001b[0m \u001b[0marr\u001b[0m\u001b[0;34m.\u001b[0m\u001b[0mcopy\u001b[0m\u001b[0;34m(\u001b[0m\u001b[0;34m)\u001b[0m \u001b[0;32mfor\u001b[0m \u001b[0marr\u001b[0m \u001b[0;32min\u001b[0m \u001b[0marrays\u001b[0m\u001b[0;34m\u001b[0m\u001b[0;34m\u001b[0m\u001b[0m\n\u001b[1;32m    286\u001b[0m         ]\n\u001b[0;32m--> 287\u001b[0;31m     \u001b[0;32mreturn\u001b[0m \u001b[0marrays_to_mgr\u001b[0m\u001b[0;34m(\u001b[0m\u001b[0marrays\u001b[0m\u001b[0;34m,\u001b[0m \u001b[0mdata_names\u001b[0m\u001b[0;34m,\u001b[0m \u001b[0mindex\u001b[0m\u001b[0;34m,\u001b[0m \u001b[0mcolumns\u001b[0m\u001b[0;34m,\u001b[0m \u001b[0mdtype\u001b[0m\u001b[0;34m=\u001b[0m\u001b[0mdtype\u001b[0m\u001b[0;34m)\u001b[0m\u001b[0;34m\u001b[0m\u001b[0;34m\u001b[0m\u001b[0m\n\u001b[0m\u001b[1;32m    288\u001b[0m \u001b[0;34m\u001b[0m\u001b[0m\n\u001b[1;32m    289\u001b[0m \u001b[0;34m\u001b[0m\u001b[0m\n",
      "\u001b[0;32m~/opt/miniconda3/lib/python3.9/site-packages/pandas/core/internals/construction.py\u001b[0m in \u001b[0;36marrays_to_mgr\u001b[0;34m(arrays, arr_names, index, columns, dtype, verify_integrity)\u001b[0m\n\u001b[1;32m     78\u001b[0m         \u001b[0;31m# figure out the index, if necessary\u001b[0m\u001b[0;34m\u001b[0m\u001b[0;34m\u001b[0m\u001b[0;34m\u001b[0m\u001b[0m\n\u001b[1;32m     79\u001b[0m         \u001b[0;32mif\u001b[0m \u001b[0mindex\u001b[0m \u001b[0;32mis\u001b[0m \u001b[0;32mNone\u001b[0m\u001b[0;34m:\u001b[0m\u001b[0;34m\u001b[0m\u001b[0;34m\u001b[0m\u001b[0m\n\u001b[0;32m---> 80\u001b[0;31m             \u001b[0mindex\u001b[0m \u001b[0;34m=\u001b[0m \u001b[0mextract_index\u001b[0m\u001b[0;34m(\u001b[0m\u001b[0marrays\u001b[0m\u001b[0;34m)\u001b[0m\u001b[0;34m\u001b[0m\u001b[0;34m\u001b[0m\u001b[0m\n\u001b[0m\u001b[1;32m     81\u001b[0m         \u001b[0;32melse\u001b[0m\u001b[0;34m:\u001b[0m\u001b[0;34m\u001b[0m\u001b[0;34m\u001b[0m\u001b[0m\n\u001b[1;32m     82\u001b[0m             \u001b[0mindex\u001b[0m \u001b[0;34m=\u001b[0m \u001b[0mensure_index\u001b[0m\u001b[0;34m(\u001b[0m\u001b[0mindex\u001b[0m\u001b[0;34m)\u001b[0m\u001b[0;34m\u001b[0m\u001b[0;34m\u001b[0m\u001b[0m\n",
      "\u001b[0;32m~/opt/miniconda3/lib/python3.9/site-packages/pandas/core/internals/construction.py\u001b[0m in \u001b[0;36mextract_index\u001b[0;34m(data)\u001b[0m\n\u001b[1;32m    402\u001b[0m \u001b[0;34m\u001b[0m\u001b[0m\n\u001b[1;32m    403\u001b[0m             \u001b[0;32mif\u001b[0m \u001b[0mhave_dicts\u001b[0m\u001b[0;34m:\u001b[0m\u001b[0;34m\u001b[0m\u001b[0;34m\u001b[0m\u001b[0m\n\u001b[0;32m--> 404\u001b[0;31m                 raise ValueError(\n\u001b[0m\u001b[1;32m    405\u001b[0m                     \u001b[0;34m\"Mixing dicts with non-Series may lead to ambiguous ordering.\"\u001b[0m\u001b[0;34m\u001b[0m\u001b[0;34m\u001b[0m\u001b[0m\n\u001b[1;32m    406\u001b[0m                 )\n",
      "\u001b[0;31mValueError\u001b[0m: Mixing dicts with non-Series may lead to ambiguous ordering."
     ]
    }
   ],
   "source": [
    "import pandas as pd\n",
    "print(pd.DataFrame(weather_hh)) # This should throw an error."
   ]
  },
  {
   "source": [
    "Weird, we're getting an error message. Do you have an idea what could be the issue?\n",
    "\n",
    "Don't worry if you have no clue what the problem is. Let's look at our JSON output again. Execute the code below."
   ],
   "cell_type": "markdown",
   "metadata": {}
  },
  {
   "cell_type": "code",
   "execution_count": 34,
   "metadata": {},
   "outputs": [
    {
     "output_type": "stream",
     "name": "stdout",
     "text": [
      "{\n   \"coord\": {\n      \"lon\": 10,\n      \"lat\": 53.55\n   },\n   \"weather\": [\n      {\n         \"id\": 803,\n         \"main\": \"Clouds\",\n         \"description\": \"broken clouds\",\n         \"icon\": \"04d\"\n      }\n   ],\n   \"base\": \"stations\",\n   \"main\": {\n      \"temp\": 7.9,\n      \"feels_like\": 4.18,\n      \"temp_min\": 7.78,\n      \"temp_max\": 8,\n      \"pressure\": 1004,\n      \"humidity\": 66\n   },\n   \"visibility\": 10000,\n   \"wind\": {\n      \"speed\": 7.2,\n      \"deg\": 260\n   },\n   \"clouds\": {\n      \"all\": 75\n   },\n   \"dt\": 1620289287,\n   \"sys\": {\n      \"type\": 1,\n      \"id\": 1263,\n      \"country\": \"DE\",\n      \"sunrise\": 1620272102,\n      \"sunset\": 1620327488\n   },\n   \"timezone\": 7200,\n   \"id\": 2911298,\n   \"name\": \"Hamburg\",\n   \"cod\": 200\n}\n"
     ]
    }
   ],
   "source": [
    "print(json.dumps(json_object, indent = 3))"
   ]
  },
  {
   "source": [
    "We can see that some key-value pairs have further key-value pairs as values. The key \"weather\" for example has four key value pairs nested within: \"id\", \"main\", \"description\", \"icon\". The DataFrame() function expects dictionaries with only one level of key-value pairs, but since we have nested pairs, it throws an error.\n",
    "\n",
    "There are multiple solutions to this problem and the one that will be the most useful to you depends on what parts of the data you ultimately need for your analysis. We need all data in our output and therefore the method we are going to use is to flatten the JSON data using the json_normalize() function from the pandas package. It normalizes our JSON data into a flat table and transforms it into a DataFrame. Execute the code below and check the output."
   ],
   "cell_type": "markdown",
   "metadata": {}
  },
  {
   "cell_type": "code",
   "execution_count": 49,
   "metadata": {},
   "outputs": [
    {
     "output_type": "stream",
     "name": "stdout",
     "text": [
      "<class 'pandas.core.frame.DataFrame'>\n                                             weather      base  visibility  \\\n0  [{'id': 803, 'main': 'Clouds', 'description': ...  stations       10000   \n\n           dt  timezone       id     name  cod  coord_lon  coord_lat  ...  \\\n0  1620289287      7200  2911298  Hamburg  200         10      53.55  ...   \n\n   main_pressure  main_humidity  wind_speed  wind_deg  clouds_all  sys_type  \\\n0           1004             66         7.2       260          75         1   \n\n   sys_id  sys_country  sys_sunrise  sys_sunset  \n0    1263           DE   1620272102  1620327488  \n\n[1 rows x 24 columns]\n"
     ]
    }
   ],
   "source": [
    "print(type(pd.json_normalize(weather_hh, sep=\"_\")))\n",
    "weather_hh_norm = pd.json_normalize(weather_hh, sep=\"_\")\n",
    "print(weather_hh_norm)"
   ]
  },
  {
   "source": [
    "Awesome! Now we have a DaraFrame with 1 row and 24 columns. But wait, for some reason the \"weather\" column still contains data in JSON format. This is because the nested key-value pairs are in a list. Probably because sometimes the weather column can be nested further. In order to resolve this we need to use the function's advanced parameters.\n",
    "\n",
    "* record_path = specify the key that is nested deeper\n",
    "* meta = specify the structure of the remaining JSON\n",
    "* record_prefix = adds a prefix to the column names in the record_path to avoid duplicate column names\n",
    "\n",
    "Execute the code below and compare to the output above and spot the differences."
   ],
   "cell_type": "markdown",
   "metadata": {}
  },
  {
   "cell_type": "code",
   "execution_count": 50,
   "metadata": {},
   "outputs": [
    {
     "output_type": "stream",
     "name": "stdout",
     "text": [
      "   weather_id weather_main weather_description weather_icon coord_lon  \\\n0         803       Clouds       broken clouds          04d        10   \n\n  coord_lat      base main_temp main_feels_like main_temp_min  ...  \\\n0     53.55  stations       7.9            4.18          7.78  ...   \n\n           dt sys_type sys_id sys_country sys_sunrise  sys_sunset timezone  \\\n0  1620289287        1   1263          DE  1620272102  1620327488     7200   \n\n        id     name  cod  \n0  2911298  Hamburg  200  \n\n[1 rows x 27 columns]\n"
     ]
    }
   ],
   "source": [
    "weather_hh_df = pd.json_normalize(weather_hh, \n",
    "                                  sep=\"_\", \n",
    "                                  record_path=\"weather\", \n",
    "                                  meta=[[\"coord\", \"lon\"], \n",
    "                                        [\"coord\", \"lat\"], \n",
    "                                        \"base\",\n",
    "                                        [\"main\", \"temp\"],\n",
    "                                        [\"main\", \"feels_like\"],\n",
    "                                        [\"main\", \"temp_min\"],\n",
    "                                        [\"main\", \"temp_max\"], \n",
    "                                        [\"main\", \"pressure\"], \n",
    "                                        [\"main\", \"humidity\"], \n",
    "                                        \"visibility\", \n",
    "                                        [\"wind\", \"speed\"], \n",
    "                                        [\"wind\", \"deg\"], \n",
    "                                        [\"clouds\", \"all\"], \n",
    "                                        \"dt\", \n",
    "                                        [\"sys\", \"type\"], \n",
    "                                        [\"sys\", \"id\"],\n",
    "                                        [\"sys\", \"country\"],\n",
    "                                        [\"sys\", \"sunrise\"],\n",
    "                                        [\"sys\", \"sunset\"],\n",
    "                                        \"timezone\",\n",
    "                                        \"id\",\n",
    "                                        \"name\",\n",
    "                                        \"cod\"], \n",
    "                                  record_prefix=\"weather_\"))"
   ]
  },
  {
   "source": [
    "You're probably thinking: \"Wow, this requires a lot of manual work typing all those keys in the paramaters\". And yes, you're right. Unfortunately this is one of the easier methods to solve the issue. Also, it's not perfect and comes with its own limitations. If you have data that is nested even deeper you often have no other choice but to write your own flattening function. Fortunately there are other python specialists out there who have done so and shared their work here: \n",
    "\n",
    "* https://towardsdatascience.com/flattening-json-objects-in-python-f5343c794b10\n",
    "* https://stackoverflow.com/questions/52795561/flattening-nested-json-in-pandas-data-frame\n",
    "* https://medium.com/swlh/converting-nested-json-structures-to-pandas-dataframes-e8106c59976e\n",
    "\n",
    "\n",
    "Alright, now that the data is in the right format, we don't have to worry about nested JSONs anymore. To make our data more interesting, right now we only have one row, let's pull current weather data from more cities and create a proper table with multiple rows. In order to do that, we're going to combine, extend and apply everything we've learnt so far:\n",
    "\n",
    "* Define the parameters in the request URL\n",
    "* Send a request and retrieve the response using the get() function\n",
    "* Decode the response using the JSON decoder .json()\n",
    "* Flatten the JSON file and transform it into a DataFrame\n",
    "\n",
    "The last step will be to combine all dataframes into one final table.\n",
    "\n",
    "This time we want to get the current weather data of multiple locations. Unfortunately the location parameter \"q\" only takes one location at a time. Using a for-loop we should be able to make multiple API calls while iterating through several locations.\n",
    "\n",
    "First, let's collect all the pieces we need below and\n",
    "\n",
    "1. Change the location variable to locations and have to include a list with multiple locations\n",
    "2. Define an empty DataFrame variable\n",
    "3. Add a for-loop that iterates through all locations, flattens the JSON output and appends it to the DataFrame\n",
    "\n",
    "**IMPORTANT: Don't run the code below to often per minute, since you only have 60 API calls per minute you can quickly run into a temporary query limit!**"
   ],
   "cell_type": "markdown",
   "metadata": {}
  },
  {
   "cell_type": "code",
   "execution_count": 55,
   "metadata": {},
   "outputs": [
    {
     "output_type": "stream",
     "name": "stdout",
     "text": [
      "    weather_id weather_main weather_description weather_icon coord_lon  \\\n0          801       Clouds          few clouds          02d        10   \n1          803       Clouds       broken clouds          04d   13.4105   \n2          500         Rain          light rain          10d   -0.1257   \n3          800        Clear           clear sky          01d   -3.7026   \n4          800        Clear           clear sky          01d   -74.006   \n5          500         Rain          light rain          10d   37.6156   \n6          800        Clear           clear sky          01d   -74.006   \n7          803       Clouds       broken clouds          04d   32.8543   \n8          800        Clear           clear sky          01d   44.4009   \n9          500         Rain          light rain          10d   69.4167   \n10         803       Clouds       broken clouds          04n  139.6917   \n11         803       Clouds       broken clouds          04n  121.5319   \n12         801       Clouds          few clouds          02n  120.9822   \n13         803       Clouds       broken clouds          04n  174.7667   \n14         800        Clear           clear sky          01n  126.9778   \n\n   coord_lat      base main_temp main_feels_like main_temp_min  ...  \\\n0      53.55  stations     11.14            9.69            10  ...   \n1    52.5244  stations     11.37           10.18            10  ...   \n2    51.5085  stations      9.79             8.9          8.89  ...   \n3    40.4165  stations     24.59           23.81         23.33  ...   \n4    40.7143  stations     12.87           11.52         11.67  ...   \n5    55.7522  stations     14.21           13.31         13.89  ...   \n6    40.7143  stations     12.87           11.52         11.67  ...   \n7    39.9199  stations     17.46           16.44         16.67  ...   \n8    33.3406  stations        39           36.48            39  ...   \n9       34.5  stations        19           18.05            19  ...   \n10   35.6895  stations     18.55           18.11         17.78  ...   \n11   25.0478  stations     24.23           25.32            23  ...   \n12   14.6042  stations     29.58           34.04         28.89  ...   \n13  -36.8667  stations     14.02           13.93         13.89  ...   \n14   37.5683  stations     14.04           12.31            12  ...   \n\n            dt sys_type sys_id sys_country sys_sunrise  sys_sunset timezone  \\\n0   1620307844        1   1263          DE  1620272102  1620327488     7200   \n1   1620308136        1   1262          DE  1620271518  1620326436     7200   \n2   1620308009        1   1414          GB  1620274981  1620329470     3600   \n3   1620308293        1   6443          ES  1620277672  1620328496     7200   \n4   1620308357        1   4610          US  1620294491  1620345420   -14400   \n5   1620308447        1   9027          RU  1620264936  1620321399    10800   \n6   1620308357        1   4610          US  1620294491  1620345420   -14400   \n7   1620308170        1   6948          TR  1620268970  1620319651    10800   \n8   1620308501        1   7597          IQ  1620266978  1620316101    10800   \n9   1620308681        1   7381          AF  1620260851  1620310220    16200   \n10  1620308105        1   8074          JP  1620243862  1620293478    32400   \n11  1620308451        1   7949          TW  1620249287  1620296770    28800   \n12  1620308508        1   8160          PH  1620250283  1620296038    28800   \n13  1620308409        1   7345          NZ  1620327911  1620365388    43200   \n14  1620308465        1   8105          KR  1620246692  1620296752    32400   \n\n         id      name  cod  \n0   2911298   Hamburg  200  \n1   2950159    Berlin  200  \n2   2643743    London  200  \n3   3117735    Madrid  200  \n4   5128581  New York  200  \n5    524901    Moscow  200  \n6   5128581  New York  200  \n7    323786    Ankara  200  \n8     98182   Baghdad  200  \n9   1138957     Kabul  200  \n10  1850147     Tokyo  200  \n11  1668341    Taipei  200  \n12  1701668    Manila  200  \n13  2193733  Auckland  200  \n14  1835848     Seoul  200  \n\n[15 rows x 27 columns]\n"
     ]
    }
   ],
   "source": [
    "url = 'http://api.openweathermap.org/data/2.5/weather?'\n",
    "#location = \"q=Hamburg\" #not needed anymore\n",
    "locations = [\"q=Hamburg\", \n",
    "             \"q=Berlin\", \n",
    "             \"q=London\", \n",
    "             \"q=Madrid\",\n",
    "             \"q=New York\",\n",
    "             \"q=Moscow\",\n",
    "             \"q=New York\",\n",
    "             \"q=Ankara\",\n",
    "             \"q=Baghdad\",\n",
    "             \"q=Kabul\",\n",
    "             \"q=Tokio\",\n",
    "             \"q=Taipei\",\n",
    "             \"q=Manila\",\n",
    "             \"q=Auckland\",\n",
    "             \"q=Seoul\"]\n",
    "unit = \"&units=metric\"\n",
    "api_key = \"&appid=a879011fad349c3125e6166bc72f9e91\" #Add your API key here\n",
    "weather_df = pd.DataFrame([]) #Empty DataFrame, used to append each location's weather data\n",
    "\n",
    "for location in locations:\n",
    "    url_f = url + location + unit + api_key\n",
    "    r = requests.get(url_f)\n",
    "    # time.sleep(1) #uncomment if you run into a query limit\n",
    "    weather_temp = r.json()\n",
    "    weather_temp_df = pd.json_normalize(weather_temp, \n",
    "                                        sep=\"_\", \n",
    "                                        record_path=\"weather\", \n",
    "                                        meta=[[\"coord\", \"lon\"], \n",
    "                                              [\"coord\", \"lat\"], \n",
    "                                              \"base\",\n",
    "                                              [\"main\", \"temp\"],\n",
    "                                              [\"main\", \"feels_like\"],\n",
    "                                              [\"main\", \"temp_min\"],\n",
    "                                              [\"main\", \"temp_max\"], \n",
    "                                              [\"main\", \"pressure\"], \n",
    "                                              [\"main\", \"humidity\"], \n",
    "                                              \"visibility\", \n",
    "                                              [\"wind\", \"speed\"], \n",
    "                                              [\"wind\", \"deg\"], \n",
    "                                              [\"clouds\", \"all\"], \n",
    "                                              \"dt\", \n",
    "                                              [\"sys\", \"type\"], \n",
    "                                              [\"sys\", \"id\"],\n",
    "                                              [\"sys\", \"country\"],\n",
    "                                              [\"sys\", \"sunrise\"],\n",
    "                                              [\"sys\", \"sunset\"],\n",
    "                                              \"timezone\",\n",
    "                                              \"id\",\n",
    "                                              \"name\",\n",
    "                                              \"cod\"], \n",
    "                                        record_prefix=\"weather_\")\n",
    "    weather_df = weather_df.append(weather_temp_df, ignore_index=True)\n",
    "\n",
    "print(weather_df)"
   ]
  },
  {
   "source": [
    "Fantastic! Now we have a DataFrame with current weather information for 15 locations. What's even better, we didn't have to write a lot of complicated code. How cool is that!?"
   ],
   "cell_type": "markdown",
   "metadata": {}
  },
  {
   "cell_type": "code",
   "execution_count": null,
   "id": "f4338e50-44df-453a-8e81-fd39c77dcf4d",
   "metadata": {},
   "outputs": [],
   "source": [
    "# Loading JSONs in Python\n",
    "import json\n",
    "with open('weather_hamburg.json', 'r') as json_file:\n",
    "    weather_hh = json.load(json_file)\n",
    "\n",
    "# Exploring JSONs in Python\n",
    "for key, value in weather_hh.items():\n",
    "    print(key + ':', value)"
   ]
  }
 ],
 "metadata": {
  "kernelspec": {
   "name": "python394jvsc74a57bd0c6c0458afc8d68755a57b662ffc4d312357929f43b4a282457f582a4bbebb63b",
   "display_name": "Python 3.9.4 64-bit ('base': conda)"
  },
  "language_info": {
   "codemirror_mode": {
    "name": "ipython",
    "version": 3
   },
   "file_extension": ".py",
   "mimetype": "text/x-python",
   "name": "python",
   "nbconvert_exporter": "python",
   "pygments_lexer": "ipython3",
   "version": "3.9.4"
  }
 },
 "nbformat": 4,
 "nbformat_minor": 5
}